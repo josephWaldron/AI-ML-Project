{
 "cells": [
  {
   "cell_type": "markdown",
   "source": [
    "# 0. Install Dependencies"
   ],
   "metadata": {
    "collapsed": false
   },
   "id": "637b68e91d9a2442"
  },
  {
   "cell_type": "code",
   "execution_count": 13,
   "id": "initial_id",
   "metadata": {
    "collapsed": true,
    "ExecuteTime": {
     "end_time": "2023-12-12T15:57:32.976947100Z",
     "start_time": "2023-12-12T15:57:24.904406Z"
    }
   },
   "outputs": [
    {
     "name": "stdout",
     "output_type": "stream",
     "text": [
      "Requirement already satisfied: torch in c:\\users\\gabri\\pycharmprojects\\ai-ml-project\\.venv\\lib\\site-packages (2.1.1)\n",
      "Requirement already satisfied: filelock in c:\\users\\gabri\\pycharmprojects\\ai-ml-project\\.venv\\lib\\site-packages (from torch) (3.13.1)\n",
      "Requirement already satisfied: typing-extensions in c:\\users\\gabri\\pycharmprojects\\ai-ml-project\\.venv\\lib\\site-packages (from torch) (4.8.0)\n",
      "Requirement already satisfied: sympy in c:\\users\\gabri\\pycharmprojects\\ai-ml-project\\.venv\\lib\\site-packages (from torch) (1.12)\n",
      "Requirement already satisfied: networkx in c:\\users\\gabri\\pycharmprojects\\ai-ml-project\\.venv\\lib\\site-packages (from torch) (3.2.1)\n",
      "Requirement already satisfied: jinja2 in c:\\users\\gabri\\pycharmprojects\\ai-ml-project\\.venv\\lib\\site-packages (from torch) (3.1.2)\n",
      "Requirement already satisfied: fsspec in c:\\users\\gabri\\pycharmprojects\\ai-ml-project\\.venv\\lib\\site-packages (from torch) (2023.12.1)\n",
      "Requirement already satisfied: MarkupSafe>=2.0 in c:\\users\\gabri\\pycharmprojects\\ai-ml-project\\.venv\\lib\\site-packages (from jinja2->torch) (2.1.3)\n",
      "Requirement already satisfied: mpmath>=0.19 in c:\\users\\gabri\\pycharmprojects\\ai-ml-project\\.venv\\lib\\site-packages (from sympy->torch) (1.3.0)\n"
     ]
    },
    {
     "name": "stderr",
     "output_type": "stream",
     "text": [
      "\n",
      "[notice] A new release of pip available: 22.3.1 -> 23.3.1\n",
      "[notice] To update, run: python.exe -m pip install --upgrade pip\n"
     ]
    },
    {
     "name": "stdout",
     "output_type": "stream",
     "text": [
      "Requirement already satisfied: torchvision in c:\\users\\gabri\\pycharmprojects\\ai-ml-project\\.venv\\lib\\site-packages (0.16.1)\n",
      "Requirement already satisfied: numpy in c:\\users\\gabri\\pycharmprojects\\ai-ml-project\\.venv\\lib\\site-packages (from torchvision) (1.26.2)\n",
      "Requirement already satisfied: requests in c:\\users\\gabri\\pycharmprojects\\ai-ml-project\\.venv\\lib\\site-packages (from torchvision) (2.31.0)\n",
      "Requirement already satisfied: torch==2.1.1 in c:\\users\\gabri\\pycharmprojects\\ai-ml-project\\.venv\\lib\\site-packages (from torchvision) (2.1.1)\n",
      "Requirement already satisfied: pillow!=8.3.*,>=5.3.0 in c:\\users\\gabri\\pycharmprojects\\ai-ml-project\\.venv\\lib\\site-packages (from torchvision) (10.1.0)\n",
      "Requirement already satisfied: filelock in c:\\users\\gabri\\pycharmprojects\\ai-ml-project\\.venv\\lib\\site-packages (from torch==2.1.1->torchvision) (3.13.1)\n",
      "Requirement already satisfied: typing-extensions in c:\\users\\gabri\\pycharmprojects\\ai-ml-project\\.venv\\lib\\site-packages (from torch==2.1.1->torchvision) (4.8.0)\n",
      "Requirement already satisfied: sympy in c:\\users\\gabri\\pycharmprojects\\ai-ml-project\\.venv\\lib\\site-packages (from torch==2.1.1->torchvision) (1.12)\n",
      "Requirement already satisfied: networkx in c:\\users\\gabri\\pycharmprojects\\ai-ml-project\\.venv\\lib\\site-packages (from torch==2.1.1->torchvision) (3.2.1)\n",
      "Requirement already satisfied: jinja2 in c:\\users\\gabri\\pycharmprojects\\ai-ml-project\\.venv\\lib\\site-packages (from torch==2.1.1->torchvision) (3.1.2)\n",
      "Requirement already satisfied: fsspec in c:\\users\\gabri\\pycharmprojects\\ai-ml-project\\.venv\\lib\\site-packages (from torch==2.1.1->torchvision) (2023.12.1)\n",
      "Requirement already satisfied: charset-normalizer<4,>=2 in c:\\users\\gabri\\pycharmprojects\\ai-ml-project\\.venv\\lib\\site-packages (from requests->torchvision) (3.3.2)\n",
      "Requirement already satisfied: idna<4,>=2.5 in c:\\users\\gabri\\pycharmprojects\\ai-ml-project\\.venv\\lib\\site-packages (from requests->torchvision) (3.6)\n",
      "Requirement already satisfied: urllib3<3,>=1.21.1 in c:\\users\\gabri\\pycharmprojects\\ai-ml-project\\.venv\\lib\\site-packages (from requests->torchvision) (2.1.0)\n",
      "Requirement already satisfied: certifi>=2017.4.17 in c:\\users\\gabri\\pycharmprojects\\ai-ml-project\\.venv\\lib\\site-packages (from requests->torchvision) (2023.11.17)\n",
      "Requirement already satisfied: MarkupSafe>=2.0 in c:\\users\\gabri\\pycharmprojects\\ai-ml-project\\.venv\\lib\\site-packages (from jinja2->torch==2.1.1->torchvision) (2.1.3)\n",
      "Requirement already satisfied: mpmath>=0.19 in c:\\users\\gabri\\pycharmprojects\\ai-ml-project\\.venv\\lib\\site-packages (from sympy->torch==2.1.1->torchvision) (1.3.0)\n"
     ]
    },
    {
     "name": "stderr",
     "output_type": "stream",
     "text": [
      "\n",
      "[notice] A new release of pip available: 22.3.1 -> 23.3.1\n",
      "[notice] To update, run: python.exe -m pip install --upgrade pip\n"
     ]
    }
   ],
   "source": [
    "!pip install torch\n",
    "!pip install torchvision"
   ]
  },
  {
   "cell_type": "markdown",
   "source": [
    "# 1. Import required libraries"
   ],
   "metadata": {
    "collapsed": false
   },
   "id": "7e16f24abe93089"
  },
  {
   "cell_type": "code",
   "execution_count": 14,
   "outputs": [],
   "source": [
    "import torch\n",
    "import torchvision\n",
    "import torchvision.transforms as transforms\n",
    "from torch.utils.data import DataLoader\n",
    "from torchvision.datasets import ImageFolder\n",
    "import torch.nn as nn\n",
    "import torch.nn.functional as F\n",
    "import torch.optim as optim\n",
    "import numpy as np\n",
    "import matplotlib as plt\n",
    "from sklearn.metrics import confusion_matrix, accuracy_score\n"
   ],
   "metadata": {
    "collapsed": false,
    "ExecuteTime": {
     "end_time": "2023-12-12T15:57:35.916261500Z",
     "start_time": "2023-12-12T15:57:32.987954700Z"
    }
   },
   "id": "e4c5a42586c7571c"
  },
  {
   "cell_type": "markdown",
   "source": [
    "# 2. Load the dataset"
   ],
   "metadata": {
    "collapsed": false
   },
   "id": "26740c73db63c971"
  },
  {
   "cell_type": "code",
   "execution_count": 16,
   "outputs": [],
   "source": [
    "train_transform = transforms.Compose([\n",
    "    transforms.Resize((256, 256)),\n",
    "    transforms.ToTensor(),\n",
    "])\n",
    "\n",
    "test_val_transform = transforms.Compose([\n",
    "    transforms.Resize((256, 256)),\n",
    "    transforms.ToTensor(),\n",
    "])\n",
    "\n",
    "train_dataset = ImageFolder(root='archive/train', transform=train_transform)\n",
    "test_dataset = ImageFolder(root='archive/test', transform=test_val_transform)\n",
    "\n",
    "batch_size = 4\n",
    "train_loader = DataLoader(train_dataset, batch_size=batch_size, shuffle=True)\n",
    "test_loader = DataLoader(test_dataset, batch_size=batch_size, shuffle=False)\n"
   ],
   "metadata": {
    "collapsed": false,
    "ExecuteTime": {
     "end_time": "2023-12-12T15:58:58.444375600Z",
     "start_time": "2023-12-12T15:58:57.282784600Z"
    }
   },
   "id": "4decb5e0b808559c"
  },
  {
   "cell_type": "markdown",
   "source": [],
   "metadata": {
    "collapsed": false
   },
   "id": "6ae0b066a1dd9fc"
  },
  {
   "cell_type": "markdown",
   "source": [
    "# 3. Define the CNN Model\n"
   ],
   "metadata": {
    "collapsed": false
   },
   "id": "a893ab557844afc4"
  },
  {
   "cell_type": "code",
   "execution_count": 17,
   "outputs": [],
   "source": [
    "class CNN(nn.Module):\n",
    "    def __init__(self):\n",
    "        super().__init__()\n",
    "        self.conv1 = nn.Conv2d(3, 6, 5)\n",
    "        self.pool = nn.MaxPool2d(2, 2)\n",
    "        self.conv2 = nn.Conv2d(6, 16, 5)\n",
    "        self.fc1 = nn.Linear(16 * 5 * 5, 120)\n",
    "        self.fc2 = nn.Linear(120, 84)\n",
    "        self.fc3 = nn.Linear(84, 10)\n",
    "\n",
    "    def forward(self, x):\n",
    "        x = self.pool(F.relu(self.conv1(x)))\n",
    "        x = self.pool(F.relu(self.conv2(x)))\n",
    "        x = torch.flatten(x, 1) # flatten all dimensions except batch\n",
    "        x = F.relu(self.fc1(x))\n",
    "        x = F.relu(self.fc2(x))\n",
    "        x = self.fc3(x)\n",
    "        return x\n",
    "\n",
    "model = CNN()\n"
   ],
   "metadata": {
    "collapsed": false,
    "ExecuteTime": {
     "end_time": "2023-12-12T15:59:01.688774200Z",
     "start_time": "2023-12-12T15:59:01.628826900Z"
    }
   },
   "id": "cb21d812118f8b60"
  },
  {
   "cell_type": "markdown",
   "source": [
    "# 4. Define Loss Function and Optimizer\n"
   ],
   "metadata": {
    "collapsed": false
   },
   "id": "2659c2276b8cd294"
  },
  {
   "cell_type": "code",
   "execution_count": 18,
   "outputs": [],
   "source": [
    "loss_function = nn.CrossEntropyLoss()\n",
    "optimizer = optim.SGD(model.parameters(), lr=0.001, momentum=0.9)"
   ],
   "metadata": {
    "collapsed": false,
    "ExecuteTime": {
     "end_time": "2023-12-12T15:59:02.461927400Z",
     "start_time": "2023-12-12T15:59:02.415436600Z"
    }
   },
   "id": "ddbe22b8db67b8ee"
  },
  {
   "cell_type": "markdown",
   "source": [
    "# 5. Define Training Function"
   ],
   "metadata": {
    "collapsed": false
   },
   "id": "4952f41e5db684ec"
  },
  {
   "cell_type": "code",
   "execution_count": 19,
   "outputs": [],
   "source": [
    "def train_model(epoch_num):\n",
    "    epoch_train_loss = []\n",
    "    epoch_test_loss = []\n",
    "    for epoch in range(epoch_num):\n",
    "        train_loss = []\n",
    "        model.train()\n",
    "        for batch_idx, (image, label) in enumerate(train_loader):\n",
    "            image = image.to(\"cuda\")\n",
    "            label = label.to(\"cuda\")\n",
    "            optimizer.zero_grad()\n",
    "            # feed forword\n",
    "            output = model(image)\n",
    "            # calculate loss\n",
    "            loss = loss_function(output, label)\n",
    "            # calculate direviate\n",
    "            loss.backward()\n",
    "            # Performs a single optimization step (parameter update).\n",
    "            optimizer.step()\n",
    "            train_loss.append(loss.item())\n",
    "        print(f'Epoch [{epoch + 1}/{epoch_num}], Train Loss: {np.mean(train_loss):.4f}')\n",
    "    \n",
    "        epoch_train_loss.append(np.mean(train_loss))\n",
    "        # predict results for test images:\n",
    "        model.eval()\n",
    "        test_loss = []\n",
    "        for batch_idx, (image, label) in enumerate(test_loader):\n",
    "            image = image.to(\"cuda\")\n",
    "            label = label.to(\"cuda\")\n",
    "            # feed forword\n",
    "            output = model(image)\n",
    "            # calculate loss\n",
    "            loss = loss_function(output, label)\n",
    "            test_loss.append(loss.item())\n",
    "        print(f'Epoch [{epoch + 1}/{epoch_num}], Test Loss: {np.mean(test_loss):.4f}')\n",
    "    \n",
    "        epoch_test_loss.append(np.mean(test_loss))\n",
    "    \n",
    "    plt.plot(epoch_train_loss)\n",
    "    plt.plot(epoch_test_loss)"
   ],
   "metadata": {
    "collapsed": false,
    "ExecuteTime": {
     "end_time": "2023-12-12T15:59:03.130539700Z",
     "start_time": "2023-12-12T15:59:03.098944500Z"
    }
   },
   "id": "36628b79f83f84c6"
  },
  {
   "cell_type": "markdown",
   "source": [
    "# 6. Define Model Testing Function\n"
   ],
   "metadata": {
    "collapsed": false
   },
   "id": "8de0c2b3e47fa5ca"
  },
  {
   "cell_type": "code",
   "execution_count": 20,
   "outputs": [],
   "source": [
    "def test_model():\n",
    "    y_test = []\n",
    "    \n",
    "    y_test_predict = []\n",
    "    \n",
    "    model.eval()\n",
    "    \n",
    "    for image, label in test_loader:\n",
    "        image = image.to(\"cuda\")\n",
    "        label = label.to(\"cuda\")\n",
    "        y = model(image).detach().cpu().numpy()[0]\n",
    "        y_predict = np.argmax(y)\n",
    "        y_test_predict.append(y_predict)\n",
    "        y_test.append(label.cpu().numpy()[0])\n",
    "    \n",
    "    print(y_test_predict)\n",
    "    print(y_test)\n",
    "    \n",
    "    cm = confusion_matrix(y_test, y_test_predict)\n",
    "    print(cm)\n",
    "    \n",
    "    print(\"acc: \", accuracy_score(y_test, y_test_predict))"
   ],
   "metadata": {
    "collapsed": false,
    "ExecuteTime": {
     "end_time": "2023-12-12T15:59:03.655503500Z",
     "start_time": "2023-12-12T15:59:03.647911500Z"
    }
   },
   "id": "de89db8e8c94c88b"
  },
  {
   "cell_type": "markdown",
   "source": [
    "# 7. Execute training, and testing\n"
   ],
   "metadata": {
    "collapsed": false
   },
   "id": "a4576ee7bea928d4"
  },
  {
   "cell_type": "code",
   "execution_count": 21,
   "outputs": [
    {
     "ename": "AssertionError",
     "evalue": "Torch not compiled with CUDA enabled",
     "output_type": "error",
     "traceback": [
      "\u001B[1;31m---------------------------------------------------------------------------\u001B[0m",
      "\u001B[1;31mAssertionError\u001B[0m                            Traceback (most recent call last)",
      "Cell \u001B[1;32mIn[21], line 2\u001B[0m\n\u001B[0;32m      1\u001B[0m NUM_EPOCHS \u001B[38;5;241m=\u001B[39m \u001B[38;5;241m100\u001B[39m \u001B[38;5;66;03m# define number of epochs\u001B[39;00m\n\u001B[1;32m----> 2\u001B[0m \u001B[43mtrain_model\u001B[49m\u001B[43m(\u001B[49m\u001B[43mNUM_EPOCHS\u001B[49m\u001B[43m)\u001B[49m\n\u001B[0;32m      3\u001B[0m test_model()\n",
      "Cell \u001B[1;32mIn[19], line 8\u001B[0m, in \u001B[0;36mtrain_model\u001B[1;34m(epoch_num)\u001B[0m\n\u001B[0;32m      6\u001B[0m model\u001B[38;5;241m.\u001B[39mtrain()\n\u001B[0;32m      7\u001B[0m \u001B[38;5;28;01mfor\u001B[39;00m batch_idx, (image, label) \u001B[38;5;129;01min\u001B[39;00m \u001B[38;5;28menumerate\u001B[39m(train_loader):\n\u001B[1;32m----> 8\u001B[0m     image \u001B[38;5;241m=\u001B[39m \u001B[43mimage\u001B[49m\u001B[38;5;241;43m.\u001B[39;49m\u001B[43mto\u001B[49m\u001B[43m(\u001B[49m\u001B[38;5;124;43m\"\u001B[39;49m\u001B[38;5;124;43mcuda\u001B[39;49m\u001B[38;5;124;43m\"\u001B[39;49m\u001B[43m)\u001B[49m\n\u001B[0;32m      9\u001B[0m     label \u001B[38;5;241m=\u001B[39m label\u001B[38;5;241m.\u001B[39mto(\u001B[38;5;124m\"\u001B[39m\u001B[38;5;124mcuda\u001B[39m\u001B[38;5;124m\"\u001B[39m)\n\u001B[0;32m     10\u001B[0m     optimizer\u001B[38;5;241m.\u001B[39mzero_grad()\n",
      "File \u001B[1;32m~\\PycharmProjects\\AI-ML-Project\\.venv\\Lib\\site-packages\\torch\\cuda\\__init__.py:289\u001B[0m, in \u001B[0;36m_lazy_init\u001B[1;34m()\u001B[0m\n\u001B[0;32m    284\u001B[0m     \u001B[38;5;28;01mraise\u001B[39;00m \u001B[38;5;167;01mRuntimeError\u001B[39;00m(\n\u001B[0;32m    285\u001B[0m         \u001B[38;5;124m\"\u001B[39m\u001B[38;5;124mCannot re-initialize CUDA in forked subprocess. To use CUDA with \u001B[39m\u001B[38;5;124m\"\u001B[39m\n\u001B[0;32m    286\u001B[0m         \u001B[38;5;124m\"\u001B[39m\u001B[38;5;124mmultiprocessing, you must use the \u001B[39m\u001B[38;5;124m'\u001B[39m\u001B[38;5;124mspawn\u001B[39m\u001B[38;5;124m'\u001B[39m\u001B[38;5;124m start method\u001B[39m\u001B[38;5;124m\"\u001B[39m\n\u001B[0;32m    287\u001B[0m     )\n\u001B[0;32m    288\u001B[0m \u001B[38;5;28;01mif\u001B[39;00m \u001B[38;5;129;01mnot\u001B[39;00m \u001B[38;5;28mhasattr\u001B[39m(torch\u001B[38;5;241m.\u001B[39m_C, \u001B[38;5;124m\"\u001B[39m\u001B[38;5;124m_cuda_getDeviceCount\u001B[39m\u001B[38;5;124m\"\u001B[39m):\n\u001B[1;32m--> 289\u001B[0m     \u001B[38;5;28;01mraise\u001B[39;00m \u001B[38;5;167;01mAssertionError\u001B[39;00m(\u001B[38;5;124m\"\u001B[39m\u001B[38;5;124mTorch not compiled with CUDA enabled\u001B[39m\u001B[38;5;124m\"\u001B[39m)\n\u001B[0;32m    290\u001B[0m \u001B[38;5;28;01mif\u001B[39;00m _cudart \u001B[38;5;129;01mis\u001B[39;00m \u001B[38;5;28;01mNone\u001B[39;00m:\n\u001B[0;32m    291\u001B[0m     \u001B[38;5;28;01mraise\u001B[39;00m \u001B[38;5;167;01mAssertionError\u001B[39;00m(\n\u001B[0;32m    292\u001B[0m         \u001B[38;5;124m\"\u001B[39m\u001B[38;5;124mlibcudart functions unavailable. It looks like you have a broken build?\u001B[39m\u001B[38;5;124m\"\u001B[39m\n\u001B[0;32m    293\u001B[0m     )\n",
      "\u001B[1;31mAssertionError\u001B[0m: Torch not compiled with CUDA enabled"
     ]
    }
   ],
   "source": [
    "NUM_EPOCHS = 100 # define number of epochs\n",
    "train_model(NUM_EPOCHS)\n",
    "test_model()"
   ],
   "metadata": {
    "collapsed": false,
    "ExecuteTime": {
     "end_time": "2023-12-12T15:59:04.512073600Z",
     "start_time": "2023-12-12T15:59:04.163700900Z"
    }
   },
   "id": "55a33b171da1ffd3"
  },
  {
   "cell_type": "markdown",
   "source": [],
   "metadata": {
    "collapsed": false
   },
   "id": "b150f2664a72e9f1"
  },
  {
   "cell_type": "markdown",
   "source": [],
   "metadata": {
    "collapsed": false
   },
   "id": "e22352a8a611d3b4"
  }
 ],
 "metadata": {
  "kernelspec": {
   "display_name": "Python 3",
   "language": "python",
   "name": "python3"
  },
  "language_info": {
   "codemirror_mode": {
    "name": "ipython",
    "version": 2
   },
   "file_extension": ".py",
   "mimetype": "text/x-python",
   "name": "python",
   "nbconvert_exporter": "python",
   "pygments_lexer": "ipython2",
   "version": "2.7.6"
  }
 },
 "nbformat": 4,
 "nbformat_minor": 5
}
