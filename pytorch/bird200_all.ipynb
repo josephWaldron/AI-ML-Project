{
  "cells": [
    {
      "cell_type": "code",
      "execution_count": 1,
      "metadata": {
        "colab": {
          "base_uri": "https://localhost:8080/"
        },
        "id": "KSLWvxmn4bCj",
        "outputId": "220ee697-0659-4f0a-91c8-a41e71f96e6b"
      },
      "outputs": [
        {
          "name": "stdout",
          "output_type": "stream",
          "text": [
            "Current Working Directory:  C:\\Users\\ODIN\\Desktop\\ml_final\n"
          ]
        }
      ],
      "source": [
        "import os\n",
        "\n",
        "run_on_local = 1\n",
        "\n",
        "if run_on_local == 1:\n",
        "    working_directory = r'C:\\Users\\ODIN\\Desktop\\ml_final'\n",
        "    os.chdir(working_directory)\n",
        "    print(\"Current Working Directory: \", os.getcwd())\n",
        "else:\n",
        "    from google.colab import drive\n",
        "    drive.mount('/content/drive')\n",
        "    !mkdir /content/data\n",
        "    !tar -xvzf /content/drive/MyDrive/ML_final/CUB_200_2011.tgz -C /content/data"
      ]
    },
    {
      "cell_type": "code",
      "execution_count": 2,
      "metadata": {
        "id": "Tjmz-ZU55ROM"
      },
      "outputs": [],
      "source": [
        "import time\n",
        "import torch\n",
        "import torchvision\n",
        "import torchvision.transforms as transforms\n",
        "from torch.utils.data import DataLoader\n",
        "from torchvision.datasets import ImageFolder\n",
        "import torch.nn as nn\n",
        "import torch.nn.functional as F\n",
        "import torch.optim as optim\n",
        "from torch.utils.data import Dataset\n",
        "\n",
        "import numpy as np\n",
        "import pandas as pd\n",
        "\n",
        "import matplotlib.pyplot as plt\n",
        "\n",
        "import tqdm\n",
        "from sklearn.metrics import confusion_matrix, accuracy_score\n",
        "from sklearn.model_selection import train_test_split\n",
        "from sklearn.preprocessing import LabelEncoder, StandardScaler\n"
      ]
    },
    {
      "cell_type": "code",
      "execution_count": 3,
      "metadata": {
        "colab": {
          "base_uri": "https://localhost:8080/"
        },
        "id": "j2OcFdJ5yGgN",
        "outputId": "985d90c1-7b9b-4958-cf0a-0dacd0bb2d3f"
      },
      "outputs": [
        {
          "name": "stdout",
          "output_type": "stream",
          "text": [
            "C:\\Users\\ODIN\\Desktop\\ml_final\n"
          ]
        }
      ],
      "source": [
        "if run_on_local == 1:\n",
        "    %cd C:\\Users\\ODIN\\Desktop\\ml_final\\"
      ]
    },
    {
      "cell_type": "code",
      "execution_count": 4,
      "metadata": {
        "id": "g-LeR3lbWBTJ"
      },
      "outputs": [],
      "source": [
        "# Create Training/Val Loss Graphs\n",
        "def create_graph(epoch_train_loss, epoch_val_loss):\n",
        "    plt.plot(epoch_train_loss, label='Training Loss')\n",
        "    plt.plot(epoch_val_loss, label='Val Loss')\n",
        "    plt.xlabel('Epoch')\n",
        "    plt.ylabel('Loss')\n",
        "    plt.legend()\n",
        "    return plt.show()\n"
      ]
    },
    {
      "cell_type": "code",
      "execution_count": 5,
      "metadata": {
        "id": "nvv4Qpq3K3ql"
      },
      "outputs": [],
      "source": [
        "# Early Stopping\n",
        "# https://www.youtube.com/watch?v=lMMlbmfvKDQ\n",
        "# https://github.com/jeffheaton/app_deep_learning/blob/main/t81_558_class_03_4_early_stop.ipynb\n",
        "\n",
        "import copy\n",
        "\n",
        "class EarlyStopping:\n",
        "    def __init__(self, patience=5, min_delta=0, restore_best_weights=True):\n",
        "        self.patience = patience\n",
        "        self.min_delta = min_delta\n",
        "        self.restore_best_weights = restore_best_weights\n",
        "        self.best_model = None\n",
        "        self.best_loss = None\n",
        "        self.counter = 0\n",
        "        self.status = \"\"\n",
        "\n",
        "    def __call__(self, model, val_loss):\n",
        "        if self.best_loss is None:\n",
        "            self.best_loss = val_loss\n",
        "            self.best_model = copy.deepcopy(model.state_dict())\n",
        "        elif self.best_loss - val_loss >= self.min_delta:\n",
        "            self.best_model = copy.deepcopy(model.state_dict())\n",
        "            self.best_loss = val_loss\n",
        "            self.counter = 0\n",
        "            self.status = f\"Improvement found, counter reset to {self.counter}\"\n",
        "        else:\n",
        "            self.counter += 1\n",
        "            self.status = f\"No improvement in the last {self.counter} epochs\"\n",
        "            if self.counter >= self.patience:\n",
        "                self.status = f\"Early stopping triggered after {self.counter} epochs.\"\n",
        "                if self.restore_best_weights:\n",
        "                    model.load_state_dict(self.best_model)\n",
        "                return True\n",
        "        return False\n"
      ]
    },
    {
      "cell_type": "code",
      "execution_count": 6,
      "metadata": {
        "colab": {
          "base_uri": "https://localhost:8080/"
        },
        "id": "YpS8HH4GMtT7",
        "outputId": "7deb8cad-d91e-4c1d-c04f-bfc319a50e5a"
      },
      "outputs": [
        {
          "name": "stdout",
          "output_type": "stream",
          "text": [
            "[Inception_V3_Weights.IMAGENET1K_V1]\n"
          ]
        },
        {
          "name": "stderr",
          "output_type": "stream",
          "text": [
            "Using cache found in C:\\Users\\ODIN/.cache\\torch\\hub\\pytorch_vision_main\n"
          ]
        }
      ],
      "source": [
        "#check aviable weights\n",
        "import torch\n",
        "\n",
        "weight_enum = torch.hub.load(\"pytorch/vision\", \"get_model_weights\", name=\"inception_v3\")\n",
        "print([weight for weight in weight_enum])"
      ]
    },
    {
      "cell_type": "markdown",
      "metadata": {
        "id": "lf92R8WMFU9W"
      },
      "source": [
        "#VGG16"
      ]
    },
    {
      "cell_type": "code",
      "execution_count": 7,
      "metadata": {
        "colab": {
          "base_uri": "https://localhost:8080/"
        },
        "id": "5geN9rDR9ND-",
        "outputId": "ed2989b8-4cbd-4e5a-a0fc-7e27c2b7742f"
      },
      "outputs": [
        {
          "name": "stdout",
          "output_type": "stream",
          "text": [
            "Dataset ImageFolder\n",
            "    Number of datapoints: 11788\n",
            "    Root location: ./content/data/CUB_200_2011/images\n",
            "    StandardTransform\n",
            "Transform: Compose(\n",
            "               Resize(size=224, interpolation=bilinear, max_size=None, antialias=warn)\n",
            "               RandomHorizontalFlip(p=0.5)\n",
            "               RandomVerticalFlip(p=0.5)\n",
            "               RandomRotation(degrees=[-45.0, 45.0], interpolation=nearest, expand=False, fill=0)\n",
            "               ColorJitter(brightness=(0.5, 1.5), contrast=(0.5, 1.5), saturation=(0.5, 1.5), hue=(-0.5, 0.5))\n",
            "               CenterCrop(size=(224, 224))\n",
            "               ToTensor()\n",
            "               Normalize(mean=[0.485, 0.456, 0.406], std=[0.229, 0.224, 0.225])\n",
            "           ) 9432 1178 1178 11788\n"
          ]
        }
      ],
      "source": [
        "transform = transforms.Compose([\n",
        "    transforms.Resize((224)),\n",
        "    transforms.RandomHorizontalFlip(),\n",
        "    transforms.RandomVerticalFlip(),\n",
        "    transforms.RandomRotation(degrees=45),\n",
        "    transforms.ColorJitter(brightness=0.5, contrast=0.5, saturation=0.5, hue=0.5),\n",
        "    transforms.CenterCrop(224),\n",
        "    transforms.ToTensor(),\n",
        "    transforms.Normalize(mean=[0.485, 0.456, 0.406], std=[0.229, 0.224, 0.225])\n",
        "])\n",
        "\n",
        "\n",
        "#dataset = torchvision.datasets.ImageFolder(root='/content/data/CUB_200_2011/images', transform=transform\n",
        "dataset = torchvision.datasets.ImageFolder(root='./content/data/CUB_200_2011/images', transform=transform)\n",
        "# Split to 80%/10%/10%\n",
        "\n",
        "train_split = int(len(dataset) * .8)\n",
        "val_split = int(len(dataset) * .1)\n",
        "test_split = int(len(dataset) * .1)\n",
        "\n",
        "#Make sure splits match 1:1 with dataset\n",
        "total = train_split + val_split + test_split\n",
        "if total < len(dataset):\n",
        "    train_split = train_split + (len(dataset) - total)\n",
        "\n",
        "\n",
        "\n",
        "print(dataset, train_split, val_split, test_split, train_split + val_split + test_split )\n",
        "train, val, test = torch.utils.data.random_split(dataset, [train_split, val_split, test_split])\n",
        "\n",
        "num_workers=2\n",
        "batch_size=16\n",
        "\n",
        "trainLoader = DataLoader(train , batch_size=batch_size,\n",
        "                                           num_workers=num_workers,  shuffle=True)\n",
        "valLoader = DataLoader(val, batch_size=batch_size,\n",
        "                                          num_workers=num_workers )\n",
        "testLoader = DataLoader(test, batch_size=batch_size,\n",
        "                                          num_workers=num_workers)\n"
      ]
    },
    {
      "cell_type": "code",
      "execution_count": 8,
      "metadata": {
        "colab": {
          "base_uri": "https://localhost:8080/"
        },
        "id": "ZgvpStyfJ3XB",
        "outputId": "640da1e0-3438-4a32-ca9d-90216ccaa880"
      },
      "outputs": [
        {
          "name": "stdout",
          "output_type": "stream",
          "text": [
            "VGG16_Weights.IMAGENET1K_V1\n",
            "classes: 200\n"
          ]
        }
      ],
      "source": [
        "import torchvision.models as models\n",
        "\n",
        "torch.cuda.empty_cache()\n",
        "\n",
        "weightz = models.get_model_weights(\"vgg16\")\n",
        "weightz = weightz.DEFAULT\n",
        "print(weightz)\n",
        "\n",
        "vgg16 = models.vgg16(weights=weightz)\n",
        "\n",
        "num_classes = len(dataset.classes)\n",
        "print(\"classes:\", num_classes)\n",
        "\n",
        "vgg16.classifier[6] = torch.nn.Linear(vgg16.classifier[6].in_features, num_classes)\n",
        "\n",
        "# Create an object of the model\n",
        "vgg16 = vgg16.to(\"cuda\")\n",
        "\n",
        "# optimizer\n",
        "optimizer = optim.RMSprop(vgg16.parameters(), lr=1e-4)\n",
        "\n",
        "# Loss\n",
        "loss_function = nn.CrossEntropyLoss()"
      ]
    },
    {
      "cell_type": "code",
      "execution_count": 9,
      "metadata": {
        "id": "HFtoJasyfqAu"
      },
      "outputs": [
        {
          "name": "stderr",
          "output_type": "stream",
          "text": [
            "Epoch: [1/200], Train Loss: 5.1739: 100%|██████████| 590/590 [00:49<00:00, 12.00it/s]\n"
          ]
        },
        {
          "name": "stdout",
          "output_type": "stream",
          "text": [
            "Epoch [1/200], Val Loss: 5.3384\n"
          ]
        },
        {
          "name": "stderr",
          "output_type": "stream",
          "text": [
            "Epoch: [2/200], Train Loss: 4.7381: 100%|██████████| 590/590 [00:48<00:00, 12.06it/s]\n"
          ]
        },
        {
          "name": "stdout",
          "output_type": "stream",
          "text": [
            "Epoch [2/200], Val Loss: 5.0238\n"
          ]
        },
        {
          "name": "stderr",
          "output_type": "stream",
          "text": [
            "Epoch: [3/200], Train Loss: 4.3891: 100%|██████████| 590/590 [00:48<00:00, 12.12it/s]\n"
          ]
        },
        {
          "name": "stdout",
          "output_type": "stream",
          "text": [
            "Epoch [3/200], Val Loss: 4.7761\n"
          ]
        },
        {
          "name": "stderr",
          "output_type": "stream",
          "text": [
            "Epoch: [4/200], Train Loss: 4.4728: 100%|██████████| 590/590 [00:48<00:00, 12.10it/s]\n"
          ]
        },
        {
          "name": "stdout",
          "output_type": "stream",
          "text": [
            "Epoch [4/200], Val Loss: 4.5127\n"
          ]
        },
        {
          "name": "stderr",
          "output_type": "stream",
          "text": [
            "Epoch: [5/200], Train Loss: 4.6226: 100%|██████████| 590/590 [00:48<00:00, 12.12it/s]\n"
          ]
        },
        {
          "name": "stdout",
          "output_type": "stream",
          "text": [
            "Epoch [5/200], Val Loss: 4.4508\n"
          ]
        },
        {
          "name": "stderr",
          "output_type": "stream",
          "text": [
            "Epoch: [6/200], Train Loss: 4.2480: 100%|██████████| 590/590 [00:48<00:00, 12.15it/s]\n"
          ]
        },
        {
          "name": "stdout",
          "output_type": "stream",
          "text": [
            "Epoch [6/200], Val Loss: 4.5470\n"
          ]
        },
        {
          "name": "stderr",
          "output_type": "stream",
          "text": [
            "Epoch: [7/200], Train Loss: 2.6575: 100%|██████████| 590/590 [00:48<00:00, 12.16it/s]\n"
          ]
        },
        {
          "name": "stdout",
          "output_type": "stream",
          "text": [
            "Epoch [7/200], Val Loss: 3.4427\n"
          ]
        },
        {
          "name": "stderr",
          "output_type": "stream",
          "text": [
            "Epoch: [8/200], Train Loss: 3.2879: 100%|██████████| 590/590 [00:48<00:00, 12.12it/s]\n"
          ]
        },
        {
          "name": "stdout",
          "output_type": "stream",
          "text": [
            "Epoch [8/200], Val Loss: 3.1541\n"
          ]
        },
        {
          "name": "stderr",
          "output_type": "stream",
          "text": [
            "Epoch: [9/200], Train Loss: 4.1197: 100%|██████████| 590/590 [00:48<00:00, 12.14it/s]\n"
          ]
        },
        {
          "name": "stdout",
          "output_type": "stream",
          "text": [
            "Epoch [9/200], Val Loss: 3.2351\n"
          ]
        },
        {
          "name": "stderr",
          "output_type": "stream",
          "text": [
            "Epoch: [10/200], Train Loss: 2.8743: 100%|██████████| 590/590 [00:48<00:00, 12.14it/s]\n"
          ]
        },
        {
          "name": "stdout",
          "output_type": "stream",
          "text": [
            "Epoch [10/200], Val Loss: 2.8402\n"
          ]
        },
        {
          "name": "stderr",
          "output_type": "stream",
          "text": [
            "Epoch: [11/200], Train Loss: 2.5149: 100%|██████████| 590/590 [00:48<00:00, 12.14it/s]\n"
          ]
        },
        {
          "name": "stdout",
          "output_type": "stream",
          "text": [
            "Epoch [11/200], Val Loss: 2.6330\n"
          ]
        },
        {
          "name": "stderr",
          "output_type": "stream",
          "text": [
            "Epoch: [12/200], Train Loss: 2.2009: 100%|██████████| 590/590 [00:48<00:00, 12.11it/s]\n"
          ]
        },
        {
          "name": "stdout",
          "output_type": "stream",
          "text": [
            "Epoch [12/200], Val Loss: 2.5725\n"
          ]
        },
        {
          "name": "stderr",
          "output_type": "stream",
          "text": [
            "Epoch: [13/200], Train Loss: 2.4307: 100%|██████████| 590/590 [00:48<00:00, 12.12it/s]\n"
          ]
        },
        {
          "name": "stdout",
          "output_type": "stream",
          "text": [
            "Epoch [13/200], Val Loss: 2.5110\n"
          ]
        },
        {
          "name": "stderr",
          "output_type": "stream",
          "text": [
            "Epoch: [14/200], Train Loss: 2.1352: 100%|██████████| 590/590 [00:48<00:00, 12.10it/s]\n"
          ]
        },
        {
          "name": "stdout",
          "output_type": "stream",
          "text": [
            "Epoch [14/200], Val Loss: 2.3245\n"
          ]
        },
        {
          "name": "stderr",
          "output_type": "stream",
          "text": [
            "Epoch: [15/200], Train Loss: 1.8090: 100%|██████████| 590/590 [00:48<00:00, 12.11it/s]\n"
          ]
        },
        {
          "name": "stdout",
          "output_type": "stream",
          "text": [
            "Epoch [15/200], Val Loss: 2.5099\n"
          ]
        },
        {
          "name": "stderr",
          "output_type": "stream",
          "text": [
            "Epoch: [16/200], Train Loss: 1.1289: 100%|██████████| 590/590 [00:48<00:00, 12.13it/s]\n"
          ]
        },
        {
          "name": "stdout",
          "output_type": "stream",
          "text": [
            "Epoch [16/200], Val Loss: 2.1743\n"
          ]
        },
        {
          "name": "stderr",
          "output_type": "stream",
          "text": [
            "Epoch: [17/200], Train Loss: 2.2327: 100%|██████████| 590/590 [00:48<00:00, 12.16it/s]\n"
          ]
        },
        {
          "name": "stdout",
          "output_type": "stream",
          "text": [
            "Epoch [17/200], Val Loss: 2.4330\n"
          ]
        },
        {
          "name": "stderr",
          "output_type": "stream",
          "text": [
            "Epoch: [18/200], Train Loss: 1.2988: 100%|██████████| 590/590 [00:48<00:00, 12.16it/s]\n"
          ]
        },
        {
          "name": "stdout",
          "output_type": "stream",
          "text": [
            "Epoch [18/200], Val Loss: 2.1054\n"
          ]
        },
        {
          "name": "stderr",
          "output_type": "stream",
          "text": [
            "Epoch: [19/200], Train Loss: 2.7737: 100%|██████████| 590/590 [00:48<00:00, 12.12it/s]\n"
          ]
        },
        {
          "name": "stdout",
          "output_type": "stream",
          "text": [
            "Epoch [19/200], Val Loss: 2.1236\n"
          ]
        },
        {
          "name": "stderr",
          "output_type": "stream",
          "text": [
            "Epoch: [20/200], Train Loss: 0.8793: 100%|██████████| 590/590 [00:48<00:00, 12.13it/s]\n"
          ]
        },
        {
          "name": "stdout",
          "output_type": "stream",
          "text": [
            "Epoch [20/200], Val Loss: 2.0284\n"
          ]
        },
        {
          "name": "stderr",
          "output_type": "stream",
          "text": [
            "Epoch: [21/200], Train Loss: 0.9149: 100%|██████████| 590/590 [00:47<00:00, 12.31it/s]\n"
          ]
        },
        {
          "name": "stdout",
          "output_type": "stream",
          "text": [
            "Epoch [21/200], Val Loss: 2.0370\n"
          ]
        },
        {
          "name": "stderr",
          "output_type": "stream",
          "text": [
            "Epoch: [22/200], Train Loss: 1.5105: 100%|██████████| 590/590 [00:47<00:00, 12.52it/s]\n"
          ]
        },
        {
          "name": "stdout",
          "output_type": "stream",
          "text": [
            "Epoch [22/200], Val Loss: 2.2706\n"
          ]
        },
        {
          "name": "stderr",
          "output_type": "stream",
          "text": [
            "Epoch: [23/200], Train Loss: 0.5988: 100%|██████████| 590/590 [00:47<00:00, 12.52it/s]\n"
          ]
        },
        {
          "name": "stdout",
          "output_type": "stream",
          "text": [
            "Epoch [23/200], Val Loss: 2.0939\n"
          ]
        },
        {
          "name": "stderr",
          "output_type": "stream",
          "text": [
            "Epoch: [24/200], Train Loss: 2.0816: 100%|██████████| 590/590 [00:47<00:00, 12.52it/s]\n"
          ]
        },
        {
          "name": "stdout",
          "output_type": "stream",
          "text": [
            "Epoch [24/200], Val Loss: 2.1345\n"
          ]
        },
        {
          "name": "stderr",
          "output_type": "stream",
          "text": [
            "Epoch: [25/200], Train Loss: 1.3214: 100%|██████████| 590/590 [00:47<00:00, 12.52it/s]\n"
          ]
        },
        {
          "name": "stdout",
          "output_type": "stream",
          "text": [
            "Epoch [25/200], Val Loss: 2.1616\n"
          ]
        },
        {
          "name": "stderr",
          "output_type": "stream",
          "text": [
            "Epoch: [26/200], Train Loss: 0.6057: 100%|██████████| 590/590 [00:47<00:00, 12.53it/s]\n"
          ]
        },
        {
          "name": "stdout",
          "output_type": "stream",
          "text": [
            "Epoch [26/200], Val Loss: 1.9552\n"
          ]
        },
        {
          "name": "stderr",
          "output_type": "stream",
          "text": [
            "Epoch: [27/200], Train Loss: 1.6533: 100%|██████████| 590/590 [00:47<00:00, 12.53it/s]\n"
          ]
        },
        {
          "name": "stdout",
          "output_type": "stream",
          "text": [
            "Epoch [27/200], Val Loss: 2.0486\n"
          ]
        },
        {
          "name": "stderr",
          "output_type": "stream",
          "text": [
            "Epoch: [28/200], Train Loss: 1.3099: 100%|██████████| 590/590 [00:47<00:00, 12.53it/s]\n"
          ]
        },
        {
          "name": "stdout",
          "output_type": "stream",
          "text": [
            "Epoch [28/200], Val Loss: 2.0576\n"
          ]
        },
        {
          "name": "stderr",
          "output_type": "stream",
          "text": [
            "Epoch: [29/200], Train Loss: 1.0383: 100%|██████████| 590/590 [00:47<00:00, 12.53it/s]\n"
          ]
        },
        {
          "name": "stdout",
          "output_type": "stream",
          "text": [
            "Epoch [29/200], Val Loss: 2.1205\n"
          ]
        },
        {
          "name": "stderr",
          "output_type": "stream",
          "text": [
            "Epoch: [30/200], Train Loss: 0.3055: 100%|██████████| 590/590 [00:47<00:00, 12.53it/s]\n"
          ]
        },
        {
          "name": "stdout",
          "output_type": "stream",
          "text": [
            "Epoch [30/200], Val Loss: 1.9942\n"
          ]
        },
        {
          "name": "stderr",
          "output_type": "stream",
          "text": [
            "Epoch: [31/200], Train Loss: 1.8550: 100%|██████████| 590/590 [00:47<00:00, 12.53it/s]\n"
          ]
        },
        {
          "name": "stdout",
          "output_type": "stream",
          "text": [
            "Epoch [31/200], Val Loss: 2.0875\n"
          ]
        },
        {
          "name": "stderr",
          "output_type": "stream",
          "text": [
            "Epoch: [32/200], Train Loss: 1.4884: 100%|██████████| 590/590 [00:47<00:00, 12.54it/s]\n"
          ]
        },
        {
          "name": "stdout",
          "output_type": "stream",
          "text": [
            "Epoch [32/200], Val Loss: 2.0524\n"
          ]
        },
        {
          "name": "stderr",
          "output_type": "stream",
          "text": [
            "Epoch: [33/200], Train Loss: 0.5389: 100%|██████████| 590/590 [00:47<00:00, 12.53it/s]\n"
          ]
        },
        {
          "name": "stdout",
          "output_type": "stream",
          "text": [
            "Epoch [33/200], Val Loss: 1.9432\n"
          ]
        },
        {
          "name": "stderr",
          "output_type": "stream",
          "text": [
            "Epoch: [34/200], Train Loss: 0.8841: 100%|██████████| 590/590 [00:47<00:00, 12.53it/s]\n"
          ]
        },
        {
          "name": "stdout",
          "output_type": "stream",
          "text": [
            "Epoch [34/200], Val Loss: 2.0123\n"
          ]
        },
        {
          "name": "stderr",
          "output_type": "stream",
          "text": [
            "Epoch: [35/200], Train Loss: 2.3675: 100%|██████████| 590/590 [00:47<00:00, 12.53it/s]\n"
          ]
        },
        {
          "name": "stdout",
          "output_type": "stream",
          "text": [
            "Epoch [35/200], Val Loss: 2.1756\n"
          ]
        },
        {
          "name": "stderr",
          "output_type": "stream",
          "text": [
            "Epoch: [36/200], Train Loss: 0.5220: 100%|██████████| 590/590 [00:47<00:00, 12.53it/s]\n"
          ]
        },
        {
          "name": "stdout",
          "output_type": "stream",
          "text": [
            "Epoch [36/200], Val Loss: 2.0091\n"
          ]
        },
        {
          "name": "stderr",
          "output_type": "stream",
          "text": [
            "Epoch: [37/200], Train Loss: 1.0310: 100%|██████████| 590/590 [00:47<00:00, 12.53it/s]\n"
          ]
        },
        {
          "name": "stdout",
          "output_type": "stream",
          "text": [
            "Epoch [37/200], Val Loss: 2.1560\n"
          ]
        },
        {
          "name": "stderr",
          "output_type": "stream",
          "text": [
            "Epoch: [38/200], Train Loss: 1.2265: 100%|██████████| 590/590 [00:47<00:00, 12.53it/s]\n"
          ]
        },
        {
          "name": "stdout",
          "output_type": "stream",
          "text": [
            "Epoch [38/200], Val Loss: 3.0180\n"
          ]
        },
        {
          "name": "stderr",
          "output_type": "stream",
          "text": [
            "Epoch: [39/200], Train Loss: 0.5948: 100%|██████████| 590/590 [00:47<00:00, 12.53it/s]\n"
          ]
        },
        {
          "name": "stdout",
          "output_type": "stream",
          "text": [
            "Epoch [39/200], Val Loss: 2.1877\n"
          ]
        },
        {
          "name": "stderr",
          "output_type": "stream",
          "text": [
            "Epoch: [40/200], Train Loss: 1.0418: 100%|██████████| 590/590 [00:47<00:00, 12.54it/s]\n"
          ]
        },
        {
          "name": "stdout",
          "output_type": "stream",
          "text": [
            "Epoch [40/200], Val Loss: 2.2046\n"
          ]
        },
        {
          "name": "stderr",
          "output_type": "stream",
          "text": [
            "Epoch: [41/200], Train Loss: 0.7286: 100%|██████████| 590/590 [00:47<00:00, 12.52it/s]\n"
          ]
        },
        {
          "name": "stdout",
          "output_type": "stream",
          "text": [
            "Epoch [41/200], Val Loss: 2.2250\n"
          ]
        },
        {
          "name": "stderr",
          "output_type": "stream",
          "text": [
            "Epoch: [42/200], Train Loss: 0.4685: 100%|██████████| 590/590 [00:47<00:00, 12.53it/s]\n"
          ]
        },
        {
          "name": "stdout",
          "output_type": "stream",
          "text": [
            "Epoch [42/200], Val Loss: 2.2141\n"
          ]
        },
        {
          "name": "stderr",
          "output_type": "stream",
          "text": [
            "Epoch: [43/200], Train Loss: 0.3175: 100%|██████████| 590/590 [00:47<00:00, 12.52it/s]\n"
          ]
        },
        {
          "name": "stdout",
          "output_type": "stream",
          "text": [
            "Epoch [43/200], Val Loss: 2.2222\n"
          ]
        },
        {
          "name": "stderr",
          "output_type": "stream",
          "text": [
            "Epoch: [44/200], Train Loss: 1.1708: 100%|██████████| 590/590 [00:47<00:00, 12.52it/s]\n"
          ]
        },
        {
          "name": "stdout",
          "output_type": "stream",
          "text": [
            "Epoch [44/200], Val Loss: 2.2839\n"
          ]
        },
        {
          "name": "stderr",
          "output_type": "stream",
          "text": [
            "Epoch: [45/200], Train Loss: 1.1300: 100%|██████████| 590/590 [00:47<00:00, 12.54it/s]\n"
          ]
        },
        {
          "name": "stdout",
          "output_type": "stream",
          "text": [
            "Epoch [45/200], Val Loss: 2.0701\n"
          ]
        },
        {
          "name": "stderr",
          "output_type": "stream",
          "text": [
            "Epoch: [46/200], Train Loss: 0.3512: 100%|██████████| 590/590 [00:47<00:00, 12.53it/s]\n"
          ]
        },
        {
          "name": "stdout",
          "output_type": "stream",
          "text": [
            "Epoch [46/200], Val Loss: 2.1984\n"
          ]
        },
        {
          "name": "stderr",
          "output_type": "stream",
          "text": [
            "Epoch: [47/200], Train Loss: 0.2710: 100%|██████████| 590/590 [00:47<00:00, 12.53it/s]\n"
          ]
        },
        {
          "name": "stdout",
          "output_type": "stream",
          "text": [
            "Epoch [47/200], Val Loss: 2.2671\n"
          ]
        },
        {
          "name": "stderr",
          "output_type": "stream",
          "text": [
            "Epoch: [48/200], Train Loss: 2.1497: 100%|██████████| 590/590 [00:47<00:00, 12.53it/s]\n"
          ]
        },
        {
          "name": "stdout",
          "output_type": "stream",
          "text": [
            "Epoch [48/200], Val Loss: 2.2789\n"
          ]
        },
        {
          "name": "stderr",
          "output_type": "stream",
          "text": [
            "Epoch: [49/200], Train Loss: 0.1555: 100%|██████████| 590/590 [00:47<00:00, 12.52it/s]\n"
          ]
        },
        {
          "name": "stdout",
          "output_type": "stream",
          "text": [
            "Epoch [49/200], Val Loss: 2.1301\n"
          ]
        },
        {
          "name": "stderr",
          "output_type": "stream",
          "text": [
            "Epoch: [50/200], Train Loss: 0.1581: 100%|██████████| 590/590 [00:47<00:00, 12.52it/s]\n"
          ]
        },
        {
          "name": "stdout",
          "output_type": "stream",
          "text": [
            "Epoch [50/200], Val Loss: 2.0666\n"
          ]
        },
        {
          "name": "stderr",
          "output_type": "stream",
          "text": [
            "Epoch: [51/200], Train Loss: 0.6977: 100%|██████████| 590/590 [00:47<00:00, 12.53it/s]\n"
          ]
        },
        {
          "name": "stdout",
          "output_type": "stream",
          "text": [
            "Epoch [51/200], Val Loss: 2.4139\n"
          ]
        },
        {
          "name": "stderr",
          "output_type": "stream",
          "text": [
            "Epoch: [52/200], Train Loss: 0.1984: 100%|██████████| 590/590 [00:47<00:00, 12.53it/s]\n"
          ]
        },
        {
          "name": "stdout",
          "output_type": "stream",
          "text": [
            "Epoch [52/200], Val Loss: 2.5332\n"
          ]
        },
        {
          "name": "stderr",
          "output_type": "stream",
          "text": [
            "Epoch: [53/200], Train Loss: 1.6293: 100%|██████████| 590/590 [00:47<00:00, 12.53it/s]\n"
          ]
        },
        {
          "name": "stdout",
          "output_type": "stream",
          "text": [
            "Epoch [53/200], Val Loss: 2.3565\n",
            "Training complete.\n"
          ]
        },
        {
          "data": {
            "image/png": "[encoded data removed]",
            "text/plain": [
              "<Figure size 640x480 with 1 Axes>"
            ]
          },
          "metadata": {},
          "output_type": "display_data"
        }
      ],
      "source": [
        "import tqdm\n",
        "\n",
        "es = EarlyStopping(patience=20, min_delta=0, restore_best_weights=True)\n",
        "\n",
        "\n",
        "epoch_train_loss = []\n",
        "epoch_val_loss = []\n",
        "\n",
        "num_epochs = 200\n",
        "for epoch in range(num_epochs):\n",
        "    # Train\n",
        "    train_loss = []\n",
        "    vgg16.train()\n",
        "    pbar = tqdm.tqdm(trainLoader, total=len(trainLoader))\n",
        "    for images, labels in pbar:\n",
        "        images = images.to(\"cuda\")\n",
        "        labels = labels.to(\"cuda\")\n",
        "\n",
        "        optimizer.zero_grad()\n",
        "        outputs = vgg16(images)\n",
        "        loss = loss_function(outputs, labels)\n",
        "        loss.backward()\n",
        "        optimizer.step()\n",
        "\n",
        "        train_loss.append(loss.item())\n",
        "        pbar.set_description(f\"Epoch: [{epoch + 1}/{num_epochs}], Train Loss: {loss.item():.4f}\")\n",
        "\n",
        "    avg_train_loss = np.mean(train_loss)\n",
        "    epoch_train_loss.append(avg_train_loss)\n",
        "\n",
        "    # Validation\n",
        "    vgg16.eval()\n",
        "    val_loss = []\n",
        "    with torch.no_grad():\n",
        "        for images, labels in valLoader:\n",
        "            images = images.to(\"cuda\")\n",
        "            labels = labels.to(\"cuda\")\n",
        "            outputs = vgg16(images)\n",
        "            loss = loss_function(outputs, labels)\n",
        "            val_loss.append(loss.item())\n",
        "\n",
        "    avg_val_loss = np.mean(val_loss)\n",
        "    epoch_val_loss.append(avg_val_loss)\n",
        "    print(f'Epoch [{epoch + 1}/{num_epochs}], Val Loss: {np.mean(avg_val_loss):.4f}')\n",
        "\n",
        "    # Check for ES\n",
        "    if es(vgg16, avg_val_loss):\n",
        "        pbar.set_description(f\"Epoch: {epoch+1}, Train Loss: {avg_train_loss:.4f}, Val Loss: {avg_val_loss:.4f}, {es.status}\")\n",
        "        break\n",
        "    else:\n",
        "        pbar.set_description(f\"Epoch: {epoch+1}, Train Loss: {avg_train_loss:.4f}, Val Loss: {avg_val_loss:.4f}\")\n",
        "\n",
        "print(\"Training complete.\")\n",
        "create_graph(epoch_train_loss, epoch_val_loss)\n"
      ]
    },
    {
      "cell_type": "code",
      "execution_count": 11,
      "metadata": {
        "colab": {
          "base_uri": "https://localhost:8080/"
        },
        "id": "h43cvcD4gxjB",
        "outputId": "a45dd8b4-7202-454b-9ef2-672c58dfb50d"
      },
      "outputs": [
        {
          "name": "stdout",
          "output_type": "stream",
          "text": [
            "Test Accuracy:  0.5628183361629882\n"
          ]
        }
      ],
      "source": [
        "#Test the model\n",
        "y_test = []\n",
        "y_test_predict = []\n",
        "\n",
        "vgg16.eval()\n",
        "for images, labels in testLoader:\n",
        "    images = images.to(\"cuda\")\n",
        "    labels = labels.to(\"cuda\")\n",
        "\n",
        "    with torch.no_grad():\n",
        "        outputs = vgg16(images).cpu()\n",
        "        _, predicted = torch.max(outputs, 1)\n",
        "        y_test_predict.extend(predicted.numpy())\n",
        "        y_test.extend(labels.cpu().numpy())\n",
        "\n",
        "print(\"Test Accuracy: \", accuracy_score(y_test, y_test_predict))"
      ]
    },
    {
      "cell_type": "code",
      "execution_count": 12,
      "metadata": {
        "id": "BjFf8jIEouMl"
      },
      "outputs": [],
      "source": [
        "\n",
        "if run_on_local == 1:\n",
        "    save_path = './'\n",
        "else:\n",
        "    save_path = '/content/drive/MyDrive/ML_final/'\n",
        "\n",
        "torch.save({\n",
        "            'epoch': epoch,\n",
        "            'model_state_dict': vgg16.state_dict(),\n",
        "            'optimizer_state_dict': optimizer.state_dict(),\n",
        "            'loss': loss\n",
        "            }, save_path + '200_vgg16.pth')"
      ]
    },
    {
      "cell_type": "code",
      "execution_count": 13,
      "metadata": {
        "colab": {
          "base_uri": "https://localhost:8080/"
        },
        "id": "B-araViLpGZj",
        "outputId": "678bab66-2625-492e-86f8-42e80df5ff4c"
      },
      "outputs": [],
      "source": [
        "# model = vgg16\n",
        "# optimizer = optimizer\n",
        "\n",
        "# checkpoint = torch.load(save_path + '200_vgg16.pth')\n",
        "# model.load_state_dict(checkpoint['model_state_dict'])\n",
        "# optimizer.load_state_dict(checkpoint['optimizer_state_dict'])\n",
        "# epoch = checkpoint['epoch']\n",
        "# loss = checkpoint['loss']\n",
        "\n",
        "# model.eval()"
      ]
    },
    {
      "cell_type": "code",
      "execution_count": 14,
      "metadata": {
        "colab": {
          "base_uri": "https://localhost:8080/"
        },
        "id": "D8Y2crFtw2CF",
        "outputId": "83760445-296e-4c94-bebc-49032e894143"
      },
      "outputs": [],
      "source": [
        "# import torch\n",
        "# import torchvision.transforms as transforms\n",
        "# from PIL import Image\n",
        "\n",
        "\n",
        "# #image_path = '/content/drive/MyDrive/ML_final/sootyalbatross.jpeg'  # Path to your test image\n",
        "# image_path = './LOFrJSL.jpeg'\n",
        "# image = Image.open(image_path)\n",
        "\n",
        "\n",
        "# transform = transforms.Compose([\n",
        "#     transforms.Resize((224, 224)),\n",
        "#     transforms.ToTensor(),\n",
        "#     transforms.Normalize(mean=[0.485, 0.456, 0.406], std=[0.229, 0.224, 0.225]),\n",
        "# ])\n",
        "\n",
        "# # Apply the transform to the image\n",
        "# input_tensor = transform(image)\n",
        "# input_tensor = input_tensor.unsqueeze(0)\n",
        "# input_tensor = input_tensor.to('cuda')\n",
        "\n",
        "# # Match classname to index\n",
        "# idx_to_class = {v: k for k, v in dataset.class_to_idx.items()}\n",
        "\n",
        "# # Predict\n",
        "# model.eval()\n",
        "# with torch.no_grad():\n",
        "#     output = model(input_tensor)\n",
        "#     _, predicted_index = torch.max(output, 1)\n",
        "#     predicted_index = predicted_index.item()\n",
        "\n",
        "# predicted_class_name = idx_to_class[predicted_index]\n",
        "# print(predicted_class_name)\n",
        "\n"
      ]
    },
    {
      "cell_type": "markdown",
      "metadata": {
        "id": "o-vxyurZFaLq"
      },
      "source": [
        "#Inception V3"
      ]
    },
    {
      "cell_type": "code",
      "execution_count": 15,
      "metadata": {
        "colab": {
          "base_uri": "https://localhost:8080/"
        },
        "id": "uq1K2SR1w17d",
        "outputId": "7b5a0a2d-7e5e-4d95-8e38-66728d8315bd"
      },
      "outputs": [
        {
          "name": "stdout",
          "output_type": "stream",
          "text": [
            "Dataset ImageFolder\n",
            "    Number of datapoints: 11788\n",
            "    Root location: ./content/data/CUB_200_2011/images\n",
            "    StandardTransform\n",
            "Transform: Compose(\n",
            "               Resize(size=299, interpolation=bilinear, max_size=None, antialias=warn)\n",
            "               RandomHorizontalFlip(p=0.5)\n",
            "               RandomVerticalFlip(p=0.5)\n",
            "               RandomRotation(degrees=[-45.0, 45.0], interpolation=nearest, expand=False, fill=0)\n",
            "               ColorJitter(brightness=(0.5, 1.5), contrast=(0.5, 1.5), saturation=(0.5, 1.5), hue=(-0.5, 0.5))\n",
            "               CenterCrop(size=(299, 299))\n",
            "               ToTensor()\n",
            "               Normalize(mean=[0.485, 0.456, 0.406], std=[0.229, 0.224, 0.225])\n",
            "           ) 9432 1178 1178 11788\n"
          ]
        }
      ],
      "source": [
        "transform = transforms.Compose([\n",
        "    transforms.Resize((299)),\n",
        "    transforms.RandomHorizontalFlip(),\n",
        "    transforms.RandomVerticalFlip(),\n",
        "    transforms.RandomRotation(degrees=45),\n",
        "    transforms.ColorJitter(brightness=0.5, contrast=0.5, saturation=0.5, hue=0.5),\n",
        "    transforms.CenterCrop(299),\n",
        "    transforms.ToTensor(),\n",
        "    transforms.Normalize(mean=[0.485, 0.456, 0.406], std=[0.229, 0.224, 0.225])\n",
        "])\n",
        "\n",
        "\n",
        "#dataset = torchvision.datasets.ImageFolder(root='/content/data/CUB_200_2011/images', transform=transform\n",
        "dataset = torchvision.datasets.ImageFolder(root='./content/data/CUB_200_2011/images', transform=transform)\n",
        "# Split to 80%/10%/10%\n",
        "\n",
        "train_split = int(len(dataset) * .8)\n",
        "val_split = int(len(dataset) * .1)\n",
        "test_split = int(len(dataset) * .1)\n",
        "\n",
        "#Make sure splits match 1:1 with dataset\n",
        "total = train_split + val_split + test_split\n",
        "if total < len(dataset):\n",
        "    train_split = train_split + (len(dataset) - total)\n",
        "\n",
        "\n",
        "\n",
        "print(dataset, train_split, val_split, test_split, train_split + val_split + test_split )\n",
        "train, val, test = torch.utils.data.random_split(dataset, [train_split, val_split, test_split])\n",
        "\n",
        "num_workers=2\n",
        "batch_size=16\n",
        "\n",
        "trainLoader = DataLoader(train , batch_size=batch_size,\n",
        "                                           num_workers=num_workers,  shuffle=True)\n",
        "valLoader = DataLoader(val, batch_size=batch_size,\n",
        "                                          num_workers=num_workers )\n",
        "testLoader = DataLoader(test, batch_size=batch_size,\n",
        "                                          num_workers=num_workers)\n"
      ]
    },
    {
      "cell_type": "code",
      "execution_count": 17,
      "metadata": {
        "colab": {
          "base_uri": "https://localhost:8080/"
        },
        "id": "LXXfeX13JX4y",
        "outputId": "4bf9fed7-5101-47ad-d3f7-c231948e926b"
      },
      "outputs": [
        {
          "name": "stdout",
          "output_type": "stream",
          "text": [
            "Inception_V3_Weights.IMAGENET1K_V1\n",
            "classes: 200\n"
          ]
        }
      ],
      "source": [
        "import torchvision.models as models\n",
        "from torch.optim import lr_scheduler\n",
        "\n",
        "torch.cuda.empty_cache()\n",
        "\n",
        "weightz = models.get_model_weights(\"inception_v3\")\n",
        "weightz = weightz.DEFAULT\n",
        "print(weightz)\n",
        "\n",
        "inception = models.inception_v3(weights=weightz)\n",
        "\n",
        "for param in inception.parameters():\n",
        "    param.requires_grad = False\n",
        "\n",
        "num_classes = len(dataset.classes)\n",
        "print(\"classes:\", num_classes)\n",
        "\n",
        "num_features = inception.AuxLogits.fc.in_features\n",
        "inception.AuxLogits.fc = torch.nn.Linear(num_features, num_classes)\n",
        "\n",
        "num_features = inception.fc.in_features\n",
        "inception.fc = torch.nn.Linear(num_features, num_classes)\n",
        "\n",
        "\n",
        "\n",
        "params_to_update = []\n",
        "for param in inception.fc.parameters():\n",
        "    param.requires_grad = True\n",
        "\n",
        "# Create an object of the model\n",
        "inception = inception.to(\"cuda\")\n",
        "\n",
        "\n",
        "# optimizer\n",
        "optimizer = optim.RMSprop(inception.parameters(), lr=1e-4)\n",
        "\n",
        "# Loss\n",
        "loss_function = nn.CrossEntropyLoss()\n",
        "\n",
        "# scheduler\n",
        "scheduler = lr_scheduler.StepLR(optimizer, step_size=1, gamma=0.1)"
      ]
    },
    {
      "cell_type": "code",
      "execution_count": 18,
      "metadata": {
        "colab": {
          "base_uri": "https://localhost:8080/",
          "height": 813
        },
        "id": "x-kjaD7nvB-m",
        "outputId": "0e1aec07-c1ad-41be-af75-bb1422d83b43"
      },
      "outputs": [
        {
          "name": "stderr",
          "output_type": "stream",
          "text": [
            "Epoch: [1/200], Train Loss: 6.9287: 100%|██████████| 590/590 [00:59<00:00,  9.89it/s]\n"
          ]
        },
        {
          "name": "stdout",
          "output_type": "stream",
          "text": [
            "Epoch [1/200], Val Loss: 5.0628\n"
          ]
        },
        {
          "name": "stderr",
          "output_type": "stream",
          "text": [
            "Epoch: [2/200], Train Loss: 6.2354: 100%|██████████| 590/590 [00:59<00:00,  9.91it/s]\n"
          ]
        },
        {
          "name": "stdout",
          "output_type": "stream",
          "text": [
            "Epoch [2/200], Val Loss: 4.8084\n"
          ]
        },
        {
          "name": "stderr",
          "output_type": "stream",
          "text": [
            "Epoch: [3/200], Train Loss: 6.1094: 100%|██████████| 590/590 [00:59<00:00,  9.90it/s]\n"
          ]
        },
        {
          "name": "stdout",
          "output_type": "stream",
          "text": [
            "Epoch [3/200], Val Loss: 4.6188\n"
          ]
        },
        {
          "name": "stderr",
          "output_type": "stream",
          "text": [
            "Epoch: [4/200], Train Loss: 6.4945: 100%|██████████| 590/590 [00:59<00:00,  9.91it/s]\n"
          ]
        },
        {
          "name": "stdout",
          "output_type": "stream",
          "text": [
            "Epoch [4/200], Val Loss: 4.4459\n"
          ]
        },
        {
          "name": "stderr",
          "output_type": "stream",
          "text": [
            "Epoch: [5/200], Train Loss: 6.0278: 100%|██████████| 590/590 [00:59<00:00,  9.93it/s]\n"
          ]
        },
        {
          "name": "stdout",
          "output_type": "stream",
          "text": [
            "Epoch [5/200], Val Loss: 4.2976\n"
          ]
        },
        {
          "name": "stderr",
          "output_type": "stream",
          "text": [
            "Epoch: [6/200], Train Loss: 6.5216: 100%|██████████| 590/590 [00:59<00:00,  9.90it/s]\n"
          ]
        },
        {
          "name": "stdout",
          "output_type": "stream",
          "text": [
            "Epoch [6/200], Val Loss: 4.1718\n"
          ]
        },
        {
          "name": "stderr",
          "output_type": "stream",
          "text": [
            "Epoch: [7/200], Train Loss: 4.9229: 100%|██████████| 590/590 [00:59<00:00,  9.89it/s]\n"
          ]
        },
        {
          "name": "stdout",
          "output_type": "stream",
          "text": [
            "Epoch [7/200], Val Loss: 4.0221\n"
          ]
        },
        {
          "name": "stderr",
          "output_type": "stream",
          "text": [
            "Epoch: [8/200], Train Loss: 5.2013: 100%|██████████| 590/590 [00:59<00:00,  9.91it/s]\n"
          ]
        },
        {
          "name": "stdout",
          "output_type": "stream",
          "text": [
            "Epoch [8/200], Val Loss: 3.9208\n"
          ]
        },
        {
          "name": "stderr",
          "output_type": "stream",
          "text": [
            "Epoch: [9/200], Train Loss: 5.9435: 100%|██████████| 590/590 [00:59<00:00,  9.91it/s]\n"
          ]
        },
        {
          "name": "stdout",
          "output_type": "stream",
          "text": [
            "Epoch [9/200], Val Loss: 3.8486\n"
          ]
        },
        {
          "name": "stderr",
          "output_type": "stream",
          "text": [
            "Epoch: [10/200], Train Loss: 4.4614: 100%|██████████| 590/590 [00:59<00:00,  9.92it/s]\n"
          ]
        },
        {
          "name": "stdout",
          "output_type": "stream",
          "text": [
            "Epoch [10/200], Val Loss: 3.7417\n"
          ]
        },
        {
          "name": "stderr",
          "output_type": "stream",
          "text": [
            "Epoch: [11/200], Train Loss: 5.3297: 100%|██████████| 590/590 [00:59<00:00,  9.92it/s]\n"
          ]
        },
        {
          "name": "stdout",
          "output_type": "stream",
          "text": [
            "Epoch [11/200], Val Loss: 3.6459\n"
          ]
        },
        {
          "name": "stderr",
          "output_type": "stream",
          "text": [
            "Epoch: [12/200], Train Loss: 4.4241: 100%|██████████| 590/590 [00:59<00:00,  9.91it/s]\n"
          ]
        },
        {
          "name": "stdout",
          "output_type": "stream",
          "text": [
            "Epoch [12/200], Val Loss: 3.5400\n"
          ]
        },
        {
          "name": "stderr",
          "output_type": "stream",
          "text": [
            "Epoch: [13/200], Train Loss: 5.2229: 100%|██████████| 590/590 [00:59<00:00,  9.88it/s]\n"
          ]
        },
        {
          "name": "stdout",
          "output_type": "stream",
          "text": [
            "Epoch [13/200], Val Loss: 3.5227\n"
          ]
        },
        {
          "name": "stderr",
          "output_type": "stream",
          "text": [
            "Epoch: [14/200], Train Loss: 4.2076: 100%|██████████| 590/590 [00:59<00:00,  9.92it/s]\n"
          ]
        },
        {
          "name": "stdout",
          "output_type": "stream",
          "text": [
            "Epoch [14/200], Val Loss: 3.4670\n"
          ]
        },
        {
          "name": "stderr",
          "output_type": "stream",
          "text": [
            "Epoch: [15/200], Train Loss: 5.2962: 100%|██████████| 590/590 [00:59<00:00,  9.92it/s]\n"
          ]
        },
        {
          "name": "stdout",
          "output_type": "stream",
          "text": [
            "Epoch [15/200], Val Loss: 3.4098\n"
          ]
        },
        {
          "name": "stderr",
          "output_type": "stream",
          "text": [
            "Epoch: [16/200], Train Loss: 4.7644: 100%|██████████| 590/590 [00:59<00:00,  9.92it/s]\n"
          ]
        },
        {
          "name": "stdout",
          "output_type": "stream",
          "text": [
            "Epoch [16/200], Val Loss: 3.3395\n"
          ]
        },
        {
          "name": "stderr",
          "output_type": "stream",
          "text": [
            "Epoch: [17/200], Train Loss: 4.6174: 100%|██████████| 590/590 [00:59<00:00,  9.91it/s]\n"
          ]
        },
        {
          "name": "stdout",
          "output_type": "stream",
          "text": [
            "Epoch [17/200], Val Loss: 3.3404\n"
          ]
        },
        {
          "name": "stderr",
          "output_type": "stream",
          "text": [
            "Epoch: [18/200], Train Loss: 3.5934: 100%|██████████| 590/590 [00:59<00:00,  9.88it/s]\n"
          ]
        },
        {
          "name": "stdout",
          "output_type": "stream",
          "text": [
            "Epoch [18/200], Val Loss: 3.3116\n"
          ]
        },
        {
          "name": "stderr",
          "output_type": "stream",
          "text": [
            "Epoch: [19/200], Train Loss: 4.3071: 100%|██████████| 590/590 [00:59<00:00,  9.93it/s]\n"
          ]
        },
        {
          "name": "stdout",
          "output_type": "stream",
          "text": [
            "Epoch [19/200], Val Loss: 3.2770\n"
          ]
        },
        {
          "name": "stderr",
          "output_type": "stream",
          "text": [
            "Epoch: [20/200], Train Loss: 4.0145: 100%|██████████| 590/590 [00:59<00:00,  9.90it/s]\n"
          ]
        },
        {
          "name": "stdout",
          "output_type": "stream",
          "text": [
            "Epoch [20/200], Val Loss: 3.1892\n"
          ]
        },
        {
          "name": "stderr",
          "output_type": "stream",
          "text": [
            "Epoch: [21/200], Train Loss: 4.3692: 100%|██████████| 590/590 [00:59<00:00,  9.88it/s]\n"
          ]
        },
        {
          "name": "stdout",
          "output_type": "stream",
          "text": [
            "Epoch [21/200], Val Loss: 3.2279\n"
          ]
        },
        {
          "name": "stderr",
          "output_type": "stream",
          "text": [
            "Epoch: [22/200], Train Loss: 5.4080: 100%|██████████| 590/590 [00:59<00:00,  9.92it/s]\n"
          ]
        },
        {
          "name": "stdout",
          "output_type": "stream",
          "text": [
            "Epoch [22/200], Val Loss: 3.1896\n"
          ]
        },
        {
          "name": "stderr",
          "output_type": "stream",
          "text": [
            "Epoch: [23/200], Train Loss: 3.0690: 100%|██████████| 590/590 [00:59<00:00,  9.92it/s]\n"
          ]
        },
        {
          "name": "stdout",
          "output_type": "stream",
          "text": [
            "Epoch [23/200], Val Loss: 3.0948\n"
          ]
        },
        {
          "name": "stderr",
          "output_type": "stream",
          "text": [
            "Epoch: [24/200], Train Loss: 5.1133: 100%|██████████| 590/590 [00:59<00:00,  9.90it/s]\n"
          ]
        },
        {
          "name": "stdout",
          "output_type": "stream",
          "text": [
            "Epoch [24/200], Val Loss: 3.0513\n"
          ]
        },
        {
          "name": "stderr",
          "output_type": "stream",
          "text": [
            "Epoch: [25/200], Train Loss: 2.9396: 100%|██████████| 590/590 [00:59<00:00,  9.91it/s]\n"
          ]
        },
        {
          "name": "stdout",
          "output_type": "stream",
          "text": [
            "Epoch [25/200], Val Loss: 3.0320\n"
          ]
        },
        {
          "name": "stderr",
          "output_type": "stream",
          "text": [
            "Epoch: [26/200], Train Loss: 4.7519: 100%|██████████| 590/590 [00:59<00:00,  9.90it/s]\n"
          ]
        },
        {
          "name": "stdout",
          "output_type": "stream",
          "text": [
            "Epoch [26/200], Val Loss: 3.0386\n"
          ]
        },
        {
          "name": "stderr",
          "output_type": "stream",
          "text": [
            "Epoch: [27/200], Train Loss: 3.5548: 100%|██████████| 590/590 [00:59<00:00,  9.92it/s]\n"
          ]
        },
        {
          "name": "stdout",
          "output_type": "stream",
          "text": [
            "Epoch [27/200], Val Loss: 3.0083\n"
          ]
        },
        {
          "name": "stderr",
          "output_type": "stream",
          "text": [
            "Epoch: [28/200], Train Loss: 4.6252: 100%|██████████| 590/590 [00:59<00:00,  9.89it/s]\n"
          ]
        },
        {
          "name": "stdout",
          "output_type": "stream",
          "text": [
            "Epoch [28/200], Val Loss: 2.9832\n"
          ]
        },
        {
          "name": "stderr",
          "output_type": "stream",
          "text": [
            "Epoch: [29/200], Train Loss: 3.3220: 100%|██████████| 590/590 [00:59<00:00,  9.89it/s]\n"
          ]
        },
        {
          "name": "stdout",
          "output_type": "stream",
          "text": [
            "Epoch [29/200], Val Loss: 3.0099\n"
          ]
        },
        {
          "name": "stderr",
          "output_type": "stream",
          "text": [
            "Epoch: [30/200], Train Loss: 3.2943: 100%|██████████| 590/590 [00:59<00:00,  9.89it/s]\n"
          ]
        },
        {
          "name": "stdout",
          "output_type": "stream",
          "text": [
            "Epoch [30/200], Val Loss: 2.9294\n"
          ]
        },
        {
          "name": "stderr",
          "output_type": "stream",
          "text": [
            "Epoch: [31/200], Train Loss: 3.7098: 100%|██████████| 590/590 [00:59<00:00,  9.90it/s]\n"
          ]
        },
        {
          "name": "stdout",
          "output_type": "stream",
          "text": [
            "Epoch [31/200], Val Loss: 2.9418\n"
          ]
        },
        {
          "name": "stderr",
          "output_type": "stream",
          "text": [
            "Epoch: [32/200], Train Loss: 3.2108: 100%|██████████| 590/590 [00:59<00:00,  9.89it/s]\n"
          ]
        },
        {
          "name": "stdout",
          "output_type": "stream",
          "text": [
            "Epoch [32/200], Val Loss: 2.9349\n"
          ]
        },
        {
          "name": "stderr",
          "output_type": "stream",
          "text": [
            "Epoch: [33/200], Train Loss: 3.8803: 100%|██████████| 590/590 [00:59<00:00,  9.89it/s]\n"
          ]
        },
        {
          "name": "stdout",
          "output_type": "stream",
          "text": [
            "Epoch [33/200], Val Loss: 2.9143\n"
          ]
        },
        {
          "name": "stderr",
          "output_type": "stream",
          "text": [
            "Epoch: [34/200], Train Loss: 3.4905: 100%|██████████| 590/590 [00:59<00:00,  9.94it/s]\n"
          ]
        },
        {
          "name": "stdout",
          "output_type": "stream",
          "text": [
            "Epoch [34/200], Val Loss: 2.8857\n"
          ]
        },
        {
          "name": "stderr",
          "output_type": "stream",
          "text": [
            "Epoch: [35/200], Train Loss: 4.4868: 100%|██████████| 590/590 [00:59<00:00,  9.90it/s]\n"
          ]
        },
        {
          "name": "stdout",
          "output_type": "stream",
          "text": [
            "Epoch [35/200], Val Loss: 2.8852\n"
          ]
        },
        {
          "name": "stderr",
          "output_type": "stream",
          "text": [
            "Epoch: [36/200], Train Loss: 3.2694: 100%|██████████| 590/590 [00:59<00:00,  9.92it/s]\n"
          ]
        },
        {
          "name": "stdout",
          "output_type": "stream",
          "text": [
            "Epoch [36/200], Val Loss: 2.8778\n"
          ]
        },
        {
          "name": "stderr",
          "output_type": "stream",
          "text": [
            "Epoch: [37/200], Train Loss: 4.4382: 100%|██████████| 590/590 [00:59<00:00,  9.91it/s]\n"
          ]
        },
        {
          "name": "stdout",
          "output_type": "stream",
          "text": [
            "Epoch [37/200], Val Loss: 2.8307\n"
          ]
        },
        {
          "name": "stderr",
          "output_type": "stream",
          "text": [
            "Epoch: [38/200], Train Loss: 2.2516: 100%|██████████| 590/590 [00:59<00:00,  9.91it/s]\n"
          ]
        },
        {
          "name": "stdout",
          "output_type": "stream",
          "text": [
            "Epoch [38/200], Val Loss: 2.7698\n"
          ]
        },
        {
          "name": "stderr",
          "output_type": "stream",
          "text": [
            "Epoch: [39/200], Train Loss: 3.8948: 100%|██████████| 590/590 [00:59<00:00,  9.91it/s]\n"
          ]
        },
        {
          "name": "stdout",
          "output_type": "stream",
          "text": [
            "Epoch [39/200], Val Loss: 2.7810\n"
          ]
        },
        {
          "name": "stderr",
          "output_type": "stream",
          "text": [
            "Epoch: [40/200], Train Loss: 4.4331: 100%|██████████| 590/590 [00:59<00:00,  9.90it/s]\n"
          ]
        },
        {
          "name": "stdout",
          "output_type": "stream",
          "text": [
            "Epoch [40/200], Val Loss: 2.8378\n"
          ]
        },
        {
          "name": "stderr",
          "output_type": "stream",
          "text": [
            "Epoch: [41/200], Train Loss: 3.6202: 100%|██████████| 590/590 [00:59<00:00,  9.89it/s]\n"
          ]
        },
        {
          "name": "stdout",
          "output_type": "stream",
          "text": [
            "Epoch [41/200], Val Loss: 2.7662\n"
          ]
        },
        {
          "name": "stderr",
          "output_type": "stream",
          "text": [
            "Epoch: [42/200], Train Loss: 4.4874: 100%|██████████| 590/590 [00:59<00:00,  9.88it/s]\n"
          ]
        },
        {
          "name": "stdout",
          "output_type": "stream",
          "text": [
            "Epoch [42/200], Val Loss: 2.7520\n"
          ]
        },
        {
          "name": "stderr",
          "output_type": "stream",
          "text": [
            "Epoch: [43/200], Train Loss: 3.7306: 100%|██████████| 590/590 [00:59<00:00,  9.88it/s]\n"
          ]
        },
        {
          "name": "stdout",
          "output_type": "stream",
          "text": [
            "Epoch [43/200], Val Loss: 2.7858\n"
          ]
        },
        {
          "name": "stderr",
          "output_type": "stream",
          "text": [
            "Epoch: [44/200], Train Loss: 3.9833: 100%|██████████| 590/590 [00:59<00:00,  9.89it/s]\n"
          ]
        },
        {
          "name": "stdout",
          "output_type": "stream",
          "text": [
            "Epoch [44/200], Val Loss: 2.7229\n"
          ]
        },
        {
          "name": "stderr",
          "output_type": "stream",
          "text": [
            "Epoch: [45/200], Train Loss: 3.6332: 100%|██████████| 590/590 [00:59<00:00,  9.90it/s]\n"
          ]
        },
        {
          "name": "stdout",
          "output_type": "stream",
          "text": [
            "Epoch [45/200], Val Loss: 2.7482\n"
          ]
        },
        {
          "name": "stderr",
          "output_type": "stream",
          "text": [
            "Epoch: [46/200], Train Loss: 2.7994: 100%|██████████| 590/590 [00:59<00:00,  9.92it/s]\n"
          ]
        },
        {
          "name": "stdout",
          "output_type": "stream",
          "text": [
            "Epoch [46/200], Val Loss: 2.7711\n"
          ]
        },
        {
          "name": "stderr",
          "output_type": "stream",
          "text": [
            "Epoch: [47/200], Train Loss: 3.9521: 100%|██████████| 590/590 [00:59<00:00,  9.91it/s]\n"
          ]
        },
        {
          "name": "stdout",
          "output_type": "stream",
          "text": [
            "Epoch [47/200], Val Loss: 2.7035\n"
          ]
        },
        {
          "name": "stderr",
          "output_type": "stream",
          "text": [
            "Epoch: [48/200], Train Loss: 3.9008: 100%|██████████| 590/590 [00:59<00:00,  9.91it/s]\n"
          ]
        },
        {
          "name": "stdout",
          "output_type": "stream",
          "text": [
            "Epoch [48/200], Val Loss: 2.7190\n"
          ]
        },
        {
          "name": "stderr",
          "output_type": "stream",
          "text": [
            "Epoch: [49/200], Train Loss: 4.4401: 100%|██████████| 590/590 [00:59<00:00,  9.91it/s]\n"
          ]
        },
        {
          "name": "stdout",
          "output_type": "stream",
          "text": [
            "Epoch [49/200], Val Loss: 2.7315\n"
          ]
        },
        {
          "name": "stderr",
          "output_type": "stream",
          "text": [
            "Epoch: [50/200], Train Loss: 4.1974: 100%|██████████| 590/590 [00:59<00:00,  9.92it/s]\n"
          ]
        },
        {
          "name": "stdout",
          "output_type": "stream",
          "text": [
            "Epoch [50/200], Val Loss: 2.7561\n"
          ]
        },
        {
          "name": "stderr",
          "output_type": "stream",
          "text": [
            "Epoch: [51/200], Train Loss: 4.2721: 100%|██████████| 590/590 [00:59<00:00,  9.91it/s]\n"
          ]
        },
        {
          "name": "stdout",
          "output_type": "stream",
          "text": [
            "Epoch [51/200], Val Loss: 2.7156\n"
          ]
        },
        {
          "name": "stderr",
          "output_type": "stream",
          "text": [
            "Epoch: [52/200], Train Loss: 4.2666: 100%|██████████| 590/590 [00:59<00:00,  9.89it/s]\n"
          ]
        },
        {
          "name": "stdout",
          "output_type": "stream",
          "text": [
            "Epoch [52/200], Val Loss: 2.7133\n"
          ]
        },
        {
          "name": "stderr",
          "output_type": "stream",
          "text": [
            "Epoch: [53/200], Train Loss: 3.2081: 100%|██████████| 590/590 [00:59<00:00,  9.90it/s]\n"
          ]
        },
        {
          "name": "stdout",
          "output_type": "stream",
          "text": [
            "Epoch [53/200], Val Loss: 2.7372\n"
          ]
        },
        {
          "name": "stderr",
          "output_type": "stream",
          "text": [
            "Epoch: [54/200], Train Loss: 3.5625: 100%|██████████| 590/590 [00:59<00:00,  9.93it/s]\n"
          ]
        },
        {
          "name": "stdout",
          "output_type": "stream",
          "text": [
            "Epoch [54/200], Val Loss: 2.6994\n"
          ]
        },
        {
          "name": "stderr",
          "output_type": "stream",
          "text": [
            "Epoch: [55/200], Train Loss: 4.0377: 100%|██████████| 590/590 [00:59<00:00,  9.91it/s]\n"
          ]
        },
        {
          "name": "stdout",
          "output_type": "stream",
          "text": [
            "Epoch [55/200], Val Loss: 2.6728\n"
          ]
        },
        {
          "name": "stderr",
          "output_type": "stream",
          "text": [
            "Epoch: [56/200], Train Loss: 5.2236: 100%|██████████| 590/590 [00:59<00:00,  9.92it/s]\n"
          ]
        },
        {
          "name": "stdout",
          "output_type": "stream",
          "text": [
            "Epoch [56/200], Val Loss: 2.6420\n"
          ]
        },
        {
          "name": "stderr",
          "output_type": "stream",
          "text": [
            "Epoch: [57/200], Train Loss: 3.7495: 100%|██████████| 590/590 [00:59<00:00,  9.91it/s]\n"
          ]
        },
        {
          "name": "stdout",
          "output_type": "stream",
          "text": [
            "Epoch [57/200], Val Loss: 2.7174\n"
          ]
        },
        {
          "name": "stderr",
          "output_type": "stream",
          "text": [
            "Epoch: [58/200], Train Loss: 3.5363: 100%|██████████| 590/590 [00:59<00:00,  9.88it/s]\n"
          ]
        },
        {
          "name": "stdout",
          "output_type": "stream",
          "text": [
            "Epoch [58/200], Val Loss: 2.6434\n"
          ]
        },
        {
          "name": "stderr",
          "output_type": "stream",
          "text": [
            "Epoch: [59/200], Train Loss: 3.7775: 100%|██████████| 590/590 [00:59<00:00,  9.89it/s]\n"
          ]
        },
        {
          "name": "stdout",
          "output_type": "stream",
          "text": [
            "Epoch [59/200], Val Loss: 2.6740\n"
          ]
        },
        {
          "name": "stderr",
          "output_type": "stream",
          "text": [
            "Epoch: [60/200], Train Loss: 3.0951: 100%|██████████| 590/590 [00:59<00:00,  9.91it/s]\n"
          ]
        },
        {
          "name": "stdout",
          "output_type": "stream",
          "text": [
            "Epoch [60/200], Val Loss: 2.7171\n"
          ]
        },
        {
          "name": "stderr",
          "output_type": "stream",
          "text": [
            "Epoch: [61/200], Train Loss: 3.2265: 100%|██████████| 590/590 [00:59<00:00,  9.90it/s]\n"
          ]
        },
        {
          "name": "stdout",
          "output_type": "stream",
          "text": [
            "Epoch [61/200], Val Loss: 2.6455\n"
          ]
        },
        {
          "name": "stderr",
          "output_type": "stream",
          "text": [
            "Epoch: [62/200], Train Loss: 4.3705: 100%|██████████| 590/590 [00:59<00:00,  9.90it/s]\n"
          ]
        },
        {
          "name": "stdout",
          "output_type": "stream",
          "text": [
            "Epoch [62/200], Val Loss: 2.6518\n"
          ]
        },
        {
          "name": "stderr",
          "output_type": "stream",
          "text": [
            "Epoch: [63/200], Train Loss: 5.2468: 100%|██████████| 590/590 [00:59<00:00,  9.91it/s]\n"
          ]
        },
        {
          "name": "stdout",
          "output_type": "stream",
          "text": [
            "Epoch [63/200], Val Loss: 2.6521\n"
          ]
        },
        {
          "name": "stderr",
          "output_type": "stream",
          "text": [
            "Epoch: [64/200], Train Loss: 3.9702: 100%|██████████| 590/590 [00:59<00:00,  9.91it/s]\n"
          ]
        },
        {
          "name": "stdout",
          "output_type": "stream",
          "text": [
            "Epoch [64/200], Val Loss: 2.6233\n"
          ]
        },
        {
          "name": "stderr",
          "output_type": "stream",
          "text": [
            "Epoch: [65/200], Train Loss: 4.4662: 100%|██████████| 590/590 [00:59<00:00,  9.91it/s]\n"
          ]
        },
        {
          "name": "stdout",
          "output_type": "stream",
          "text": [
            "Epoch [65/200], Val Loss: 2.6183\n"
          ]
        },
        {
          "name": "stderr",
          "output_type": "stream",
          "text": [
            "Epoch: [66/200], Train Loss: 3.2475: 100%|██████████| 590/590 [00:59<00:00,  9.91it/s]\n"
          ]
        },
        {
          "name": "stdout",
          "output_type": "stream",
          "text": [
            "Epoch [66/200], Val Loss: 2.6474\n"
          ]
        },
        {
          "name": "stderr",
          "output_type": "stream",
          "text": [
            "Epoch: [67/200], Train Loss: 2.9403: 100%|██████████| 590/590 [00:59<00:00,  9.91it/s]\n"
          ]
        },
        {
          "name": "stdout",
          "output_type": "stream",
          "text": [
            "Epoch [67/200], Val Loss: 2.6723\n"
          ]
        },
        {
          "name": "stderr",
          "output_type": "stream",
          "text": [
            "Epoch: [68/200], Train Loss: 4.5784: 100%|██████████| 590/590 [00:59<00:00,  9.91it/s]\n"
          ]
        },
        {
          "name": "stdout",
          "output_type": "stream",
          "text": [
            "Epoch [68/200], Val Loss: 2.6298\n"
          ]
        },
        {
          "name": "stderr",
          "output_type": "stream",
          "text": [
            "Epoch: [69/200], Train Loss: 4.0411: 100%|██████████| 590/590 [00:59<00:00,  9.91it/s]\n"
          ]
        },
        {
          "name": "stdout",
          "output_type": "stream",
          "text": [
            "Epoch [69/200], Val Loss: 2.6366\n"
          ]
        },
        {
          "name": "stderr",
          "output_type": "stream",
          "text": [
            "Epoch: [70/200], Train Loss: 3.7452: 100%|██████████| 590/590 [00:59<00:00,  9.92it/s]\n"
          ]
        },
        {
          "name": "stdout",
          "output_type": "stream",
          "text": [
            "Epoch [70/200], Val Loss: 2.6013\n"
          ]
        },
        {
          "name": "stderr",
          "output_type": "stream",
          "text": [
            "Epoch: [71/200], Train Loss: 3.7906: 100%|██████████| 590/590 [00:59<00:00,  9.89it/s]\n"
          ]
        },
        {
          "name": "stdout",
          "output_type": "stream",
          "text": [
            "Epoch [71/200], Val Loss: 2.5747\n"
          ]
        },
        {
          "name": "stderr",
          "output_type": "stream",
          "text": [
            "Epoch: [72/200], Train Loss: 2.9510: 100%|██████████| 590/590 [00:59<00:00,  9.90it/s]\n"
          ]
        },
        {
          "name": "stdout",
          "output_type": "stream",
          "text": [
            "Epoch [72/200], Val Loss: 2.5537\n"
          ]
        },
        {
          "name": "stderr",
          "output_type": "stream",
          "text": [
            "Epoch: [73/200], Train Loss: 4.4149: 100%|██████████| 590/590 [00:59<00:00,  9.87it/s]\n"
          ]
        },
        {
          "name": "stdout",
          "output_type": "stream",
          "text": [
            "Epoch [73/200], Val Loss: 2.5991\n"
          ]
        },
        {
          "name": "stderr",
          "output_type": "stream",
          "text": [
            "Epoch: [74/200], Train Loss: 3.3137: 100%|██████████| 590/590 [00:59<00:00,  9.93it/s]\n"
          ]
        },
        {
          "name": "stdout",
          "output_type": "stream",
          "text": [
            "Epoch [74/200], Val Loss: 2.5645\n"
          ]
        },
        {
          "name": "stderr",
          "output_type": "stream",
          "text": [
            "Epoch: [75/200], Train Loss: 2.9347: 100%|██████████| 590/590 [00:59<00:00,  9.90it/s]\n"
          ]
        },
        {
          "name": "stdout",
          "output_type": "stream",
          "text": [
            "Epoch [75/200], Val Loss: 2.6819\n"
          ]
        },
        {
          "name": "stderr",
          "output_type": "stream",
          "text": [
            "Epoch: [76/200], Train Loss: 2.8136: 100%|██████████| 590/590 [00:59<00:00,  9.87it/s]\n"
          ]
        },
        {
          "name": "stdout",
          "output_type": "stream",
          "text": [
            "Epoch [76/200], Val Loss: 2.6000\n"
          ]
        },
        {
          "name": "stderr",
          "output_type": "stream",
          "text": [
            "Epoch: [77/200], Train Loss: 4.2745: 100%|██████████| 590/590 [00:59<00:00,  9.92it/s]\n"
          ]
        },
        {
          "name": "stdout",
          "output_type": "stream",
          "text": [
            "Epoch [77/200], Val Loss: 2.6540\n"
          ]
        },
        {
          "name": "stderr",
          "output_type": "stream",
          "text": [
            "Epoch: [78/200], Train Loss: 2.8489: 100%|██████████| 590/590 [00:59<00:00,  9.91it/s]\n"
          ]
        },
        {
          "name": "stdout",
          "output_type": "stream",
          "text": [
            "Epoch [78/200], Val Loss: 2.5983\n"
          ]
        },
        {
          "name": "stderr",
          "output_type": "stream",
          "text": [
            "Epoch: [79/200], Train Loss: 2.7090: 100%|██████████| 590/590 [00:59<00:00,  9.90it/s]\n"
          ]
        },
        {
          "name": "stdout",
          "output_type": "stream",
          "text": [
            "Epoch [79/200], Val Loss: 2.5590\n"
          ]
        },
        {
          "name": "stderr",
          "output_type": "stream",
          "text": [
            "Epoch: [80/200], Train Loss: 4.0158: 100%|██████████| 590/590 [00:59<00:00,  9.89it/s]\n"
          ]
        },
        {
          "name": "stdout",
          "output_type": "stream",
          "text": [
            "Epoch [80/200], Val Loss: 2.6192\n"
          ]
        },
        {
          "name": "stderr",
          "output_type": "stream",
          "text": [
            "Epoch: [81/200], Train Loss: 4.4313: 100%|██████████| 590/590 [00:59<00:00,  9.90it/s]\n"
          ]
        },
        {
          "name": "stdout",
          "output_type": "stream",
          "text": [
            "Epoch [81/200], Val Loss: 2.6062\n"
          ]
        },
        {
          "name": "stderr",
          "output_type": "stream",
          "text": [
            "Epoch: [82/200], Train Loss: 3.0030: 100%|██████████| 590/590 [00:59<00:00,  9.90it/s]\n"
          ]
        },
        {
          "name": "stdout",
          "output_type": "stream",
          "text": [
            "Epoch [82/200], Val Loss: 2.5125\n"
          ]
        },
        {
          "name": "stderr",
          "output_type": "stream",
          "text": [
            "Epoch: [83/200], Train Loss: 3.7730: 100%|██████████| 590/590 [00:59<00:00,  9.88it/s]\n"
          ]
        },
        {
          "name": "stdout",
          "output_type": "stream",
          "text": [
            "Epoch [83/200], Val Loss: 2.6085\n"
          ]
        },
        {
          "name": "stderr",
          "output_type": "stream",
          "text": [
            "Epoch: [84/200], Train Loss: 2.7911: 100%|██████████| 590/590 [00:59<00:00,  9.89it/s]\n"
          ]
        },
        {
          "name": "stdout",
          "output_type": "stream",
          "text": [
            "Epoch [84/200], Val Loss: 2.5652\n"
          ]
        },
        {
          "name": "stderr",
          "output_type": "stream",
          "text": [
            "Epoch: [85/200], Train Loss: 4.2813: 100%|██████████| 590/590 [00:59<00:00,  9.91it/s]\n"
          ]
        },
        {
          "name": "stdout",
          "output_type": "stream",
          "text": [
            "Epoch [85/200], Val Loss: 2.5709\n"
          ]
        },
        {
          "name": "stderr",
          "output_type": "stream",
          "text": [
            "Epoch: [86/200], Train Loss: 4.4915: 100%|██████████| 590/590 [00:59<00:00,  9.91it/s]\n"
          ]
        },
        {
          "name": "stdout",
          "output_type": "stream",
          "text": [
            "Epoch [86/200], Val Loss: 2.5540\n"
          ]
        },
        {
          "name": "stderr",
          "output_type": "stream",
          "text": [
            "Epoch: [87/200], Train Loss: 2.4995: 100%|██████████| 590/590 [00:59<00:00,  9.89it/s]\n"
          ]
        },
        {
          "name": "stdout",
          "output_type": "stream",
          "text": [
            "Epoch [87/200], Val Loss: 2.5545\n"
          ]
        },
        {
          "name": "stderr",
          "output_type": "stream",
          "text": [
            "Epoch: [88/200], Train Loss: 2.6700: 100%|██████████| 590/590 [00:59<00:00,  9.89it/s]\n"
          ]
        },
        {
          "name": "stdout",
          "output_type": "stream",
          "text": [
            "Epoch [88/200], Val Loss: 2.5597\n"
          ]
        },
        {
          "name": "stderr",
          "output_type": "stream",
          "text": [
            "Epoch: [89/200], Train Loss: 2.5253: 100%|██████████| 590/590 [00:59<00:00,  9.89it/s]\n"
          ]
        },
        {
          "name": "stdout",
          "output_type": "stream",
          "text": [
            "Epoch [89/200], Val Loss: 2.4939\n"
          ]
        },
        {
          "name": "stderr",
          "output_type": "stream",
          "text": [
            "Epoch: [90/200], Train Loss: 1.9459: 100%|██████████| 590/590 [00:59<00:00,  9.92it/s]\n"
          ]
        },
        {
          "name": "stdout",
          "output_type": "stream",
          "text": [
            "Epoch [90/200], Val Loss: 2.5307\n"
          ]
        },
        {
          "name": "stderr",
          "output_type": "stream",
          "text": [
            "Epoch: [91/200], Train Loss: 4.5435: 100%|██████████| 590/590 [00:59<00:00,  9.92it/s]\n"
          ]
        },
        {
          "name": "stdout",
          "output_type": "stream",
          "text": [
            "Epoch [91/200], Val Loss: 2.5513\n"
          ]
        },
        {
          "name": "stderr",
          "output_type": "stream",
          "text": [
            "Epoch: [92/200], Train Loss: 2.8260: 100%|██████████| 590/590 [00:59<00:00,  9.93it/s]\n"
          ]
        },
        {
          "name": "stdout",
          "output_type": "stream",
          "text": [
            "Epoch [92/200], Val Loss: 2.5261\n"
          ]
        },
        {
          "name": "stderr",
          "output_type": "stream",
          "text": [
            "Epoch: [93/200], Train Loss: 3.2622: 100%|██████████| 590/590 [00:59<00:00,  9.91it/s]\n"
          ]
        },
        {
          "name": "stdout",
          "output_type": "stream",
          "text": [
            "Epoch [93/200], Val Loss: 2.5112\n"
          ]
        },
        {
          "name": "stderr",
          "output_type": "stream",
          "text": [
            "Epoch: [94/200], Train Loss: 3.1503: 100%|██████████| 590/590 [00:59<00:00,  9.90it/s]\n"
          ]
        },
        {
          "name": "stdout",
          "output_type": "stream",
          "text": [
            "Epoch [94/200], Val Loss: 2.5825\n"
          ]
        },
        {
          "name": "stderr",
          "output_type": "stream",
          "text": [
            "Epoch: [95/200], Train Loss: 4.5632: 100%|██████████| 590/590 [00:59<00:00,  9.92it/s]\n"
          ]
        },
        {
          "name": "stdout",
          "output_type": "stream",
          "text": [
            "Epoch [95/200], Val Loss: 2.5055\n"
          ]
        },
        {
          "name": "stderr",
          "output_type": "stream",
          "text": [
            "Epoch: [96/200], Train Loss: 3.5194: 100%|██████████| 590/590 [00:59<00:00,  9.90it/s]\n"
          ]
        },
        {
          "name": "stdout",
          "output_type": "stream",
          "text": [
            "Epoch [96/200], Val Loss: 2.5490\n"
          ]
        },
        {
          "name": "stderr",
          "output_type": "stream",
          "text": [
            "Epoch: [97/200], Train Loss: 3.2202: 100%|██████████| 590/590 [00:59<00:00,  9.89it/s]\n"
          ]
        },
        {
          "name": "stdout",
          "output_type": "stream",
          "text": [
            "Epoch [97/200], Val Loss: 2.5456\n"
          ]
        },
        {
          "name": "stderr",
          "output_type": "stream",
          "text": [
            "Epoch: [98/200], Train Loss: 1.6353: 100%|██████████| 590/590 [00:59<00:00,  9.92it/s]\n"
          ]
        },
        {
          "name": "stdout",
          "output_type": "stream",
          "text": [
            "Epoch [98/200], Val Loss: 2.5322\n"
          ]
        },
        {
          "name": "stderr",
          "output_type": "stream",
          "text": [
            "Epoch: [99/200], Train Loss: 3.5414: 100%|██████████| 590/590 [00:59<00:00,  9.92it/s]\n"
          ]
        },
        {
          "name": "stdout",
          "output_type": "stream",
          "text": [
            "Epoch [99/200], Val Loss: 2.4947\n"
          ]
        },
        {
          "name": "stderr",
          "output_type": "stream",
          "text": [
            "Epoch: [100/200], Train Loss: 4.6503: 100%|██████████| 590/590 [00:59<00:00,  9.91it/s]\n"
          ]
        },
        {
          "name": "stdout",
          "output_type": "stream",
          "text": [
            "Epoch [100/200], Val Loss: 2.5156\n"
          ]
        },
        {
          "name": "stderr",
          "output_type": "stream",
          "text": [
            "Epoch: [101/200], Train Loss: 3.7923: 100%|██████████| 590/590 [00:59<00:00,  9.90it/s]\n"
          ]
        },
        {
          "name": "stdout",
          "output_type": "stream",
          "text": [
            "Epoch [101/200], Val Loss: 2.5037\n"
          ]
        },
        {
          "name": "stderr",
          "output_type": "stream",
          "text": [
            "Epoch: [102/200], Train Loss: 2.7042: 100%|██████████| 590/590 [00:59<00:00,  9.91it/s]\n"
          ]
        },
        {
          "name": "stdout",
          "output_type": "stream",
          "text": [
            "Epoch [102/200], Val Loss: 2.4934\n"
          ]
        },
        {
          "name": "stderr",
          "output_type": "stream",
          "text": [
            "Epoch: [103/200], Train Loss: 2.2996: 100%|██████████| 590/590 [00:59<00:00,  9.91it/s]\n"
          ]
        },
        {
          "name": "stdout",
          "output_type": "stream",
          "text": [
            "Epoch [103/200], Val Loss: 2.5397\n"
          ]
        },
        {
          "name": "stderr",
          "output_type": "stream",
          "text": [
            "Epoch: [104/200], Train Loss: 3.1903: 100%|██████████| 590/590 [00:59<00:00,  9.92it/s]\n"
          ]
        },
        {
          "name": "stdout",
          "output_type": "stream",
          "text": [
            "Epoch [104/200], Val Loss: 2.5070\n"
          ]
        },
        {
          "name": "stderr",
          "output_type": "stream",
          "text": [
            "Epoch: [105/200], Train Loss: 3.4973: 100%|██████████| 590/590 [00:59<00:00,  9.91it/s]\n"
          ]
        },
        {
          "name": "stdout",
          "output_type": "stream",
          "text": [
            "Epoch [105/200], Val Loss: 2.4593\n"
          ]
        },
        {
          "name": "stderr",
          "output_type": "stream",
          "text": [
            "Epoch: [106/200], Train Loss: 4.2383: 100%|██████████| 590/590 [00:59<00:00,  9.89it/s]\n"
          ]
        },
        {
          "name": "stdout",
          "output_type": "stream",
          "text": [
            "Epoch [106/200], Val Loss: 2.5495\n"
          ]
        },
        {
          "name": "stderr",
          "output_type": "stream",
          "text": [
            "Epoch: [107/200], Train Loss: 2.1124: 100%|██████████| 590/590 [01:00<00:00,  9.82it/s]\n"
          ]
        },
        {
          "name": "stdout",
          "output_type": "stream",
          "text": [
            "Epoch [107/200], Val Loss: 2.4594\n"
          ]
        },
        {
          "name": "stderr",
          "output_type": "stream",
          "text": [
            "Epoch: [108/200], Train Loss: 2.8101: 100%|██████████| 590/590 [00:59<00:00,  9.90it/s]\n"
          ]
        },
        {
          "name": "stdout",
          "output_type": "stream",
          "text": [
            "Epoch [108/200], Val Loss: 2.5566\n"
          ]
        },
        {
          "name": "stderr",
          "output_type": "stream",
          "text": [
            "Epoch: [109/200], Train Loss: 2.5673: 100%|██████████| 590/590 [00:59<00:00,  9.89it/s]\n"
          ]
        },
        {
          "name": "stdout",
          "output_type": "stream",
          "text": [
            "Epoch [109/200], Val Loss: 2.5168\n"
          ]
        },
        {
          "name": "stderr",
          "output_type": "stream",
          "text": [
            "Epoch: [110/200], Train Loss: 2.7791: 100%|██████████| 590/590 [00:59<00:00,  9.90it/s]\n"
          ]
        },
        {
          "name": "stdout",
          "output_type": "stream",
          "text": [
            "Epoch [110/200], Val Loss: 2.4636\n"
          ]
        },
        {
          "name": "stderr",
          "output_type": "stream",
          "text": [
            "Epoch: [111/200], Train Loss: 2.3704: 100%|██████████| 590/590 [00:59<00:00,  9.91it/s]\n"
          ]
        },
        {
          "name": "stdout",
          "output_type": "stream",
          "text": [
            "Epoch [111/200], Val Loss: 2.5158\n"
          ]
        },
        {
          "name": "stderr",
          "output_type": "stream",
          "text": [
            "Epoch: [112/200], Train Loss: 3.1545: 100%|██████████| 590/590 [00:59<00:00,  9.91it/s]\n"
          ]
        },
        {
          "name": "stdout",
          "output_type": "stream",
          "text": [
            "Epoch [112/200], Val Loss: 2.5129\n"
          ]
        },
        {
          "name": "stderr",
          "output_type": "stream",
          "text": [
            "Epoch: [113/200], Train Loss: 4.8968: 100%|██████████| 590/590 [00:59<00:00,  9.90it/s]\n"
          ]
        },
        {
          "name": "stdout",
          "output_type": "stream",
          "text": [
            "Epoch [113/200], Val Loss: 2.5128\n"
          ]
        },
        {
          "name": "stderr",
          "output_type": "stream",
          "text": [
            "Epoch: [114/200], Train Loss: 4.0574: 100%|██████████| 590/590 [00:59<00:00,  9.92it/s]\n"
          ]
        },
        {
          "name": "stdout",
          "output_type": "stream",
          "text": [
            "Epoch [114/200], Val Loss: 2.5405\n"
          ]
        },
        {
          "name": "stderr",
          "output_type": "stream",
          "text": [
            "Epoch: [115/200], Train Loss: 4.3244: 100%|██████████| 590/590 [00:59<00:00,  9.88it/s]\n"
          ]
        },
        {
          "name": "stdout",
          "output_type": "stream",
          "text": [
            "Epoch [115/200], Val Loss: 2.5087\n"
          ]
        },
        {
          "name": "stderr",
          "output_type": "stream",
          "text": [
            "Epoch: [116/200], Train Loss: 3.5648: 100%|██████████| 590/590 [00:59<00:00,  9.91it/s]\n"
          ]
        },
        {
          "name": "stdout",
          "output_type": "stream",
          "text": [
            "Epoch [116/200], Val Loss: 2.4849\n"
          ]
        },
        {
          "name": "stderr",
          "output_type": "stream",
          "text": [
            "Epoch: [117/200], Train Loss: 3.6359: 100%|██████████| 590/590 [00:59<00:00,  9.91it/s]\n"
          ]
        },
        {
          "name": "stdout",
          "output_type": "stream",
          "text": [
            "Epoch [117/200], Val Loss: 2.5186\n"
          ]
        },
        {
          "name": "stderr",
          "output_type": "stream",
          "text": [
            "Epoch: [118/200], Train Loss: 2.6738: 100%|██████████| 590/590 [00:59<00:00,  9.92it/s]\n"
          ]
        },
        {
          "name": "stdout",
          "output_type": "stream",
          "text": [
            "Epoch [118/200], Val Loss: 2.5196\n"
          ]
        },
        {
          "name": "stderr",
          "output_type": "stream",
          "text": [
            "Epoch: [119/200], Train Loss: 2.7551: 100%|██████████| 590/590 [00:59<00:00,  9.92it/s]\n"
          ]
        },
        {
          "name": "stdout",
          "output_type": "stream",
          "text": [
            "Epoch [119/200], Val Loss: 2.5293\n"
          ]
        },
        {
          "name": "stderr",
          "output_type": "stream",
          "text": [
            "Epoch: [120/200], Train Loss: 4.2167: 100%|██████████| 590/590 [00:59<00:00,  9.91it/s]\n"
          ]
        },
        {
          "name": "stdout",
          "output_type": "stream",
          "text": [
            "Epoch [120/200], Val Loss: 2.4683\n"
          ]
        },
        {
          "name": "stderr",
          "output_type": "stream",
          "text": [
            "Epoch: [121/200], Train Loss: 2.9525: 100%|██████████| 590/590 [00:59<00:00,  9.91it/s]\n"
          ]
        },
        {
          "name": "stdout",
          "output_type": "stream",
          "text": [
            "Epoch [121/200], Val Loss: 2.5001\n"
          ]
        },
        {
          "name": "stderr",
          "output_type": "stream",
          "text": [
            "Epoch: [122/200], Train Loss: 3.3669: 100%|██████████| 590/590 [00:59<00:00,  9.92it/s]\n"
          ]
        },
        {
          "name": "stdout",
          "output_type": "stream",
          "text": [
            "Epoch [122/200], Val Loss: 2.6120\n"
          ]
        },
        {
          "name": "stderr",
          "output_type": "stream",
          "text": [
            "Epoch: [123/200], Train Loss: 2.6844: 100%|██████████| 590/590 [00:59<00:00,  9.95it/s]\n"
          ]
        },
        {
          "name": "stdout",
          "output_type": "stream",
          "text": [
            "Epoch [123/200], Val Loss: 2.5039\n"
          ]
        },
        {
          "name": "stderr",
          "output_type": "stream",
          "text": [
            "Epoch: [124/200], Train Loss: 4.6334: 100%|██████████| 590/590 [00:59<00:00,  9.90it/s]\n"
          ]
        },
        {
          "name": "stdout",
          "output_type": "stream",
          "text": [
            "Epoch [124/200], Val Loss: 2.5496\n"
          ]
        },
        {
          "name": "stderr",
          "output_type": "stream",
          "text": [
            "Epoch: [125/200], Train Loss: 4.9822: 100%|██████████| 590/590 [00:59<00:00,  9.90it/s]\n"
          ]
        },
        {
          "name": "stdout",
          "output_type": "stream",
          "text": [
            "Epoch [125/200], Val Loss: 2.4789\n",
            "Training complete.\n"
          ]
        },
        {
          "data": {
            "image/png": "[encoded data removed]",
            "text/plain": [
              "<Figure size 640x480 with 1 Axes>"
            ]
          },
          "metadata": {},
          "output_type": "display_data"
        }
      ],
      "source": [
        "import tqdm\n",
        "\n",
        "es = EarlyStopping(patience=20, min_delta=0, restore_best_weights=True)\n",
        "\n",
        "epoch_train_loss = []\n",
        "epoch_val_loss = []\n",
        "\n",
        "num_epochs = 200\n",
        "for epoch in range(num_epochs):\n",
        "    # Train\n",
        "    train_loss = []\n",
        "    #scheduler.step()\n",
        "    inception.train()\n",
        "    pbar = tqdm.tqdm(trainLoader, total=len(trainLoader))\n",
        "    for images, labels in pbar:\n",
        "        images = images.to(\"cuda\")\n",
        "        labels = labels.to(\"cuda\")\n",
        "\n",
        "        optimizer.zero_grad()\n",
        "\n",
        "        outputs, aux_outputs = inception(images)\n",
        "        loss1 = loss_function(outputs, labels)\n",
        "        loss2 = loss_function(aux_outputs, labels)\n",
        "        loss = loss1 + 0.4*loss2\n",
        "\n",
        "        # loss = loss_function(outputs, labels)\n",
        "\n",
        "        loss.backward()\n",
        "        optimizer.step()\n",
        "        train_loss.append(loss.item())\n",
        "        pbar.set_description(f\"Epoch: [{epoch + 1}/{num_epochs}], Train Loss: {loss.item():.4f}\")\n",
        "\n",
        "    avg_train_loss = np.mean(train_loss)\n",
        "    epoch_train_loss.append(avg_train_loss)\n",
        "\n",
        "    # Validation\n",
        "    inception.eval()\n",
        "    val_loss = []\n",
        "    with torch.no_grad():\n",
        "        for images, labels in valLoader:\n",
        "            images = images.to(\"cuda\")\n",
        "            labels = labels.to(\"cuda\")\n",
        "            outputs = inception(images)\n",
        "            loss = loss_function(outputs, labels)\n",
        "            val_loss.append(loss.item())\n",
        "\n",
        "    avg_val_loss = np.mean(val_loss)\n",
        "    epoch_val_loss.append(avg_val_loss)\n",
        "    print(f'Epoch [{epoch + 1}/{num_epochs}], Val Loss: {np.mean(avg_val_loss):.4f}')\n",
        "\n",
        "    # Check for ES\n",
        "    if es(inception, avg_val_loss):\n",
        "        pbar.set_description(f\"Epoch: {epoch+1}, Train Loss: {avg_train_loss:.4f}, Val Loss: {avg_val_loss:.4f}, {es.status}\")\n",
        "        break\n",
        "    else:\n",
        "        pbar.set_description(f\"Epoch: {epoch+1}, Train Loss: {avg_train_loss:.4f}, Val Loss: {avg_val_loss:.4f}\")\n",
        "\n",
        "print(\"Training complete.\")\n",
        "create_graph(epoch_train_loss, epoch_val_loss)\n"
      ]
    },
    {
      "cell_type": "code",
      "execution_count": 19,
      "metadata": {
        "colab": {
          "base_uri": "https://localhost:8080/"
        },
        "id": "rUHeqnUzvKtk",
        "outputId": "de9ea183-e210-4160-e835-ae081f14f984"
      },
      "outputs": [
        {
          "name": "stdout",
          "output_type": "stream",
          "text": [
            "Test Accuracy:  0.3853989813242784\n"
          ]
        }
      ],
      "source": [
        "#Test the model\n",
        "y_test = []\n",
        "y_test_predict = []\n",
        "\n",
        "inception.eval()\n",
        "for images, labels in testLoader:\n",
        "    images = images.to(\"cuda\")\n",
        "    labels = labels.to(\"cuda\")\n",
        "\n",
        "    with torch.no_grad():\n",
        "        outputs = inception(images).cpu()\n",
        "        _, predicted = torch.max(outputs, 1)\n",
        "        y_test_predict.extend(predicted.numpy())\n",
        "        y_test.extend(labels.cpu().numpy())\n",
        "\n",
        "print(\"Test Accuracy: \", accuracy_score(y_test, y_test_predict))"
      ]
    },
    {
      "cell_type": "code",
      "execution_count": 20,
      "metadata": {
        "id": "UJcJ3qOpvO0U"
      },
      "outputs": [],
      "source": [
        "\n",
        "if run_on_local == 1:\n",
        "    save_path = './'\n",
        "else:\n",
        "    save_path = '/content/drive/MyDrive/ML_final/'\n",
        "\n",
        "torch.save({\n",
        "            'epoch': epoch,\n",
        "            'model_state_dict': inception.state_dict(),\n",
        "            'optimizer_state_dict': optimizer.state_dict(),\n",
        "            'loss': loss\n",
        "            }, save_path + '200_inception.pth')"
      ]
    },
    {
      "cell_type": "code",
      "execution_count": 21,
      "metadata": {
        "colab": {
          "base_uri": "https://localhost:8080/"
        },
        "id": "l28pQpNvvO0U",
        "outputId": "0a6ca782-f794-471f-9a38-d8ab56ee702e"
      },
      "outputs": [],
      "source": [
        "# model = inception\n",
        "# optimizer = optimizer\n",
        "\n",
        "# checkpoint = torch.load(save_path + '200_inception.pth')\n",
        "# model.load_state_dict(checkpoint['model_state_dict'])\n",
        "# optimizer.load_state_dict(checkpoint['optimizer_state_dict'])\n",
        "# epoch = checkpoint['epoch']\n",
        "# loss = checkpoint['loss']\n",
        "\n",
        "# model.eval()"
      ]
    },
    {
      "cell_type": "code",
      "execution_count": 22,
      "metadata": {
        "colab": {
          "base_uri": "https://localhost:8080/"
        },
        "id": "Xmmw1R3TvO0U",
        "outputId": "44b4f68c-b77f-4948-82c3-35b92814f724"
      },
      "outputs": [],
      "source": [
        "# import torch\n",
        "# import torchvision.transforms as transforms\n",
        "# from PIL import Image\n",
        "\n",
        "\n",
        "# #image_path = '/content/drive/MyDrive/ML_final/sootyalbatross.jpeg'  # Path to your test image\n",
        "# image_path = './LOFrJSL.jpeg'\n",
        "# image = Image.open(image_path)\n",
        "\n",
        "\n",
        "# transform = transforms.Compose([\n",
        "#     transforms.Resize((299, 299)),\n",
        "#     transforms.ToTensor(),\n",
        "#     transforms.Normalize(mean=[0.485, 0.456, 0.406], std=[0.229, 0.224, 0.225]),\n",
        "# ])\n",
        "\n",
        "# # Apply the transform to the image\n",
        "# input_tensor = transform(image)\n",
        "# input_tensor = input_tensor.unsqueeze(0)\n",
        "# input_tensor = input_tensor.to('cuda')\n",
        "\n",
        "# # Match classname to index\n",
        "# idx_to_class = {v: k for k, v in dataset.class_to_idx.items()}\n",
        "\n",
        "# # Predict\n",
        "# model.eval()\n",
        "# with torch.no_grad():\n",
        "#     output = model(input_tensor)\n",
        "#     _, predicted_index = torch.max(output, 1)\n",
        "#     predicted_index = predicted_index.item()\n",
        "\n",
        "# predicted_class_name = idx_to_class[predicted_index]\n",
        "# print(predicted_class_name)\n",
        "\n"
      ]
    },
    {
      "cell_type": "markdown",
      "metadata": {
        "id": "Af-v05fIRp60"
      },
      "source": [
        "#Resnet50\n"
      ]
    },
    {
      "cell_type": "code",
      "execution_count": 6,
      "metadata": {
        "colab": {
          "base_uri": "https://localhost:8080/"
        },
        "id": "wT1YS6ktRtSj",
        "outputId": "b49ef953-a144-4d7d-cc4e-f909acc27e80"
      },
      "outputs": [
        {
          "name": "stdout",
          "output_type": "stream",
          "text": [
            "Dataset ImageFolder\n",
            "    Number of datapoints: 11788\n",
            "    Root location: ./content/data/CUB_200_2011/images\n",
            "    StandardTransform\n",
            "Transform: Compose(\n",
            "               Resize(size=224, interpolation=bilinear, max_size=None, antialias=warn)\n",
            "               RandomHorizontalFlip(p=0.5)\n",
            "               RandomVerticalFlip(p=0.5)\n",
            "               RandomRotation(degrees=[-45.0, 45.0], interpolation=nearest, expand=False, fill=0)\n",
            "               ColorJitter(brightness=(0.5, 1.5), contrast=(0.5, 1.5), saturation=(0.5, 1.5), hue=(-0.5, 0.5))\n",
            "               CenterCrop(size=(224, 224))\n",
            "               ToTensor()\n",
            "               Normalize(mean=[0.485, 0.456, 0.406], std=[0.229, 0.224, 0.225])\n",
            "           ) 9432 1178 1178 11788\n"
          ]
        }
      ],
      "source": [
        "transform = transforms.Compose([\n",
        "    transforms.Resize((224)),\n",
        "    transforms.RandomHorizontalFlip(),\n",
        "    transforms.RandomVerticalFlip(),\n",
        "    transforms.RandomRotation(degrees=45),\n",
        "    transforms.ColorJitter(brightness=0.5, contrast=0.5, saturation=0.5, hue=0.5),\n",
        "    transforms.CenterCrop(224),\n",
        "    transforms.ToTensor(),\n",
        "    transforms.Normalize(mean=[0.485, 0.456, 0.406], std=[0.229, 0.224, 0.225])\n",
        "])\n",
        "\n",
        "\n",
        "#dataset = torchvision.datasets.ImageFolder(root='/content/data/CUB_200_2011/images', transform=transform\n",
        "dataset = torchvision.datasets.ImageFolder(root='./content/data/CUB_200_2011/images', transform=transform)\n",
        "# Split to 80%/10%/10%\n",
        "\n",
        "train_split = int(len(dataset) * .8)\n",
        "val_split = int(len(dataset) * .1)\n",
        "test_split = int(len(dataset) * .1)\n",
        "\n",
        "#Make sure splits match 1:1 with dataset\n",
        "total = train_split + val_split + test_split\n",
        "if total < len(dataset):\n",
        "    train_split = train_split + (len(dataset) - total)\n",
        "\n",
        "\n",
        "\n",
        "print(dataset, train_split, val_split, test_split, train_split + val_split + test_split )\n",
        "train, val, test = torch.utils.data.random_split(dataset, [train_split, val_split, test_split])\n",
        "\n",
        "num_workers=2\n",
        "batch_size=16\n",
        "\n",
        "trainLoader = DataLoader(train , batch_size=batch_size,\n",
        "                                           num_workers=num_workers,  shuffle=True)\n",
        "valLoader = DataLoader(val, batch_size=batch_size,\n",
        "                                          num_workers=num_workers )\n",
        "testLoader = DataLoader(test, batch_size=batch_size,\n",
        "                                          num_workers=num_workers)"
      ]
    },
    {
      "cell_type": "code",
      "execution_count": 7,
      "metadata": {
        "colab": {
          "base_uri": "https://localhost:8080/"
        },
        "id": "ntaj96RKSX55",
        "outputId": "03c55e0c-81ef-4cc5-c416-38210c04ad08"
      },
      "outputs": [
        {
          "name": "stdout",
          "output_type": "stream",
          "text": [
            "ResNet50_Weights.IMAGENET1K_V2\n",
            "classes: 200\n"
          ]
        }
      ],
      "source": [
        "import torchvision.models as models\n",
        "\n",
        "\n",
        "torch.cuda.empty_cache()\n",
        "\n",
        "weightz = models.get_model_weights(\"resnet50\")\n",
        "weightz = weightz.DEFAULT\n",
        "print(weightz)\n",
        "\n",
        "resnet50 = models.resnet50(weights=weightz)\n",
        "\n",
        "num_classes = len(dataset.classes)\n",
        "print(\"classes:\", num_classes)\n",
        "\n",
        "for param in resnet50.parameters():\n",
        "    param.requires_grad = False\n",
        "\n",
        "num_features = resnet50.fc.in_features\n",
        "resnet50.fc = torch.nn.Linear(num_features, num_classes)\n",
        "\n",
        "# Create an object of the model\n",
        "resnet50 = resnet50.to(\"cuda\")\n",
        "\n",
        "# optimizer\n",
        "optimizer = optim.RMSprop(resnet50.parameters(), lr=1e-4)\n",
        "\n",
        "# Loss\n",
        "loss_function = nn.CrossEntropyLoss()"
      ]
    },
    {
      "cell_type": "code",
      "execution_count": 9,
      "metadata": {
        "colab": {
          "base_uri": "https://localhost:8080/",
          "height": 640
        },
        "id": "fqDk3XI0TP9s",
        "outputId": "c4b6acd8-b5ac-47f7-a633-2f17a3bb772b"
      },
      "outputs": [
        {
          "name": "stderr",
          "output_type": "stream",
          "text": [
            "Epoch: [1/200], Train Loss: 4.6992: 100%|██████████| 590/590 [00:40<00:00, 14.41it/s]\n"
          ]
        },
        {
          "name": "stdout",
          "output_type": "stream",
          "text": [
            "Epoch [1/200], Val Loss: 4.7099\n"
          ]
        },
        {
          "name": "stderr",
          "output_type": "stream",
          "text": [
            "Epoch: [2/200], Train Loss: 4.6315: 100%|██████████| 590/590 [00:40<00:00, 14.45it/s]\n"
          ]
        },
        {
          "name": "stdout",
          "output_type": "stream",
          "text": [
            "Epoch [2/200], Val Loss: 4.5229\n"
          ]
        },
        {
          "name": "stderr",
          "output_type": "stream",
          "text": [
            "Epoch: [3/200], Train Loss: 4.5234: 100%|██████████| 590/590 [00:40<00:00, 14.42it/s]\n"
          ]
        },
        {
          "name": "stdout",
          "output_type": "stream",
          "text": [
            "Epoch [3/200], Val Loss: 4.3704\n"
          ]
        },
        {
          "name": "stderr",
          "output_type": "stream",
          "text": [
            "Epoch: [4/200], Train Loss: 3.9648: 100%|██████████| 590/590 [00:40<00:00, 14.43it/s]\n"
          ]
        },
        {
          "name": "stdout",
          "output_type": "stream",
          "text": [
            "Epoch [4/200], Val Loss: 4.2264\n"
          ]
        },
        {
          "name": "stderr",
          "output_type": "stream",
          "text": [
            "Epoch: [5/200], Train Loss: 4.3644: 100%|██████████| 590/590 [00:40<00:00, 14.45it/s]\n"
          ]
        },
        {
          "name": "stdout",
          "output_type": "stream",
          "text": [
            "Epoch [5/200], Val Loss: 4.1137\n"
          ]
        },
        {
          "name": "stderr",
          "output_type": "stream",
          "text": [
            "Epoch: [6/200], Train Loss: 3.1909: 100%|██████████| 590/590 [00:40<00:00, 14.41it/s]\n"
          ]
        },
        {
          "name": "stdout",
          "output_type": "stream",
          "text": [
            "Epoch [6/200], Val Loss: 4.0095\n"
          ]
        },
        {
          "name": "stderr",
          "output_type": "stream",
          "text": [
            "Epoch: [7/200], Train Loss: 3.5258: 100%|██████████| 590/590 [00:40<00:00, 14.43it/s]\n"
          ]
        },
        {
          "name": "stdout",
          "output_type": "stream",
          "text": [
            "Epoch [7/200], Val Loss: 3.9279\n"
          ]
        },
        {
          "name": "stderr",
          "output_type": "stream",
          "text": [
            "Epoch: [8/200], Train Loss: 4.0287: 100%|██████████| 590/590 [00:40<00:00, 14.40it/s]\n"
          ]
        },
        {
          "name": "stdout",
          "output_type": "stream",
          "text": [
            "Epoch [8/200], Val Loss: 3.8437\n"
          ]
        },
        {
          "name": "stderr",
          "output_type": "stream",
          "text": [
            "Epoch: [9/200], Train Loss: 3.5212: 100%|██████████| 590/590 [00:40<00:00, 14.39it/s]\n"
          ]
        },
        {
          "name": "stdout",
          "output_type": "stream",
          "text": [
            "Epoch [9/200], Val Loss: 3.7597\n"
          ]
        },
        {
          "name": "stderr",
          "output_type": "stream",
          "text": [
            "Epoch: [10/200], Train Loss: 4.0321: 100%|██████████| 590/590 [00:40<00:00, 14.41it/s]\n"
          ]
        },
        {
          "name": "stdout",
          "output_type": "stream",
          "text": [
            "Epoch [10/200], Val Loss: 3.6780\n"
          ]
        },
        {
          "name": "stderr",
          "output_type": "stream",
          "text": [
            "Epoch: [11/200], Train Loss: 3.7820: 100%|██████████| 590/590 [00:40<00:00, 14.43it/s]\n"
          ]
        },
        {
          "name": "stdout",
          "output_type": "stream",
          "text": [
            "Epoch [11/200], Val Loss: 3.6392\n"
          ]
        },
        {
          "name": "stderr",
          "output_type": "stream",
          "text": [
            "Epoch: [12/200], Train Loss: 3.2224: 100%|██████████| 590/590 [00:40<00:00, 14.41it/s]\n"
          ]
        },
        {
          "name": "stdout",
          "output_type": "stream",
          "text": [
            "Epoch [12/200], Val Loss: 3.5568\n"
          ]
        },
        {
          "name": "stderr",
          "output_type": "stream",
          "text": [
            "Epoch: [13/200], Train Loss: 3.6232: 100%|██████████| 590/590 [00:40<00:00, 14.40it/s]\n"
          ]
        },
        {
          "name": "stdout",
          "output_type": "stream",
          "text": [
            "Epoch [13/200], Val Loss: 3.5367\n"
          ]
        },
        {
          "name": "stderr",
          "output_type": "stream",
          "text": [
            "Epoch: [14/200], Train Loss: 3.4881: 100%|██████████| 590/590 [00:40<00:00, 14.39it/s]\n"
          ]
        },
        {
          "name": "stdout",
          "output_type": "stream",
          "text": [
            "Epoch [14/200], Val Loss: 3.4593\n"
          ]
        },
        {
          "name": "stderr",
          "output_type": "stream",
          "text": [
            "Epoch: [15/200], Train Loss: 3.4433: 100%|██████████| 590/590 [00:40<00:00, 14.43it/s]\n"
          ]
        },
        {
          "name": "stdout",
          "output_type": "stream",
          "text": [
            "Epoch [15/200], Val Loss: 3.4828\n"
          ]
        },
        {
          "name": "stderr",
          "output_type": "stream",
          "text": [
            "Epoch: [16/200], Train Loss: 2.7719: 100%|██████████| 590/590 [00:40<00:00, 14.41it/s]\n"
          ]
        },
        {
          "name": "stdout",
          "output_type": "stream",
          "text": [
            "Epoch [16/200], Val Loss: 3.4235\n"
          ]
        },
        {
          "name": "stderr",
          "output_type": "stream",
          "text": [
            "Epoch: [17/200], Train Loss: 3.1871: 100%|██████████| 590/590 [00:41<00:00, 14.39it/s]\n"
          ]
        },
        {
          "name": "stdout",
          "output_type": "stream",
          "text": [
            "Epoch [17/200], Val Loss: 3.3831\n"
          ]
        },
        {
          "name": "stderr",
          "output_type": "stream",
          "text": [
            "Epoch: [18/200], Train Loss: 4.0984: 100%|██████████| 590/590 [00:41<00:00, 14.38it/s]\n"
          ]
        },
        {
          "name": "stdout",
          "output_type": "stream",
          "text": [
            "Epoch [18/200], Val Loss: 3.3224\n"
          ]
        },
        {
          "name": "stderr",
          "output_type": "stream",
          "text": [
            "Epoch: [19/200], Train Loss: 2.5060: 100%|██████████| 590/590 [00:40<00:00, 14.41it/s]\n"
          ]
        },
        {
          "name": "stdout",
          "output_type": "stream",
          "text": [
            "Epoch [19/200], Val Loss: 3.2925\n"
          ]
        },
        {
          "name": "stderr",
          "output_type": "stream",
          "text": [
            "Epoch: [20/200], Train Loss: 2.7439: 100%|██████████| 590/590 [00:41<00:00, 14.34it/s]\n"
          ]
        },
        {
          "name": "stdout",
          "output_type": "stream",
          "text": [
            "Epoch [20/200], Val Loss: 3.2760\n"
          ]
        },
        {
          "name": "stderr",
          "output_type": "stream",
          "text": [
            "Epoch: [21/200], Train Loss: 3.0903: 100%|██████████| 590/590 [00:40<00:00, 14.42it/s]\n"
          ]
        },
        {
          "name": "stdout",
          "output_type": "stream",
          "text": [
            "Epoch [21/200], Val Loss: 3.2437\n"
          ]
        },
        {
          "name": "stderr",
          "output_type": "stream",
          "text": [
            "Epoch: [22/200], Train Loss: 3.0541: 100%|██████████| 590/590 [00:41<00:00, 14.22it/s]\n"
          ]
        },
        {
          "name": "stdout",
          "output_type": "stream",
          "text": [
            "Epoch [22/200], Val Loss: 3.2408\n"
          ]
        },
        {
          "name": "stderr",
          "output_type": "stream",
          "text": [
            "Epoch: [23/200], Train Loss: 3.3376: 100%|██████████| 590/590 [00:40<00:00, 14.39it/s]\n"
          ]
        },
        {
          "name": "stdout",
          "output_type": "stream",
          "text": [
            "Epoch [23/200], Val Loss: 3.1786\n"
          ]
        },
        {
          "name": "stderr",
          "output_type": "stream",
          "text": [
            "Epoch: [24/200], Train Loss: 2.8336: 100%|██████████| 590/590 [00:40<00:00, 14.41it/s]\n"
          ]
        },
        {
          "name": "stdout",
          "output_type": "stream",
          "text": [
            "Epoch [24/200], Val Loss: 3.1728\n"
          ]
        },
        {
          "name": "stderr",
          "output_type": "stream",
          "text": [
            "Epoch: [25/200], Train Loss: 3.5544: 100%|██████████| 590/590 [00:40<00:00, 14.40it/s]\n"
          ]
        },
        {
          "name": "stdout",
          "output_type": "stream",
          "text": [
            "Epoch [25/200], Val Loss: 3.1475\n"
          ]
        },
        {
          "name": "stderr",
          "output_type": "stream",
          "text": [
            "Epoch: [26/200], Train Loss: 3.2615: 100%|██████████| 590/590 [00:41<00:00, 14.38it/s]\n"
          ]
        },
        {
          "name": "stdout",
          "output_type": "stream",
          "text": [
            "Epoch [26/200], Val Loss: 3.1484\n"
          ]
        },
        {
          "name": "stderr",
          "output_type": "stream",
          "text": [
            "Epoch: [27/200], Train Loss: 3.3741: 100%|██████████| 590/590 [00:41<00:00, 14.30it/s]\n"
          ]
        },
        {
          "name": "stdout",
          "output_type": "stream",
          "text": [
            "Epoch [27/200], Val Loss: 3.0626\n"
          ]
        },
        {
          "name": "stderr",
          "output_type": "stream",
          "text": [
            "Epoch: [28/200], Train Loss: 2.8226: 100%|██████████| 590/590 [00:41<00:00, 14.31it/s]\n"
          ]
        },
        {
          "name": "stdout",
          "output_type": "stream",
          "text": [
            "Epoch [28/200], Val Loss: 3.0474\n"
          ]
        },
        {
          "name": "stderr",
          "output_type": "stream",
          "text": [
            "Epoch: [29/200], Train Loss: 3.1586: 100%|██████████| 590/590 [00:41<00:00, 14.37it/s]\n"
          ]
        },
        {
          "name": "stdout",
          "output_type": "stream",
          "text": [
            "Epoch [29/200], Val Loss: 3.0911\n"
          ]
        },
        {
          "name": "stderr",
          "output_type": "stream",
          "text": [
            "Epoch: [30/200], Train Loss: 2.3804: 100%|██████████| 590/590 [00:41<00:00, 14.27it/s]\n"
          ]
        },
        {
          "name": "stdout",
          "output_type": "stream",
          "text": [
            "Epoch [30/200], Val Loss: 3.0252\n"
          ]
        },
        {
          "name": "stderr",
          "output_type": "stream",
          "text": [
            "Epoch: [31/200], Train Loss: 2.4229: 100%|██████████| 590/590 [00:41<00:00, 14.30it/s]\n"
          ]
        },
        {
          "name": "stdout",
          "output_type": "stream",
          "text": [
            "Epoch [31/200], Val Loss: 3.0071\n"
          ]
        },
        {
          "name": "stderr",
          "output_type": "stream",
          "text": [
            "Epoch: [32/200], Train Loss: 3.3573: 100%|██████████| 590/590 [00:41<00:00, 14.27it/s]\n"
          ]
        },
        {
          "name": "stdout",
          "output_type": "stream",
          "text": [
            "Epoch [32/200], Val Loss: 2.9765\n"
          ]
        },
        {
          "name": "stderr",
          "output_type": "stream",
          "text": [
            "Epoch: [33/200], Train Loss: 2.8457: 100%|██████████| 590/590 [00:41<00:00, 14.19it/s]\n"
          ]
        },
        {
          "name": "stdout",
          "output_type": "stream",
          "text": [
            "Epoch [33/200], Val Loss: 3.0247\n"
          ]
        },
        {
          "name": "stderr",
          "output_type": "stream",
          "text": [
            "Epoch: [34/200], Train Loss: 2.0938: 100%|██████████| 590/590 [00:41<00:00, 14.31it/s]\n"
          ]
        },
        {
          "name": "stdout",
          "output_type": "stream",
          "text": [
            "Epoch [34/200], Val Loss: 2.9813\n"
          ]
        },
        {
          "name": "stderr",
          "output_type": "stream",
          "text": [
            "Epoch: [35/200], Train Loss: 2.8866: 100%|██████████| 590/590 [00:41<00:00, 14.28it/s]\n"
          ]
        },
        {
          "name": "stdout",
          "output_type": "stream",
          "text": [
            "Epoch [35/200], Val Loss: 2.9689\n"
          ]
        },
        {
          "name": "stderr",
          "output_type": "stream",
          "text": [
            "Epoch: [36/200], Train Loss: 2.5461: 100%|██████████| 590/590 [00:40<00:00, 14.39it/s]\n"
          ]
        },
        {
          "name": "stdout",
          "output_type": "stream",
          "text": [
            "Epoch [36/200], Val Loss: 2.9581\n"
          ]
        },
        {
          "name": "stderr",
          "output_type": "stream",
          "text": [
            "Epoch: [37/200], Train Loss: 2.1212: 100%|██████████| 590/590 [00:41<00:00, 14.35it/s]\n"
          ]
        },
        {
          "name": "stdout",
          "output_type": "stream",
          "text": [
            "Epoch [37/200], Val Loss: 2.9483\n"
          ]
        },
        {
          "name": "stderr",
          "output_type": "stream",
          "text": [
            "Epoch: [38/200], Train Loss: 3.6443: 100%|██████████| 590/590 [00:41<00:00, 14.12it/s]\n"
          ]
        },
        {
          "name": "stdout",
          "output_type": "stream",
          "text": [
            "Epoch [38/200], Val Loss: 2.8806\n"
          ]
        },
        {
          "name": "stderr",
          "output_type": "stream",
          "text": [
            "Epoch: [39/200], Train Loss: 3.0454: 100%|██████████| 590/590 [00:41<00:00, 14.25it/s]\n"
          ]
        },
        {
          "name": "stdout",
          "output_type": "stream",
          "text": [
            "Epoch [39/200], Val Loss: 2.8776\n"
          ]
        },
        {
          "name": "stderr",
          "output_type": "stream",
          "text": [
            "Epoch: [40/200], Train Loss: 2.5857: 100%|██████████| 590/590 [00:41<00:00, 14.24it/s]\n"
          ]
        },
        {
          "name": "stdout",
          "output_type": "stream",
          "text": [
            "Epoch [40/200], Val Loss: 2.8787\n"
          ]
        },
        {
          "name": "stderr",
          "output_type": "stream",
          "text": [
            "Epoch: [41/200], Train Loss: 2.3621: 100%|██████████| 590/590 [00:42<00:00, 14.03it/s]\n"
          ]
        },
        {
          "name": "stdout",
          "output_type": "stream",
          "text": [
            "Epoch [41/200], Val Loss: 2.9050\n"
          ]
        },
        {
          "name": "stderr",
          "output_type": "stream",
          "text": [
            "Epoch: [42/200], Train Loss: 2.4391: 100%|██████████| 590/590 [00:41<00:00, 14.16it/s]\n"
          ]
        },
        {
          "name": "stdout",
          "output_type": "stream",
          "text": [
            "Epoch [42/200], Val Loss: 2.8877\n"
          ]
        },
        {
          "name": "stderr",
          "output_type": "stream",
          "text": [
            "Epoch: [43/200], Train Loss: 3.6406: 100%|██████████| 590/590 [00:41<00:00, 14.18it/s]\n"
          ]
        },
        {
          "name": "stdout",
          "output_type": "stream",
          "text": [
            "Epoch [43/200], Val Loss: 2.8454\n"
          ]
        },
        {
          "name": "stderr",
          "output_type": "stream",
          "text": [
            "Epoch: [44/200], Train Loss: 2.2828: 100%|██████████| 590/590 [00:41<00:00, 14.21it/s]\n"
          ]
        },
        {
          "name": "stdout",
          "output_type": "stream",
          "text": [
            "Epoch [44/200], Val Loss: 2.8851\n"
          ]
        },
        {
          "name": "stderr",
          "output_type": "stream",
          "text": [
            "Epoch: [45/200], Train Loss: 2.3886: 100%|██████████| 590/590 [00:41<00:00, 14.34it/s]\n"
          ]
        },
        {
          "name": "stdout",
          "output_type": "stream",
          "text": [
            "Epoch [45/200], Val Loss: 2.8155\n"
          ]
        },
        {
          "name": "stderr",
          "output_type": "stream",
          "text": [
            "Epoch: [46/200], Train Loss: 2.4981: 100%|██████████| 590/590 [00:41<00:00, 14.39it/s]\n"
          ]
        },
        {
          "name": "stdout",
          "output_type": "stream",
          "text": [
            "Epoch [46/200], Val Loss: 2.8574\n"
          ]
        },
        {
          "name": "stderr",
          "output_type": "stream",
          "text": [
            "Epoch: [47/200], Train Loss: 2.8823: 100%|██████████| 590/590 [00:41<00:00, 14.38it/s]\n"
          ]
        },
        {
          "name": "stdout",
          "output_type": "stream",
          "text": [
            "Epoch [47/200], Val Loss: 2.8781\n"
          ]
        },
        {
          "name": "stderr",
          "output_type": "stream",
          "text": [
            "Epoch: [48/200], Train Loss: 2.8206: 100%|██████████| 590/590 [00:41<00:00, 14.38it/s]\n"
          ]
        },
        {
          "name": "stdout",
          "output_type": "stream",
          "text": [
            "Epoch [48/200], Val Loss: 2.8289\n"
          ]
        },
        {
          "name": "stderr",
          "output_type": "stream",
          "text": [
            "Epoch: [49/200], Train Loss: 2.0606: 100%|██████████| 590/590 [00:41<00:00, 14.36it/s]\n"
          ]
        },
        {
          "name": "stdout",
          "output_type": "stream",
          "text": [
            "Epoch [49/200], Val Loss: 2.7800\n"
          ]
        },
        {
          "name": "stderr",
          "output_type": "stream",
          "text": [
            "Epoch: [50/200], Train Loss: 2.8645: 100%|██████████| 590/590 [00:41<00:00, 14.32it/s]\n"
          ]
        },
        {
          "name": "stdout",
          "output_type": "stream",
          "text": [
            "Epoch [50/200], Val Loss: 2.8047\n"
          ]
        },
        {
          "name": "stderr",
          "output_type": "stream",
          "text": [
            "Epoch: [51/200], Train Loss: 3.0071: 100%|██████████| 590/590 [00:40<00:00, 14.45it/s]\n"
          ]
        },
        {
          "name": "stdout",
          "output_type": "stream",
          "text": [
            "Epoch [51/200], Val Loss: 2.7991\n"
          ]
        },
        {
          "name": "stderr",
          "output_type": "stream",
          "text": [
            "Epoch: [52/200], Train Loss: 2.6124: 100%|██████████| 590/590 [00:40<00:00, 14.39it/s]\n"
          ]
        },
        {
          "name": "stdout",
          "output_type": "stream",
          "text": [
            "Epoch [52/200], Val Loss: 2.7546\n"
          ]
        },
        {
          "name": "stderr",
          "output_type": "stream",
          "text": [
            "Epoch: [53/200], Train Loss: 1.8680: 100%|██████████| 590/590 [00:40<00:00, 14.40it/s]\n"
          ]
        },
        {
          "name": "stdout",
          "output_type": "stream",
          "text": [
            "Epoch [53/200], Val Loss: 2.7491\n"
          ]
        },
        {
          "name": "stderr",
          "output_type": "stream",
          "text": [
            "Epoch: [54/200], Train Loss: 2.0372: 100%|██████████| 590/590 [00:40<00:00, 14.41it/s]\n"
          ]
        },
        {
          "name": "stdout",
          "output_type": "stream",
          "text": [
            "Epoch [54/200], Val Loss: 2.7894\n"
          ]
        },
        {
          "name": "stderr",
          "output_type": "stream",
          "text": [
            "Epoch: [55/200], Train Loss: 2.4400: 100%|██████████| 590/590 [00:41<00:00, 14.35it/s]\n"
          ]
        },
        {
          "name": "stdout",
          "output_type": "stream",
          "text": [
            "Epoch [55/200], Val Loss: 2.7891\n"
          ]
        },
        {
          "name": "stderr",
          "output_type": "stream",
          "text": [
            "Epoch: [56/200], Train Loss: 1.5543: 100%|██████████| 590/590 [00:42<00:00, 13.94it/s]\n"
          ]
        },
        {
          "name": "stdout",
          "output_type": "stream",
          "text": [
            "Epoch [56/200], Val Loss: 2.7850\n"
          ]
        },
        {
          "name": "stderr",
          "output_type": "stream",
          "text": [
            "Epoch: [57/200], Train Loss: 2.5520: 100%|██████████| 590/590 [00:42<00:00, 14.01it/s]\n"
          ]
        },
        {
          "name": "stdout",
          "output_type": "stream",
          "text": [
            "Epoch [57/200], Val Loss: 2.7640\n"
          ]
        },
        {
          "name": "stderr",
          "output_type": "stream",
          "text": [
            "Epoch: [58/200], Train Loss: 2.9991: 100%|██████████| 590/590 [00:42<00:00, 14.01it/s]\n"
          ]
        },
        {
          "name": "stdout",
          "output_type": "stream",
          "text": [
            "Epoch [58/200], Val Loss: 2.7161\n"
          ]
        },
        {
          "name": "stderr",
          "output_type": "stream",
          "text": [
            "Epoch: [59/200], Train Loss: 1.6311: 100%|██████████| 590/590 [00:41<00:00, 14.26it/s]\n"
          ]
        },
        {
          "name": "stdout",
          "output_type": "stream",
          "text": [
            "Epoch [59/200], Val Loss: 2.6717\n"
          ]
        },
        {
          "name": "stderr",
          "output_type": "stream",
          "text": [
            "Epoch: [60/200], Train Loss: 2.1733: 100%|██████████| 590/590 [00:41<00:00, 14.08it/s]\n"
          ]
        },
        {
          "name": "stdout",
          "output_type": "stream",
          "text": [
            "Epoch [60/200], Val Loss: 2.7986\n"
          ]
        },
        {
          "name": "stderr",
          "output_type": "stream",
          "text": [
            "Epoch: [61/200], Train Loss: 2.1908: 100%|██████████| 590/590 [00:41<00:00, 14.20it/s]\n"
          ]
        },
        {
          "name": "stdout",
          "output_type": "stream",
          "text": [
            "Epoch [61/200], Val Loss: 2.7571\n"
          ]
        },
        {
          "name": "stderr",
          "output_type": "stream",
          "text": [
            "Epoch: [62/200], Train Loss: 3.7675: 100%|██████████| 590/590 [00:41<00:00, 14.14it/s]\n"
          ]
        },
        {
          "name": "stdout",
          "output_type": "stream",
          "text": [
            "Epoch [62/200], Val Loss: 2.7484\n"
          ]
        },
        {
          "name": "stderr",
          "output_type": "stream",
          "text": [
            "Epoch: [63/200], Train Loss: 2.2909: 100%|██████████| 590/590 [00:41<00:00, 14.15it/s]\n"
          ]
        },
        {
          "name": "stdout",
          "output_type": "stream",
          "text": [
            "Epoch [63/200], Val Loss: 2.7194\n"
          ]
        },
        {
          "name": "stderr",
          "output_type": "stream",
          "text": [
            "Epoch: [64/200], Train Loss: 2.9471: 100%|██████████| 590/590 [00:41<00:00, 14.25it/s]\n"
          ]
        },
        {
          "name": "stdout",
          "output_type": "stream",
          "text": [
            "Epoch [64/200], Val Loss: 2.7261\n"
          ]
        },
        {
          "name": "stderr",
          "output_type": "stream",
          "text": [
            "Epoch: [65/200], Train Loss: 2.6742: 100%|██████████| 590/590 [00:41<00:00, 14.25it/s]\n"
          ]
        },
        {
          "name": "stdout",
          "output_type": "stream",
          "text": [
            "Epoch [65/200], Val Loss: 2.6788\n"
          ]
        },
        {
          "name": "stderr",
          "output_type": "stream",
          "text": [
            "Epoch: [66/200], Train Loss: 1.8873: 100%|██████████| 590/590 [00:41<00:00, 14.16it/s]\n"
          ]
        },
        {
          "name": "stdout",
          "output_type": "stream",
          "text": [
            "Epoch [66/200], Val Loss: 2.7158\n"
          ]
        },
        {
          "name": "stderr",
          "output_type": "stream",
          "text": [
            "Epoch: [67/200], Train Loss: 2.7193: 100%|██████████| 590/590 [00:41<00:00, 14.28it/s]\n"
          ]
        },
        {
          "name": "stdout",
          "output_type": "stream",
          "text": [
            "Epoch [67/200], Val Loss: 2.6827\n"
          ]
        },
        {
          "name": "stderr",
          "output_type": "stream",
          "text": [
            "Epoch: [68/200], Train Loss: 1.5659: 100%|██████████| 590/590 [00:41<00:00, 14.27it/s]\n"
          ]
        },
        {
          "name": "stdout",
          "output_type": "stream",
          "text": [
            "Epoch [68/200], Val Loss: 2.6689\n"
          ]
        },
        {
          "name": "stderr",
          "output_type": "stream",
          "text": [
            "Epoch: [69/200], Train Loss: 2.2907: 100%|██████████| 590/590 [00:41<00:00, 14.36it/s]\n"
          ]
        },
        {
          "name": "stdout",
          "output_type": "stream",
          "text": [
            "Epoch [69/200], Val Loss: 2.7018\n"
          ]
        },
        {
          "name": "stderr",
          "output_type": "stream",
          "text": [
            "Epoch: [70/200], Train Loss: 2.4260: 100%|██████████| 590/590 [00:40<00:00, 14.40it/s]\n"
          ]
        },
        {
          "name": "stdout",
          "output_type": "stream",
          "text": [
            "Epoch [70/200], Val Loss: 2.6837\n"
          ]
        },
        {
          "name": "stderr",
          "output_type": "stream",
          "text": [
            "Epoch: [71/200], Train Loss: 2.5482: 100%|██████████| 590/590 [00:41<00:00, 14.38it/s]\n"
          ]
        },
        {
          "name": "stdout",
          "output_type": "stream",
          "text": [
            "Epoch [71/200], Val Loss: 2.7308\n"
          ]
        },
        {
          "name": "stderr",
          "output_type": "stream",
          "text": [
            "Epoch: [72/200], Train Loss: 1.8477: 100%|██████████| 590/590 [00:41<00:00, 14.37it/s]\n"
          ]
        },
        {
          "name": "stdout",
          "output_type": "stream",
          "text": [
            "Epoch [72/200], Val Loss: 2.6958\n"
          ]
        },
        {
          "name": "stderr",
          "output_type": "stream",
          "text": [
            "Epoch: [73/200], Train Loss: 1.9398: 100%|██████████| 590/590 [00:41<00:00, 14.22it/s]\n"
          ]
        },
        {
          "name": "stdout",
          "output_type": "stream",
          "text": [
            "Epoch [73/200], Val Loss: 2.6509\n"
          ]
        },
        {
          "name": "stderr",
          "output_type": "stream",
          "text": [
            "Epoch: [74/200], Train Loss: 2.3245: 100%|██████████| 590/590 [00:41<00:00, 14.25it/s]\n"
          ]
        },
        {
          "name": "stdout",
          "output_type": "stream",
          "text": [
            "Epoch [74/200], Val Loss: 2.6811\n"
          ]
        },
        {
          "name": "stderr",
          "output_type": "stream",
          "text": [
            "Epoch: [75/200], Train Loss: 1.6715: 100%|██████████| 590/590 [00:41<00:00, 14.35it/s]\n"
          ]
        },
        {
          "name": "stdout",
          "output_type": "stream",
          "text": [
            "Epoch [75/200], Val Loss: 2.6995\n"
          ]
        },
        {
          "name": "stderr",
          "output_type": "stream",
          "text": [
            "Epoch: [76/200], Train Loss: 1.9932: 100%|██████████| 590/590 [00:41<00:00, 14.32it/s]\n"
          ]
        },
        {
          "name": "stdout",
          "output_type": "stream",
          "text": [
            "Epoch [76/200], Val Loss: 2.6299\n"
          ]
        },
        {
          "name": "stderr",
          "output_type": "stream",
          "text": [
            "Epoch: [77/200], Train Loss: 0.9758: 100%|██████████| 590/590 [00:41<00:00, 14.31it/s]\n"
          ]
        },
        {
          "name": "stdout",
          "output_type": "stream",
          "text": [
            "Epoch [77/200], Val Loss: 2.6037\n"
          ]
        },
        {
          "name": "stderr",
          "output_type": "stream",
          "text": [
            "Epoch: [78/200], Train Loss: 2.4124: 100%|██████████| 590/590 [00:41<00:00, 14.22it/s]\n"
          ]
        },
        {
          "name": "stdout",
          "output_type": "stream",
          "text": [
            "Epoch [78/200], Val Loss: 2.7117\n"
          ]
        },
        {
          "name": "stderr",
          "output_type": "stream",
          "text": [
            "Epoch: [79/200], Train Loss: 2.1331: 100%|██████████| 590/590 [00:41<00:00, 14.08it/s]\n"
          ]
        },
        {
          "name": "stdout",
          "output_type": "stream",
          "text": [
            "Epoch [79/200], Val Loss: 2.6310\n"
          ]
        },
        {
          "name": "stderr",
          "output_type": "stream",
          "text": [
            "Epoch: [80/200], Train Loss: 2.2380: 100%|██████████| 590/590 [00:42<00:00, 13.74it/s]\n"
          ]
        },
        {
          "name": "stdout",
          "output_type": "stream",
          "text": [
            "Epoch [80/200], Val Loss: 2.6291\n"
          ]
        },
        {
          "name": "stderr",
          "output_type": "stream",
          "text": [
            "Epoch: [81/200], Train Loss: 1.7367: 100%|██████████| 590/590 [00:49<00:00, 11.95it/s]\n"
          ]
        },
        {
          "name": "stdout",
          "output_type": "stream",
          "text": [
            "Epoch [81/200], Val Loss: 2.6058\n"
          ]
        },
        {
          "name": "stderr",
          "output_type": "stream",
          "text": [
            "Epoch: [82/200], Train Loss: 1.7633: 100%|██████████| 590/590 [00:41<00:00, 14.20it/s]\n"
          ]
        },
        {
          "name": "stdout",
          "output_type": "stream",
          "text": [
            "Epoch [82/200], Val Loss: 2.6452\n"
          ]
        },
        {
          "name": "stderr",
          "output_type": "stream",
          "text": [
            "Epoch: [83/200], Train Loss: 1.5511: 100%|██████████| 590/590 [00:42<00:00, 13.96it/s]\n"
          ]
        },
        {
          "name": "stdout",
          "output_type": "stream",
          "text": [
            "Epoch [83/200], Val Loss: 2.6617\n"
          ]
        },
        {
          "name": "stderr",
          "output_type": "stream",
          "text": [
            "Epoch: [84/200], Train Loss: 2.4749: 100%|██████████| 590/590 [00:41<00:00, 14.17it/s]\n"
          ]
        },
        {
          "name": "stdout",
          "output_type": "stream",
          "text": [
            "Epoch [84/200], Val Loss: 2.5851\n"
          ]
        },
        {
          "name": "stderr",
          "output_type": "stream",
          "text": [
            "Epoch: [85/200], Train Loss: 2.1258: 100%|██████████| 590/590 [00:41<00:00, 14.19it/s]\n"
          ]
        },
        {
          "name": "stdout",
          "output_type": "stream",
          "text": [
            "Epoch [85/200], Val Loss: 2.6390\n"
          ]
        },
        {
          "name": "stderr",
          "output_type": "stream",
          "text": [
            "Epoch: [86/200], Train Loss: 2.6823: 100%|██████████| 590/590 [00:41<00:00, 14.25it/s]\n"
          ]
        },
        {
          "name": "stdout",
          "output_type": "stream",
          "text": [
            "Epoch [86/200], Val Loss: 2.6429\n"
          ]
        },
        {
          "name": "stderr",
          "output_type": "stream",
          "text": [
            "Epoch: [87/200], Train Loss: 2.1071: 100%|██████████| 590/590 [00:41<00:00, 14.23it/s]\n"
          ]
        },
        {
          "name": "stdout",
          "output_type": "stream",
          "text": [
            "Epoch [87/200], Val Loss: 2.5947\n"
          ]
        },
        {
          "name": "stderr",
          "output_type": "stream",
          "text": [
            "Epoch: [88/200], Train Loss: 2.3359: 100%|██████████| 590/590 [00:41<00:00, 14.33it/s]\n"
          ]
        },
        {
          "name": "stdout",
          "output_type": "stream",
          "text": [
            "Epoch [88/200], Val Loss: 2.5621\n"
          ]
        },
        {
          "name": "stderr",
          "output_type": "stream",
          "text": [
            "Epoch: [89/200], Train Loss: 2.7404: 100%|██████████| 590/590 [00:42<00:00, 13.97it/s]\n"
          ]
        },
        {
          "name": "stdout",
          "output_type": "stream",
          "text": [
            "Epoch [89/200], Val Loss: 2.6125\n"
          ]
        },
        {
          "name": "stderr",
          "output_type": "stream",
          "text": [
            "Epoch: [90/200], Train Loss: 2.4194: 100%|██████████| 590/590 [00:42<00:00, 13.98it/s]\n"
          ]
        },
        {
          "name": "stdout",
          "output_type": "stream",
          "text": [
            "Epoch [90/200], Val Loss: 2.6721\n"
          ]
        },
        {
          "name": "stderr",
          "output_type": "stream",
          "text": [
            "Epoch: [91/200], Train Loss: 2.5299: 100%|██████████| 590/590 [00:42<00:00, 14.00it/s]\n"
          ]
        },
        {
          "name": "stdout",
          "output_type": "stream",
          "text": [
            "Epoch [91/200], Val Loss: 2.5616\n"
          ]
        },
        {
          "name": "stderr",
          "output_type": "stream",
          "text": [
            "Epoch: [92/200], Train Loss: 2.1313: 100%|██████████| 590/590 [00:42<00:00, 13.98it/s]\n"
          ]
        },
        {
          "name": "stdout",
          "output_type": "stream",
          "text": [
            "Epoch [92/200], Val Loss: 2.5579\n"
          ]
        },
        {
          "name": "stderr",
          "output_type": "stream",
          "text": [
            "Epoch: [93/200], Train Loss: 2.4163: 100%|██████████| 590/590 [00:41<00:00, 14.12it/s]\n"
          ]
        },
        {
          "name": "stdout",
          "output_type": "stream",
          "text": [
            "Epoch [93/200], Val Loss: 2.6310\n"
          ]
        },
        {
          "name": "stderr",
          "output_type": "stream",
          "text": [
            "Epoch: [94/200], Train Loss: 2.1932: 100%|██████████| 590/590 [00:42<00:00, 14.03it/s]\n"
          ]
        },
        {
          "name": "stdout",
          "output_type": "stream",
          "text": [
            "Epoch [94/200], Val Loss: 2.6412\n"
          ]
        },
        {
          "name": "stderr",
          "output_type": "stream",
          "text": [
            "Epoch: [95/200], Train Loss: 1.4097: 100%|██████████| 590/590 [00:41<00:00, 14.13it/s]\n"
          ]
        },
        {
          "name": "stdout",
          "output_type": "stream",
          "text": [
            "Epoch [95/200], Val Loss: 2.5878\n"
          ]
        },
        {
          "name": "stderr",
          "output_type": "stream",
          "text": [
            "Epoch: [96/200], Train Loss: 1.7149: 100%|██████████| 590/590 [00:41<00:00, 14.09it/s]\n"
          ]
        },
        {
          "name": "stdout",
          "output_type": "stream",
          "text": [
            "Epoch [96/200], Val Loss: 2.6308\n"
          ]
        },
        {
          "name": "stderr",
          "output_type": "stream",
          "text": [
            "Epoch: [97/200], Train Loss: 1.8788: 100%|██████████| 590/590 [00:41<00:00, 14.14it/s]\n"
          ]
        },
        {
          "name": "stdout",
          "output_type": "stream",
          "text": [
            "Epoch [97/200], Val Loss: 2.6079\n"
          ]
        },
        {
          "name": "stderr",
          "output_type": "stream",
          "text": [
            "Epoch: [98/200], Train Loss: 2.9500: 100%|██████████| 590/590 [00:42<00:00, 14.02it/s]\n"
          ]
        },
        {
          "name": "stdout",
          "output_type": "stream",
          "text": [
            "Epoch [98/200], Val Loss: 2.5838\n"
          ]
        },
        {
          "name": "stderr",
          "output_type": "stream",
          "text": [
            "Epoch: [99/200], Train Loss: 1.9452: 100%|██████████| 590/590 [00:42<00:00, 14.02it/s]\n"
          ]
        },
        {
          "name": "stdout",
          "output_type": "stream",
          "text": [
            "Epoch [99/200], Val Loss: 2.6346\n"
          ]
        },
        {
          "name": "stderr",
          "output_type": "stream",
          "text": [
            "Epoch: [100/200], Train Loss: 1.6881: 100%|██████████| 590/590 [00:41<00:00, 14.19it/s]\n"
          ]
        },
        {
          "name": "stdout",
          "output_type": "stream",
          "text": [
            "Epoch [100/200], Val Loss: 2.5727\n"
          ]
        },
        {
          "name": "stderr",
          "output_type": "stream",
          "text": [
            "Epoch: [101/200], Train Loss: 1.6084: 100%|██████████| 590/590 [00:41<00:00, 14.19it/s]\n"
          ]
        },
        {
          "name": "stdout",
          "output_type": "stream",
          "text": [
            "Epoch [101/200], Val Loss: 2.5451\n"
          ]
        },
        {
          "name": "stderr",
          "output_type": "stream",
          "text": [
            "Epoch: [102/200], Train Loss: 2.1927: 100%|██████████| 590/590 [00:41<00:00, 14.17it/s]\n"
          ]
        },
        {
          "name": "stdout",
          "output_type": "stream",
          "text": [
            "Epoch [102/200], Val Loss: 2.6038\n"
          ]
        },
        {
          "name": "stderr",
          "output_type": "stream",
          "text": [
            "Epoch: [103/200], Train Loss: 3.3348: 100%|██████████| 590/590 [00:41<00:00, 14.09it/s]\n"
          ]
        },
        {
          "name": "stdout",
          "output_type": "stream",
          "text": [
            "Epoch [103/200], Val Loss: 2.6214\n"
          ]
        },
        {
          "name": "stderr",
          "output_type": "stream",
          "text": [
            "Epoch: [104/200], Train Loss: 2.7201: 100%|██████████| 590/590 [00:41<00:00, 14.10it/s]\n"
          ]
        },
        {
          "name": "stdout",
          "output_type": "stream",
          "text": [
            "Epoch [104/200], Val Loss: 2.5523\n"
          ]
        },
        {
          "name": "stderr",
          "output_type": "stream",
          "text": [
            "Epoch: [105/200], Train Loss: 2.9413: 100%|██████████| 590/590 [00:42<00:00, 13.95it/s]\n"
          ]
        },
        {
          "name": "stdout",
          "output_type": "stream",
          "text": [
            "Epoch [105/200], Val Loss: 2.5931\n"
          ]
        },
        {
          "name": "stderr",
          "output_type": "stream",
          "text": [
            "Epoch: [106/200], Train Loss: 1.9413: 100%|██████████| 590/590 [00:41<00:00, 14.17it/s]\n"
          ]
        },
        {
          "name": "stdout",
          "output_type": "stream",
          "text": [
            "Epoch [106/200], Val Loss: 2.6083\n"
          ]
        },
        {
          "name": "stderr",
          "output_type": "stream",
          "text": [
            "Epoch: [107/200], Train Loss: 1.4769: 100%|██████████| 590/590 [00:40<00:00, 14.42it/s]\n"
          ]
        },
        {
          "name": "stdout",
          "output_type": "stream",
          "text": [
            "Epoch [107/200], Val Loss: 2.6171\n"
          ]
        },
        {
          "name": "stderr",
          "output_type": "stream",
          "text": [
            "Epoch: [108/200], Train Loss: 1.7240: 100%|██████████| 590/590 [00:40<00:00, 14.48it/s]\n"
          ]
        },
        {
          "name": "stdout",
          "output_type": "stream",
          "text": [
            "Epoch [108/200], Val Loss: 2.5555\n"
          ]
        },
        {
          "name": "stderr",
          "output_type": "stream",
          "text": [
            "Epoch: [109/200], Train Loss: 2.5082: 100%|██████████| 590/590 [00:40<00:00, 14.54it/s]\n"
          ]
        },
        {
          "name": "stdout",
          "output_type": "stream",
          "text": [
            "Epoch [109/200], Val Loss: 2.6159\n"
          ]
        },
        {
          "name": "stderr",
          "output_type": "stream",
          "text": [
            "Epoch: [110/200], Train Loss: 1.5095: 100%|██████████| 590/590 [00:40<00:00, 14.43it/s]\n"
          ]
        },
        {
          "name": "stdout",
          "output_type": "stream",
          "text": [
            "Epoch [110/200], Val Loss: 2.5576\n"
          ]
        },
        {
          "name": "stderr",
          "output_type": "stream",
          "text": [
            "Epoch: [111/200], Train Loss: 1.4486: 100%|██████████| 590/590 [00:40<00:00, 14.52it/s]\n"
          ]
        },
        {
          "name": "stdout",
          "output_type": "stream",
          "text": [
            "Epoch [111/200], Val Loss: 2.6020\n"
          ]
        },
        {
          "name": "stderr",
          "output_type": "stream",
          "text": [
            "Epoch: [112/200], Train Loss: 2.2867: 100%|██████████| 590/590 [00:40<00:00, 14.53it/s]\n"
          ]
        },
        {
          "name": "stdout",
          "output_type": "stream",
          "text": [
            "Epoch [112/200], Val Loss: 2.5432\n"
          ]
        },
        {
          "name": "stderr",
          "output_type": "stream",
          "text": [
            "Epoch: [113/200], Train Loss: 1.7049: 100%|██████████| 590/590 [00:40<00:00, 14.53it/s]\n"
          ]
        },
        {
          "name": "stdout",
          "output_type": "stream",
          "text": [
            "Epoch [113/200], Val Loss: 2.5488\n"
          ]
        },
        {
          "name": "stderr",
          "output_type": "stream",
          "text": [
            "Epoch: [114/200], Train Loss: 1.4061: 100%|██████████| 590/590 [00:40<00:00, 14.54it/s]\n"
          ]
        },
        {
          "name": "stdout",
          "output_type": "stream",
          "text": [
            "Epoch [114/200], Val Loss: 2.6197\n"
          ]
        },
        {
          "name": "stderr",
          "output_type": "stream",
          "text": [
            "Epoch: [115/200], Train Loss: 1.9698: 100%|██████████| 590/590 [00:40<00:00, 14.53it/s]\n"
          ]
        },
        {
          "name": "stdout",
          "output_type": "stream",
          "text": [
            "Epoch [115/200], Val Loss: 2.6149\n"
          ]
        },
        {
          "name": "stderr",
          "output_type": "stream",
          "text": [
            "Epoch: [116/200], Train Loss: 3.7912: 100%|██████████| 590/590 [00:41<00:00, 14.38it/s]\n"
          ]
        },
        {
          "name": "stdout",
          "output_type": "stream",
          "text": [
            "Epoch [116/200], Val Loss: 2.5105\n"
          ]
        },
        {
          "name": "stderr",
          "output_type": "stream",
          "text": [
            "Epoch: [117/200], Train Loss: 1.7319: 100%|██████████| 590/590 [00:40<00:00, 14.43it/s]\n"
          ]
        },
        {
          "name": "stdout",
          "output_type": "stream",
          "text": [
            "Epoch [117/200], Val Loss: 2.5400\n"
          ]
        },
        {
          "name": "stderr",
          "output_type": "stream",
          "text": [
            "Epoch: [118/200], Train Loss: 1.0563: 100%|██████████| 590/590 [00:40<00:00, 14.47it/s]\n"
          ]
        },
        {
          "name": "stdout",
          "output_type": "stream",
          "text": [
            "Epoch [118/200], Val Loss: 2.6112\n"
          ]
        },
        {
          "name": "stderr",
          "output_type": "stream",
          "text": [
            "Epoch: [119/200], Train Loss: 2.7818: 100%|██████████| 590/590 [00:40<00:00, 14.42it/s]\n"
          ]
        },
        {
          "name": "stdout",
          "output_type": "stream",
          "text": [
            "Epoch [119/200], Val Loss: 2.5461\n"
          ]
        },
        {
          "name": "stderr",
          "output_type": "stream",
          "text": [
            "Epoch: [120/200], Train Loss: 2.1327: 100%|██████████| 590/590 [00:40<00:00, 14.45it/s]\n"
          ]
        },
        {
          "name": "stdout",
          "output_type": "stream",
          "text": [
            "Epoch [120/200], Val Loss: 2.5852\n"
          ]
        },
        {
          "name": "stderr",
          "output_type": "stream",
          "text": [
            "Epoch: [121/200], Train Loss: 2.6305: 100%|██████████| 590/590 [00:41<00:00, 14.27it/s]\n"
          ]
        },
        {
          "name": "stdout",
          "output_type": "stream",
          "text": [
            "Epoch [121/200], Val Loss: 2.5983\n"
          ]
        },
        {
          "name": "stderr",
          "output_type": "stream",
          "text": [
            "Epoch: [122/200], Train Loss: 2.3090: 100%|██████████| 590/590 [00:41<00:00, 14.29it/s]\n"
          ]
        },
        {
          "name": "stdout",
          "output_type": "stream",
          "text": [
            "Epoch [122/200], Val Loss: 2.5580\n"
          ]
        },
        {
          "name": "stderr",
          "output_type": "stream",
          "text": [
            "Epoch: [123/200], Train Loss: 2.2106: 100%|██████████| 590/590 [00:41<00:00, 14.37it/s]\n"
          ]
        },
        {
          "name": "stdout",
          "output_type": "stream",
          "text": [
            "Epoch [123/200], Val Loss: 2.5154\n"
          ]
        },
        {
          "name": "stderr",
          "output_type": "stream",
          "text": [
            "Epoch: [124/200], Train Loss: 1.9397: 100%|██████████| 590/590 [00:41<00:00, 14.26it/s]\n"
          ]
        },
        {
          "name": "stdout",
          "output_type": "stream",
          "text": [
            "Epoch [124/200], Val Loss: 2.5342\n"
          ]
        },
        {
          "name": "stderr",
          "output_type": "stream",
          "text": [
            "Epoch: [125/200], Train Loss: 1.5450: 100%|██████████| 590/590 [00:40<00:00, 14.50it/s]\n"
          ]
        },
        {
          "name": "stdout",
          "output_type": "stream",
          "text": [
            "Epoch [125/200], Val Loss: 2.5352\n"
          ]
        },
        {
          "name": "stderr",
          "output_type": "stream",
          "text": [
            "Epoch: [126/200], Train Loss: 1.7191: 100%|██████████| 590/590 [00:40<00:00, 14.57it/s]\n"
          ]
        },
        {
          "name": "stdout",
          "output_type": "stream",
          "text": [
            "Epoch [126/200], Val Loss: 2.5310\n"
          ]
        },
        {
          "name": "stderr",
          "output_type": "stream",
          "text": [
            "Epoch: [127/200], Train Loss: 2.1070: 100%|██████████| 590/590 [00:41<00:00, 14.17it/s]\n"
          ]
        },
        {
          "name": "stdout",
          "output_type": "stream",
          "text": [
            "Epoch [127/200], Val Loss: 2.5658\n"
          ]
        },
        {
          "name": "stderr",
          "output_type": "stream",
          "text": [
            "Epoch: [128/200], Train Loss: 2.4760: 100%|██████████| 590/590 [00:41<00:00, 14.35it/s]\n"
          ]
        },
        {
          "name": "stdout",
          "output_type": "stream",
          "text": [
            "Epoch [128/200], Val Loss: 2.5498\n"
          ]
        },
        {
          "name": "stderr",
          "output_type": "stream",
          "text": [
            "Epoch: [129/200], Train Loss: 2.1627: 100%|██████████| 590/590 [00:40<00:00, 14.42it/s]\n"
          ]
        },
        {
          "name": "stdout",
          "output_type": "stream",
          "text": [
            "Epoch [129/200], Val Loss: 2.5326\n"
          ]
        },
        {
          "name": "stderr",
          "output_type": "stream",
          "text": [
            "Epoch: [130/200], Train Loss: 2.6033: 100%|██████████| 590/590 [00:40<00:00, 14.39it/s]\n"
          ]
        },
        {
          "name": "stdout",
          "output_type": "stream",
          "text": [
            "Epoch [130/200], Val Loss: 2.5921\n"
          ]
        },
        {
          "name": "stderr",
          "output_type": "stream",
          "text": [
            "Epoch: [131/200], Train Loss: 2.8658: 100%|██████████| 590/590 [00:41<00:00, 14.34it/s]\n"
          ]
        },
        {
          "name": "stdout",
          "output_type": "stream",
          "text": [
            "Epoch [131/200], Val Loss: 2.4901\n"
          ]
        },
        {
          "name": "stderr",
          "output_type": "stream",
          "text": [
            "Epoch: [132/200], Train Loss: 2.8016: 100%|██████████| 590/590 [00:40<00:00, 14.42it/s]\n"
          ]
        },
        {
          "name": "stdout",
          "output_type": "stream",
          "text": [
            "Epoch [132/200], Val Loss: 2.5806\n"
          ]
        },
        {
          "name": "stderr",
          "output_type": "stream",
          "text": [
            "Epoch: [133/200], Train Loss: 1.4359: 100%|██████████| 590/590 [00:41<00:00, 14.25it/s]\n"
          ]
        },
        {
          "name": "stdout",
          "output_type": "stream",
          "text": [
            "Epoch [133/200], Val Loss: 2.5719\n"
          ]
        },
        {
          "name": "stderr",
          "output_type": "stream",
          "text": [
            "Epoch: [134/200], Train Loss: 1.8535: 100%|██████████| 590/590 [00:41<00:00, 14.26it/s]\n"
          ]
        },
        {
          "name": "stdout",
          "output_type": "stream",
          "text": [
            "Epoch [134/200], Val Loss: 2.5633\n"
          ]
        },
        {
          "name": "stderr",
          "output_type": "stream",
          "text": [
            "Epoch: [135/200], Train Loss: 2.1177: 100%|██████████| 590/590 [00:41<00:00, 14.35it/s]\n"
          ]
        },
        {
          "name": "stdout",
          "output_type": "stream",
          "text": [
            "Epoch [135/200], Val Loss: 2.5786\n"
          ]
        },
        {
          "name": "stderr",
          "output_type": "stream",
          "text": [
            "Epoch: [136/200], Train Loss: 1.9200: 100%|██████████| 590/590 [00:40<00:00, 14.40it/s]\n"
          ]
        },
        {
          "name": "stdout",
          "output_type": "stream",
          "text": [
            "Epoch [136/200], Val Loss: 2.5887\n"
          ]
        },
        {
          "name": "stderr",
          "output_type": "stream",
          "text": [
            "Epoch: [137/200], Train Loss: 2.5313: 100%|██████████| 590/590 [00:41<00:00, 14.28it/s]\n"
          ]
        },
        {
          "name": "stdout",
          "output_type": "stream",
          "text": [
            "Epoch [137/200], Val Loss: 2.5520\n"
          ]
        },
        {
          "name": "stderr",
          "output_type": "stream",
          "text": [
            "Epoch: [138/200], Train Loss: 1.5337: 100%|██████████| 590/590 [00:42<00:00, 14.04it/s]\n"
          ]
        },
        {
          "name": "stdout",
          "output_type": "stream",
          "text": [
            "Epoch [138/200], Val Loss: 2.5569\n"
          ]
        },
        {
          "name": "stderr",
          "output_type": "stream",
          "text": [
            "Epoch: [139/200], Train Loss: 1.6846: 100%|██████████| 590/590 [00:42<00:00, 13.85it/s]\n"
          ]
        },
        {
          "name": "stdout",
          "output_type": "stream",
          "text": [
            "Epoch [139/200], Val Loss: 2.5521\n"
          ]
        },
        {
          "name": "stderr",
          "output_type": "stream",
          "text": [
            "Epoch: [140/200], Train Loss: 0.9661: 100%|██████████| 590/590 [00:42<00:00, 14.04it/s]\n"
          ]
        },
        {
          "name": "stdout",
          "output_type": "stream",
          "text": [
            "Epoch [140/200], Val Loss: 2.4967\n"
          ]
        },
        {
          "name": "stderr",
          "output_type": "stream",
          "text": [
            "Epoch: [141/200], Train Loss: 1.5358: 100%|██████████| 590/590 [00:41<00:00, 14.09it/s]\n"
          ]
        },
        {
          "name": "stdout",
          "output_type": "stream",
          "text": [
            "Epoch [141/200], Val Loss: 2.6107\n"
          ]
        },
        {
          "name": "stderr",
          "output_type": "stream",
          "text": [
            "Epoch: [142/200], Train Loss: 2.0793: 100%|██████████| 590/590 [00:41<00:00, 14.09it/s]\n"
          ]
        },
        {
          "name": "stdout",
          "output_type": "stream",
          "text": [
            "Epoch [142/200], Val Loss: 2.5870\n"
          ]
        },
        {
          "name": "stderr",
          "output_type": "stream",
          "text": [
            "Epoch: [143/200], Train Loss: 1.9145: 100%|██████████| 590/590 [00:42<00:00, 13.81it/s]\n"
          ]
        },
        {
          "name": "stdout",
          "output_type": "stream",
          "text": [
            "Epoch [143/200], Val Loss: 2.4911\n"
          ]
        },
        {
          "name": "stderr",
          "output_type": "stream",
          "text": [
            "Epoch: [144/200], Train Loss: 1.6193: 100%|██████████| 590/590 [00:41<00:00, 14.15it/s]\n"
          ]
        },
        {
          "name": "stdout",
          "output_type": "stream",
          "text": [
            "Epoch [144/200], Val Loss: 2.5528\n"
          ]
        },
        {
          "name": "stderr",
          "output_type": "stream",
          "text": [
            "Epoch: [145/200], Train Loss: 3.3764: 100%|██████████| 590/590 [00:41<00:00, 14.05it/s]\n"
          ]
        },
        {
          "name": "stdout",
          "output_type": "stream",
          "text": [
            "Epoch [145/200], Val Loss: 2.5375\n"
          ]
        },
        {
          "name": "stderr",
          "output_type": "stream",
          "text": [
            "Epoch: [146/200], Train Loss: 1.6138: 100%|██████████| 590/590 [00:41<00:00, 14.07it/s]\n"
          ]
        },
        {
          "name": "stdout",
          "output_type": "stream",
          "text": [
            "Epoch [146/200], Val Loss: 2.5235\n"
          ]
        },
        {
          "name": "stderr",
          "output_type": "stream",
          "text": [
            "Epoch: [147/200], Train Loss: 1.3798: 100%|██████████| 590/590 [00:42<00:00, 14.03it/s]\n"
          ]
        },
        {
          "name": "stdout",
          "output_type": "stream",
          "text": [
            "Epoch [147/200], Val Loss: 2.5496\n"
          ]
        },
        {
          "name": "stderr",
          "output_type": "stream",
          "text": [
            "Epoch: [148/200], Train Loss: 1.7276: 100%|██████████| 590/590 [00:41<00:00, 14.15it/s]\n"
          ]
        },
        {
          "name": "stdout",
          "output_type": "stream",
          "text": [
            "Epoch [148/200], Val Loss: 2.5740\n"
          ]
        },
        {
          "name": "stderr",
          "output_type": "stream",
          "text": [
            "Epoch: [149/200], Train Loss: 2.9918: 100%|██████████| 590/590 [00:41<00:00, 14.11it/s]\n"
          ]
        },
        {
          "name": "stdout",
          "output_type": "stream",
          "text": [
            "Epoch [149/200], Val Loss: 2.5163\n"
          ]
        },
        {
          "name": "stderr",
          "output_type": "stream",
          "text": [
            "Epoch: [150/200], Train Loss: 1.6871: 100%|██████████| 590/590 [00:41<00:00, 14.10it/s]\n"
          ]
        },
        {
          "name": "stdout",
          "output_type": "stream",
          "text": [
            "Epoch [150/200], Val Loss: 2.5432\n"
          ]
        },
        {
          "name": "stderr",
          "output_type": "stream",
          "text": [
            "Epoch: [151/200], Train Loss: 1.5112: 100%|██████████| 590/590 [00:42<00:00, 13.96it/s]\n"
          ]
        },
        {
          "name": "stdout",
          "output_type": "stream",
          "text": [
            "Epoch [151/200], Val Loss: 2.4949\n",
            "Training complete.\n"
          ]
        },
        {
          "data": {
            "image/png": "[encoded data removed]",
            "text/plain": [
              "<Figure size 640x480 with 1 Axes>"
            ]
          },
          "metadata": {},
          "output_type": "display_data"
        }
      ],
      "source": [
        "import tqdm\n",
        "\n",
        "es = EarlyStopping(patience=20, min_delta=0, restore_best_weights=True)\n",
        "\n",
        "\n",
        "epoch_train_loss = []\n",
        "epoch_val_loss = []\n",
        "\n",
        "num_epochs = 200\n",
        "for epoch in range(num_epochs):\n",
        "    # Train\n",
        "    train_loss = []\n",
        "    resnet50.train()\n",
        "    pbar = tqdm.tqdm(trainLoader, total=len(trainLoader))\n",
        "    for images, labels in pbar:\n",
        "        images = images.to(\"cuda\")\n",
        "        labels = labels.to(\"cuda\")\n",
        "\n",
        "        optimizer.zero_grad()\n",
        "        outputs = resnet50(images)\n",
        "        loss = loss_function(outputs, labels)\n",
        "        loss.backward()\n",
        "        optimizer.step()\n",
        "\n",
        "        train_loss.append(loss.item())\n",
        "        pbar.set_description(f\"Epoch: [{epoch + 1}/{num_epochs}], Train Loss: {loss.item():.4f}\")\n",
        "\n",
        "    avg_train_loss = np.mean(train_loss)\n",
        "    epoch_train_loss.append(avg_train_loss)\n",
        "\n",
        "    # Validation\n",
        "    resnet50.eval()\n",
        "    val_loss = []\n",
        "    with torch.no_grad():\n",
        "        for images, labels in valLoader:\n",
        "            images = images.to(\"cuda\")\n",
        "            labels = labels.to(\"cuda\")\n",
        "            outputs = resnet50(images)\n",
        "            loss = loss_function(outputs, labels)\n",
        "            val_loss.append(loss.item())\n",
        "\n",
        "    avg_val_loss = np.mean(val_loss)\n",
        "    epoch_val_loss.append(avg_val_loss)\n",
        "    print(f'Epoch [{epoch + 1}/{num_epochs}], Val Loss: {np.mean(avg_val_loss):.4f}')\n",
        "\n",
        "    # Check for ES\n",
        "    if es(resnet50, avg_val_loss):\n",
        "        pbar.set_description(f\"Epoch: {epoch+1}, Train Loss: {avg_train_loss:.4f}, Val Loss: {avg_val_loss:.4f}, {es.status}\")\n",
        "        break\n",
        "    else:\n",
        "        pbar.set_description(f\"Epoch: {epoch+1}, Train Loss: {avg_train_loss:.4f}, Val Loss: {avg_val_loss:.4f}\")\n",
        "\n",
        "print(\"Training complete.\")\n",
        "create_graph(epoch_train_loss, epoch_val_loss)\n"
      ]
    },
    {
      "cell_type": "code",
      "execution_count": 12,
      "metadata": {
        "colab": {
          "base_uri": "https://localhost:8080/"
        },
        "id": "eZH72MYZVluL",
        "outputId": "ea3f25a7-938b-4187-908a-df356a300da9"
      },
      "outputs": [
        {
          "name": "stdout",
          "output_type": "stream",
          "text": [
            "Test Accuracy:  0.37521222410865873\n"
          ]
        }
      ],
      "source": [
        "#Test the model\n",
        "y_test = []\n",
        "y_test_predict = []\n",
        "\n",
        "resnet50.eval()\n",
        "for images, labels in testLoader:\n",
        "    images = images.to(\"cuda\")\n",
        "    labels = labels.to(\"cuda\")\n",
        "\n",
        "    with torch.no_grad():\n",
        "        outputs = resnet50(images).cpu()\n",
        "        _, predicted = torch.max(outputs, 1)\n",
        "        y_test_predict.extend(predicted.numpy())\n",
        "        y_test.extend(labels.cpu().numpy())\n",
        "\n",
        "print(\"Test Accuracy: \", accuracy_score(y_test, y_test_predict))"
      ]
    },
    {
      "cell_type": "code",
      "execution_count": 13,
      "metadata": {
        "id": "k9HBcpNpVluL"
      },
      "outputs": [],
      "source": [
        "\n",
        "if run_on_local == 1:\n",
        "    save_path = './'\n",
        "else:\n",
        "    save_path = '/content/drive/MyDrive/ML_final/'\n",
        "\n",
        "torch.save({\n",
        "            'epoch': epoch,\n",
        "            'model_state_dict': resnet50.state_dict(),\n",
        "            'optimizer_state_dict': optimizer.state_dict(),\n",
        "            'loss': loss\n",
        "            }, save_path + '200_resnet50.pth')"
      ]
    },
    {
      "cell_type": "code",
      "execution_count": null,
      "metadata": {
        "colab": {
          "base_uri": "https://localhost:8080/"
        },
        "id": "BuzEDv-JVluL",
        "outputId": "502b16cb-6d23-464e-f122-47cae4d9ff26"
      },
      "outputs": [
        {
          "data": {
            "text/plain": [
              "ResNet(\n",
              "  (conv1): Conv2d(3, 64, kernel_size=(7, 7), stride=(2, 2), padding=(3, 3), bias=False)\n",
              "  (bn1): BatchNorm2d(64, eps=1e-05, momentum=0.1, affine=True, track_running_stats=True)\n",
              "  (relu): ReLU(inplace=True)\n",
              "  (maxpool): MaxPool2d(kernel_size=3, stride=2, padding=1, dilation=1, ceil_mode=False)\n",
              "  (layer1): Sequential(\n",
              "    (0): Bottleneck(\n",
              "      (conv1): Conv2d(64, 64, kernel_size=(1, 1), stride=(1, 1), bias=False)\n",
              "      (bn1): BatchNorm2d(64, eps=1e-05, momentum=0.1, affine=True, track_running_stats=True)\n",
              "      (conv2): Conv2d(64, 64, kernel_size=(3, 3), stride=(1, 1), padding=(1, 1), bias=False)\n",
              "      (bn2): BatchNorm2d(64, eps=1e-05, momentum=0.1, affine=True, track_running_stats=True)\n",
              "      (conv3): Conv2d(64, 256, kernel_size=(1, 1), stride=(1, 1), bias=False)\n",
              "      (bn3): BatchNorm2d(256, eps=1e-05, momentum=0.1, affine=True, track_running_stats=True)\n",
              "      (relu): ReLU(inplace=True)\n",
              "      (downsample): Sequential(\n",
              "        (0): Conv2d(64, 256, kernel_size=(1, 1), stride=(1, 1), bias=False)\n",
              "        (1): BatchNorm2d(256, eps=1e-05, momentum=0.1, affine=True, track_running_stats=True)\n",
              "      )\n",
              "    )\n",
              "    (1): Bottleneck(\n",
              "      (conv1): Conv2d(256, 64, kernel_size=(1, 1), stride=(1, 1), bias=False)\n",
              "      (bn1): BatchNorm2d(64, eps=1e-05, momentum=0.1, affine=True, track_running_stats=True)\n",
              "      (conv2): Conv2d(64, 64, kernel_size=(3, 3), stride=(1, 1), padding=(1, 1), bias=False)\n",
              "      (bn2): BatchNorm2d(64, eps=1e-05, momentum=0.1, affine=True, track_running_stats=True)\n",
              "      (conv3): Conv2d(64, 256, kernel_size=(1, 1), stride=(1, 1), bias=False)\n",
              "      (bn3): BatchNorm2d(256, eps=1e-05, momentum=0.1, affine=True, track_running_stats=True)\n",
              "      (relu): ReLU(inplace=True)\n",
              "    )\n",
              "    (2): Bottleneck(\n",
              "      (conv1): Conv2d(256, 64, kernel_size=(1, 1), stride=(1, 1), bias=False)\n",
              "      (bn1): BatchNorm2d(64, eps=1e-05, momentum=0.1, affine=True, track_running_stats=True)\n",
              "      (conv2): Conv2d(64, 64, kernel_size=(3, 3), stride=(1, 1), padding=(1, 1), bias=False)\n",
              "      (bn2): BatchNorm2d(64, eps=1e-05, momentum=0.1, affine=True, track_running_stats=True)\n",
              "      (conv3): Conv2d(64, 256, kernel_size=(1, 1), stride=(1, 1), bias=False)\n",
              "      (bn3): BatchNorm2d(256, eps=1e-05, momentum=0.1, affine=True, track_running_stats=True)\n",
              "      (relu): ReLU(inplace=True)\n",
              "    )\n",
              "  )\n",
              "  (layer2): Sequential(\n",
              "    (0): Bottleneck(\n",
              "      (conv1): Conv2d(256, 128, kernel_size=(1, 1), stride=(1, 1), bias=False)\n",
              "      (bn1): BatchNorm2d(128, eps=1e-05, momentum=0.1, affine=True, track_running_stats=True)\n",
              "      (conv2): Conv2d(128, 128, kernel_size=(3, 3), stride=(2, 2), padding=(1, 1), bias=False)\n",
              "      (bn2): BatchNorm2d(128, eps=1e-05, momentum=0.1, affine=True, track_running_stats=True)\n",
              "      (conv3): Conv2d(128, 512, kernel_size=(1, 1), stride=(1, 1), bias=False)\n",
              "      (bn3): BatchNorm2d(512, eps=1e-05, momentum=0.1, affine=True, track_running_stats=True)\n",
              "      (relu): ReLU(inplace=True)\n",
              "      (downsample): Sequential(\n",
              "        (0): Conv2d(256, 512, kernel_size=(1, 1), stride=(2, 2), bias=False)\n",
              "        (1): BatchNorm2d(512, eps=1e-05, momentum=0.1, affine=True, track_running_stats=True)\n",
              "      )\n",
              "    )\n",
              "    (1): Bottleneck(\n",
              "      (conv1): Conv2d(512, 128, kernel_size=(1, 1), stride=(1, 1), bias=False)\n",
              "      (bn1): BatchNorm2d(128, eps=1e-05, momentum=0.1, affine=True, track_running_stats=True)\n",
              "      (conv2): Conv2d(128, 128, kernel_size=(3, 3), stride=(1, 1), padding=(1, 1), bias=False)\n",
              "      (bn2): BatchNorm2d(128, eps=1e-05, momentum=0.1, affine=True, track_running_stats=True)\n",
              "      (conv3): Conv2d(128, 512, kernel_size=(1, 1), stride=(1, 1), bias=False)\n",
              "      (bn3): BatchNorm2d(512, eps=1e-05, momentum=0.1, affine=True, track_running_stats=True)\n",
              "      (relu): ReLU(inplace=True)\n",
              "    )\n",
              "    (2): Bottleneck(\n",
              "      (conv1): Conv2d(512, 128, kernel_size=(1, 1), stride=(1, 1), bias=False)\n",
              "      (bn1): BatchNorm2d(128, eps=1e-05, momentum=0.1, affine=True, track_running_stats=True)\n",
              "      (conv2): Conv2d(128, 128, kernel_size=(3, 3), stride=(1, 1), padding=(1, 1), bias=False)\n",
              "      (bn2): BatchNorm2d(128, eps=1e-05, momentum=0.1, affine=True, track_running_stats=True)\n",
              "      (conv3): Conv2d(128, 512, kernel_size=(1, 1), stride=(1, 1), bias=False)\n",
              "      (bn3): BatchNorm2d(512, eps=1e-05, momentum=0.1, affine=True, track_running_stats=True)\n",
              "      (relu): ReLU(inplace=True)\n",
              "    )\n",
              "    (3): Bottleneck(\n",
              "      (conv1): Conv2d(512, 128, kernel_size=(1, 1), stride=(1, 1), bias=False)\n",
              "      (bn1): BatchNorm2d(128, eps=1e-05, momentum=0.1, affine=True, track_running_stats=True)\n",
              "      (conv2): Conv2d(128, 128, kernel_size=(3, 3), stride=(1, 1), padding=(1, 1), bias=False)\n",
              "      (bn2): BatchNorm2d(128, eps=1e-05, momentum=0.1, affine=True, track_running_stats=True)\n",
              "      (conv3): Conv2d(128, 512, kernel_size=(1, 1), stride=(1, 1), bias=False)\n",
              "      (bn3): BatchNorm2d(512, eps=1e-05, momentum=0.1, affine=True, track_running_stats=True)\n",
              "      (relu): ReLU(inplace=True)\n",
              "    )\n",
              "  )\n",
              "  (layer3): Sequential(\n",
              "    (0): Bottleneck(\n",
              "      (conv1): Conv2d(512, 256, kernel_size=(1, 1), stride=(1, 1), bias=False)\n",
              "      (bn1): BatchNorm2d(256, eps=1e-05, momentum=0.1, affine=True, track_running_stats=True)\n",
              "      (conv2): Conv2d(256, 256, kernel_size=(3, 3), stride=(2, 2), padding=(1, 1), bias=False)\n",
              "      (bn2): BatchNorm2d(256, eps=1e-05, momentum=0.1, affine=True, track_running_stats=True)\n",
              "      (conv3): Conv2d(256, 1024, kernel_size=(1, 1), stride=(1, 1), bias=False)\n",
              "      (bn3): BatchNorm2d(1024, eps=1e-05, momentum=0.1, affine=True, track_running_stats=True)\n",
              "      (relu): ReLU(inplace=True)\n",
              "      (downsample): Sequential(\n",
              "        (0): Conv2d(512, 1024, kernel_size=(1, 1), stride=(2, 2), bias=False)\n",
              "        (1): BatchNorm2d(1024, eps=1e-05, momentum=0.1, affine=True, track_running_stats=True)\n",
              "      )\n",
              "    )\n",
              "    (1): Bottleneck(\n",
              "      (conv1): Conv2d(1024, 256, kernel_size=(1, 1), stride=(1, 1), bias=False)\n",
              "      (bn1): BatchNorm2d(256, eps=1e-05, momentum=0.1, affine=True, track_running_stats=True)\n",
              "      (conv2): Conv2d(256, 256, kernel_size=(3, 3), stride=(1, 1), padding=(1, 1), bias=False)\n",
              "      (bn2): BatchNorm2d(256, eps=1e-05, momentum=0.1, affine=True, track_running_stats=True)\n",
              "      (conv3): Conv2d(256, 1024, kernel_size=(1, 1), stride=(1, 1), bias=False)\n",
              "      (bn3): BatchNorm2d(1024, eps=1e-05, momentum=0.1, affine=True, track_running_stats=True)\n",
              "      (relu): ReLU(inplace=True)\n",
              "    )\n",
              "    (2): Bottleneck(\n",
              "      (conv1): Conv2d(1024, 256, kernel_size=(1, 1), stride=(1, 1), bias=False)\n",
              "      (bn1): BatchNorm2d(256, eps=1e-05, momentum=0.1, affine=True, track_running_stats=True)\n",
              "      (conv2): Conv2d(256, 256, kernel_size=(3, 3), stride=(1, 1), padding=(1, 1), bias=False)\n",
              "      (bn2): BatchNorm2d(256, eps=1e-05, momentum=0.1, affine=True, track_running_stats=True)\n",
              "      (conv3): Conv2d(256, 1024, kernel_size=(1, 1), stride=(1, 1), bias=False)\n",
              "      (bn3): BatchNorm2d(1024, eps=1e-05, momentum=0.1, affine=True, track_running_stats=True)\n",
              "      (relu): ReLU(inplace=True)\n",
              "    )\n",
              "    (3): Bottleneck(\n",
              "      (conv1): Conv2d(1024, 256, kernel_size=(1, 1), stride=(1, 1), bias=False)\n",
              "      (bn1): BatchNorm2d(256, eps=1e-05, momentum=0.1, affine=True, track_running_stats=True)\n",
              "      (conv2): Conv2d(256, 256, kernel_size=(3, 3), stride=(1, 1), padding=(1, 1), bias=False)\n",
              "      (bn2): BatchNorm2d(256, eps=1e-05, momentum=0.1, affine=True, track_running_stats=True)\n",
              "      (conv3): Conv2d(256, 1024, kernel_size=(1, 1), stride=(1, 1), bias=False)\n",
              "      (bn3): BatchNorm2d(1024, eps=1e-05, momentum=0.1, affine=True, track_running_stats=True)\n",
              "      (relu): ReLU(inplace=True)\n",
              "    )\n",
              "    (4): Bottleneck(\n",
              "      (conv1): Conv2d(1024, 256, kernel_size=(1, 1), stride=(1, 1), bias=False)\n",
              "      (bn1): BatchNorm2d(256, eps=1e-05, momentum=0.1, affine=True, track_running_stats=True)\n",
              "      (conv2): Conv2d(256, 256, kernel_size=(3, 3), stride=(1, 1), padding=(1, 1), bias=False)\n",
              "      (bn2): BatchNorm2d(256, eps=1e-05, momentum=0.1, affine=True, track_running_stats=True)\n",
              "      (conv3): Conv2d(256, 1024, kernel_size=(1, 1), stride=(1, 1), bias=False)\n",
              "      (bn3): BatchNorm2d(1024, eps=1e-05, momentum=0.1, affine=True, track_running_stats=True)\n",
              "      (relu): ReLU(inplace=True)\n",
              "    )\n",
              "    (5): Bottleneck(\n",
              "      (conv1): Conv2d(1024, 256, kernel_size=(1, 1), stride=(1, 1), bias=False)\n",
              "      (bn1): BatchNorm2d(256, eps=1e-05, momentum=0.1, affine=True, track_running_stats=True)\n",
              "      (conv2): Conv2d(256, 256, kernel_size=(3, 3), stride=(1, 1), padding=(1, 1), bias=False)\n",
              "      (bn2): BatchNorm2d(256, eps=1e-05, momentum=0.1, affine=True, track_running_stats=True)\n",
              "      (conv3): Conv2d(256, 1024, kernel_size=(1, 1), stride=(1, 1), bias=False)\n",
              "      (bn3): BatchNorm2d(1024, eps=1e-05, momentum=0.1, affine=True, track_running_stats=True)\n",
              "      (relu): ReLU(inplace=True)\n",
              "    )\n",
              "  )\n",
              "  (layer4): Sequential(\n",
              "    (0): Bottleneck(\n",
              "      (conv1): Conv2d(1024, 512, kernel_size=(1, 1), stride=(1, 1), bias=False)\n",
              "      (bn1): BatchNorm2d(512, eps=1e-05, momentum=0.1, affine=True, track_running_stats=True)\n",
              "      (conv2): Conv2d(512, 512, kernel_size=(3, 3), stride=(2, 2), padding=(1, 1), bias=False)\n",
              "      (bn2): BatchNorm2d(512, eps=1e-05, momentum=0.1, affine=True, track_running_stats=True)\n",
              "      (conv3): Conv2d(512, 2048, kernel_size=(1, 1), stride=(1, 1), bias=False)\n",
              "      (bn3): BatchNorm2d(2048, eps=1e-05, momentum=0.1, affine=True, track_running_stats=True)\n",
              "      (relu): ReLU(inplace=True)\n",
              "      (downsample): Sequential(\n",
              "        (0): Conv2d(1024, 2048, kernel_size=(1, 1), stride=(2, 2), bias=False)\n",
              "        (1): BatchNorm2d(2048, eps=1e-05, momentum=0.1, affine=True, track_running_stats=True)\n",
              "      )\n",
              "    )\n",
              "    (1): Bottleneck(\n",
              "      (conv1): Conv2d(2048, 512, kernel_size=(1, 1), stride=(1, 1), bias=False)\n",
              "      (bn1): BatchNorm2d(512, eps=1e-05, momentum=0.1, affine=True, track_running_stats=True)\n",
              "      (conv2): Conv2d(512, 512, kernel_size=(3, 3), stride=(1, 1), padding=(1, 1), bias=False)\n",
              "      (bn2): BatchNorm2d(512, eps=1e-05, momentum=0.1, affine=True, track_running_stats=True)\n",
              "      (conv3): Conv2d(512, 2048, kernel_size=(1, 1), stride=(1, 1), bias=False)\n",
              "      (bn3): BatchNorm2d(2048, eps=1e-05, momentum=0.1, affine=True, track_running_stats=True)\n",
              "      (relu): ReLU(inplace=True)\n",
              "    )\n",
              "    (2): Bottleneck(\n",
              "      (conv1): Conv2d(2048, 512, kernel_size=(1, 1), stride=(1, 1), bias=False)\n",
              "      (bn1): BatchNorm2d(512, eps=1e-05, momentum=0.1, affine=True, track_running_stats=True)\n",
              "      (conv2): Conv2d(512, 512, kernel_size=(3, 3), stride=(1, 1), padding=(1, 1), bias=False)\n",
              "      (bn2): BatchNorm2d(512, eps=1e-05, momentum=0.1, affine=True, track_running_stats=True)\n",
              "      (conv3): Conv2d(512, 2048, kernel_size=(1, 1), stride=(1, 1), bias=False)\n",
              "      (bn3): BatchNorm2d(2048, eps=1e-05, momentum=0.1, affine=True, track_running_stats=True)\n",
              "      (relu): ReLU(inplace=True)\n",
              "    )\n",
              "  )\n",
              "  (avgpool): AdaptiveAvgPool2d(output_size=(1, 1))\n",
              "  (fc): Linear(in_features=2048, out_features=200, bias=True)\n",
              ")"
            ]
          },
          "execution_count": 17,
          "metadata": {},
          "output_type": "execute_result"
        }
      ],
      "source": [
        "# model = resnet50\n",
        "# optimizer = optimizer\n",
        "\n",
        "# checkpoint = torch.load(save_path + '200_resnet50.pth')\n",
        "# model.load_state_dict(checkpoint['model_state_dict'])\n",
        "# optimizer.load_state_dict(checkpoint['optimizer_state_dict'])\n",
        "# epoch = checkpoint['epoch']\n",
        "# loss = checkpoint['loss']\n",
        "\n",
        "# model.eval()"
      ]
    },
    {
      "cell_type": "code",
      "execution_count": null,
      "metadata": {
        "colab": {
          "base_uri": "https://localhost:8080/"
        },
        "id": "Cju-APWoVluL",
        "outputId": "6a26e41f-0e0b-4ac9-f697-4a82aced7968"
      },
      "outputs": [
        {
          "name": "stdout",
          "output_type": "stream",
          "text": [
            "008.Rhinoceros_Auklet\n"
          ]
        }
      ],
      "source": [
        "# import torch\n",
        "# import torchvision.transforms as transforms\n",
        "# from PIL import Image\n",
        "\n",
        "\n",
        "# #image_path = '/content/drive/MyDrive/ML_final/sootyalbatross.jpeg'  # Path to your test image\n",
        "# image_path = './LOFrJSL.jpeg'\n",
        "# image = Image.open(image_path)\n",
        "\n",
        "\n",
        "# transform = transforms.Compose([\n",
        "#     transforms.Resize((224, 224)),\n",
        "#     transforms.ToTensor(),\n",
        "#     transforms.Normalize(mean=[0.485, 0.456, 0.406], std=[0.229, 0.224, 0.225]),\n",
        "# ])\n",
        "\n",
        "# # Apply the transform to the image\n",
        "# input_tensor = transform(image)\n",
        "# input_tensor = input_tensor.unsqueeze(0)\n",
        "# input_tensor = input_tensor.to('cuda')\n",
        "\n",
        "# # Match classname to index\n",
        "# idx_to_class = {v: k for k, v in dataset.class_to_idx.items()}\n",
        "\n",
        "# # Predict\n",
        "# model.eval()\n",
        "# with torch.no_grad():\n",
        "#     output = model(input_tensor)\n",
        "#     _, predicted_index = torch.max(output, 1)\n",
        "#     predicted_index = predicted_index.item()\n",
        "\n",
        "# predicted_class_name = idx_to_class[predicted_index]\n",
        "# print(predicted_class_name)\n",
        "\n"
      ]
    }
  ],
  "metadata": {
    "accelerator": "GPU",
    "colab": {
      "gpuType": "T4",
      "provenance": []
    },
    "kernelspec": {
      "display_name": "Python 3",
      "name": "python3"
    },
    "language_info": {
      "codemirror_mode": {
        "name": "ipython",
        "version": 3
      },
      "file_extension": ".py",
      "mimetype": "text/x-python",
      "name": "python",
      "nbconvert_exporter": "python",
      "pygments_lexer": "ipython3",
      "version": "3.11.5"
    }
  },
  "nbformat": 4,
  "nbformat_minor": 0
}
